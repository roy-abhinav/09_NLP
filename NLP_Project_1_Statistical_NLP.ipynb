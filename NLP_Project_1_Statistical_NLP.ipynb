{
  "cells": [
    {
      "cell_type": "markdown",
      "metadata": {
        "id": "_dqRRx4j9jcI"
      },
      "source": [
        "# NLP Project 1 - Statistical NLP Project\n",
        "## Author: Abhinav Roy\n",
        "### Date - 20/05/2023"
      ]
    },
    {
      "cell_type": "code",
      "execution_count": null,
      "metadata": {
        "id": "Q-kYc3gh9W9E"
      },
      "outputs": [],
      "source": [
        "# import the important packages\n",
        "import pandas as pd #library used for data manipulation and analysis\n",
        "import numpy as np # library used for working with arrays.\n",
        "import matplotlib.pyplot as plt # library for plots and visualisations\n",
        "import seaborn as sns # library for visualisations\n",
        "import plotly.express as px # library for visualisations\n",
        "%matplotlib inline\n",
        "import missingno as msno\n",
        "import random\n",
        "import re\n",
        "\n",
        "import scipy.stats as stats # this library contains a large number of probability distributions as well as a growing library of statistical functions.\n",
        "from scipy.stats import *\n",
        "from scipy.spatial.distance import cdist\n",
        "from math import *\n",
        "'''\n",
        "!pip install pandasql\n",
        "import pandasql as psql\n",
        "from pandasql import sqldf\n",
        "'''\n",
        "import string\n",
        "alphabet = string.ascii_letters+string.punctuation\n",
        "\n",
        "from mpl_toolkits.mplot3d import Axes3D\n",
        "\n",
        "from patsy import dmatrices\n",
        "from statsmodels.stats.outliers_influence import variance_inflation_factor\n",
        "\n",
        "import time\n",
        "from datetime import datetime\n",
        "\n",
        "from collections import Counter\n",
        "\n",
        "import pickle\n",
        "import joblib\n",
        "\n",
        "import warnings # ignore warnings\n",
        "warnings.filterwarnings(\"ignore\")"
      ]
    },
    {
      "cell_type": "code",
      "execution_count": null,
      "metadata": {
        "id": "nRbNYyzT_6Gg"
      },
      "outputs": [],
      "source": [
        "# import machine learning algorithms\n",
        "from sklearn.preprocessing import LabelEncoder, MinMaxScaler, StandardScaler\n",
        "from sklearn.model_selection import train_test_split\n",
        "from sklearn import metrics\n",
        "#from sklearn.metrics import classification_report, confusion_matrix , accuracy_score\n",
        "from sklearn.metrics import *\n",
        "from sklearn import model_selection\n",
        "#from sklearn.model_selection import cross_val_score, cross_validate, GridSearchCV, learning_curve\n",
        "from sklearn.model_selection import *\n",
        "from sklearn.linear_model import LinearRegression, LogisticRegression, Ridge, Lasso\n",
        "from sklearn.naive_bayes import GaussianNB\n",
        "from sklearn.neighbors import KNeighborsClassifier\n",
        "from sklearn.svm import SVC\n",
        "from sklearn.tree import DecisionTreeRegressor, DecisionTreeClassifier\n",
        "#from sklearn.ensemble import BaggingRegressor, RandomForestRegressor, GradientBoostingRegressor, RandomForestClassifier\n",
        "from sklearn.ensemble import *\n",
        "#!pip install catboost\n",
        "#from catboost import CatBoostRegressor\n",
        "from lightgbm import LGBMRegressor\n",
        "from xgboost import XGBClassifier, XGBRegressor\n",
        "from sklearn.cluster import KMeans\n",
        "from sklearn.decomposition import PCA\n",
        "\n",
        "# install and import SMOTE module from imblearn library\n",
        "#!pip install imblearn\n",
        "from imblearn.over_sampling import RandomOverSampler, SMOTENC, SMOTE\n",
        "\n",
        "#!pip install eli5\n",
        "#import eli5"
      ]
    },
    {
      "cell_type": "code",
      "execution_count": null,
      "metadata": {
        "colab": {
          "base_uri": "https://localhost:8080/"
        },
        "id": "8fzPPxSt_-So",
        "outputId": "ee7a6fa7-19ca-45d2-a1d4-4db4769ec02b"
      },
      "outputs": [
        {
          "output_type": "stream",
          "name": "stdout",
          "text": [
            "2.12.0\n"
          ]
        }
      ],
      "source": [
        "# import Neural Network libraries\n",
        "import tensorflow \n",
        "print(tensorflow.__version__)\n",
        "\n",
        "from keras.utils.np_utils import to_categorical\n",
        "from keras.utils.np_utils import *\n",
        "from keras.models import Sequential # Forward prop\n",
        "#from keras.layers import Dense, Activation, Dropout, BatchNormalization, LayerNormalization, SwitchableNormalization, LeakyReLU, ELU, Flatten\n",
        "#from keras.layers import Conv2D, MaxPooling2D\n",
        "from keras.layers import *\n",
        "from keras import optimizers\n",
        "#from keras.optimizers import Adamax\n",
        "from keras.optimizers import *\n",
        "\n",
        "from keras.preprocessing.image import ImageDataGenerator\n",
        "\n",
        "#Creating three callbacks - checkpoints, reduce_lr and early stopping\n",
        "\n",
        "from keras.callbacks import ModelCheckpoint, ReduceLROnPlateau, EarlyStopping\n",
        "\n",
        "#!pip install tflearn  # install tflearn\n",
        "\n",
        "import os\n",
        "import zipfile\n",
        "import cv2\n",
        "import dlib\n",
        "from multiprocessing import Pool\n",
        "\n",
        "from keras.models import Model\n",
        "from keras.layers import Concatenate, UpSampling2D, Conv2D, Reshape\n",
        "from keras.applications.mobilenet import preprocess_input, MobileNet\n",
        "import keras.utils as image\n",
        "\n",
        "from tensorflow.keras.losses import binary_crossentropy\n",
        "from tensorflow.keras.backend import log, epsilon"
      ]
    },
    {
      "cell_type": "code",
      "execution_count": null,
      "metadata": {
        "colab": {
          "base_uri": "https://localhost:8080/"
        },
        "id": "-xT56mfiQ2G5",
        "outputId": "54f40321-df49-4009-ce66-6a8ca40a2e6e"
      },
      "outputs": [
        {
          "output_type": "stream",
          "name": "stdout",
          "text": [
            "Looking in indexes: https://pypi.org/simple, https://us-python.pkg.dev/colab-wheels/public/simple/\n",
            "Collecting langdetect\n",
            "  Downloading langdetect-1.0.9.tar.gz (981 kB)\n",
            "\u001b[2K     \u001b[90m━━━━━━━━━━━━━━━━━━━━━━━━━━━━━━━━━━━━━━\u001b[0m \u001b[32m981.5/981.5 kB\u001b[0m \u001b[31m12.6 MB/s\u001b[0m eta \u001b[36m0:00:00\u001b[0m\n",
            "\u001b[?25h  Preparing metadata (setup.py) ... \u001b[?25l\u001b[?25hdone\n",
            "Requirement already satisfied: six in /usr/local/lib/python3.10/dist-packages (from langdetect) (1.16.0)\n",
            "Building wheels for collected packages: langdetect\n",
            "  Building wheel for langdetect (setup.py) ... \u001b[?25l\u001b[?25hdone\n",
            "  Created wheel for langdetect: filename=langdetect-1.0.9-py3-none-any.whl size=993224 sha256=f964148d81b3693e42978444cb3d75590f4e77ee56a6a379df06327178ad4bee\n",
            "  Stored in directory: /root/.cache/pip/wheels/95/03/7d/59ea870c70ce4e5a370638b5462a7711ab78fba2f655d05106\n",
            "Successfully built langdetect\n",
            "Installing collected packages: langdetect\n",
            "Successfully installed langdetect-1.0.9\n"
          ]
        },
        {
          "output_type": "stream",
          "name": "stderr",
          "text": [
            "[nltk_data] Downloading package stopwords to /root/nltk_data...\n",
            "[nltk_data]   Unzipping corpora/stopwords.zip.\n",
            "[nltk_data] Downloading package punkt to /root/nltk_data...\n",
            "[nltk_data]   Unzipping tokenizers/punkt.zip.\n",
            "[nltk_data] Downloading package wordnet to /root/nltk_data...\n"
          ]
        },
        {
          "output_type": "execute_result",
          "data": {
            "text/plain": [
              "True"
            ]
          },
          "metadata": {},
          "execution_count": 4
        }
      ],
      "source": [
        "!pip install langdetect\n",
        "from langdetect import detect\n",
        "import re\n",
        "import nltk\n",
        "nltk.download('stopwords') \n",
        "from nltk.corpus import stopwords\n",
        "nltk.download('punkt') \n",
        "from nltk.tokenize import word_tokenize\n",
        "import nltk\n",
        "nltk.download('wordnet')"
      ]
    },
    {
      "cell_type": "code",
      "execution_count": null,
      "metadata": {
        "colab": {
          "base_uri": "https://localhost:8080/"
        },
        "id": "E1xPyolVAAAb",
        "outputId": "a36e8bcf-0c8c-4ac6-f95e-ce4ae32f2b83"
      },
      "outputs": [
        {
          "output_type": "stream",
          "name": "stdout",
          "text": [
            "Mounted at /content/drive\n"
          ]
        }
      ],
      "source": [
        "# mount drive onto colab\n",
        "from google.colab import drive\n",
        "drive.mount('/content/drive')"
      ]
    },
    {
      "cell_type": "markdown",
      "metadata": {
        "id": "CfOJOH9LCfKH"
      },
      "source": [
        "## Part A\n",
        "\n"
      ]
    },
    {
      "cell_type": "markdown",
      "metadata": {
        "id": "O1qAJL1-_pI6"
      },
      "source": [
        "•\tDOMAIN: Digital content management\n",
        "•\tCONTEXT: Classification is probably the most popular task that you would deal with in real life. Text in the form of blogs, posts, articles, etc. are written every second. It is a challenge to predict the information about the writer without knowing about him/her. We are going to create a classifier that predicts multiple features of the author of a given text. We have designed it as a Multi label classification problem.\n",
        "•\tDATA DESCRIPTION: Over 600,000 posts from more than 19 thousand bloggers The Blog Authorship Corpus consists of the collected posts of 19,320 bloggers gathered from blogger.com in August 2004. The corpus incorporates a total of 681,288 posts and over 140 million words - or approximately 35 posts and 7250 words per person. Each blog is presented as a separate file, the name of which indicates a blogger id# and the blogger’s self-provided gender, age, industry, and astrological sign. (All are labelled for gender and age but for many, industry and/or sign is marked as unknown.) All bloggers included in the corpus fall into one of three age groups:\n",
        "•\t8240 \"10s\" blogs (ages 13-17),\n",
        "•\t8086 \"20s\" blogs(ages 23-27) and\n",
        "•\t2994 \"30s\" blogs (ages 33-47)\n",
        "•\tFor each age group, there is an equal number of male and female bloggers. Each blog in the corpus includes at least 200 occurrences of common English words. All formatting has been stripped with two exceptions. Individual posts within a single blogger are separated by the date of the following post and links within a post are denoted by the label url link.\n",
        "•\tPROJECT OBJECTIVE: To build a NLP classifier which can use input text parameters to determine the label/s of the blog. Specific to this case study, you can consider the text of the blog: ‘text’ feature as independent variable and ‘topic’ as dependent variable.\n",
        "Steps and tasks: [ Total Score: 40 Marks]\n",
        "1.\tRead and Analyse Dataset. [5 Marks]\n",
        "A.\tClearly write outcome of data analysis(Minimum 2 points) [2 Marks]\n",
        "B.\tClean the Structured Data [3 Marks]\n",
        "i.\tMissing value analysis and imputation. [1 Marks]\n",
        "ii.\tEliminate Non-English textual data. [2 Marks]\n",
        "Hint: Refer ‘langdetect’ library to detect language of the input text)\n",
        "2.\tPreprocess unstructured data to make it consumable for model training. [5 Marks]\n",
        "A.\tEliminate All special Characters and Numbers [2 Marks]\n",
        "B.\tLowercase all textual data [1 Marks]\n",
        "C.\tRemove all Stopwords [1 Marks]\n",
        " \n",
        "D.\tRemove all extra white spaces [1 Marks]\n",
        "3.\tBuild a base Classification model [8 Marks]\n",
        "A.\tCreate dependent and independent variables [2 Marks] Hint: Treat ‘topic’ as a Target variable.\n",
        "B.\tSplit data into train and test. [1 Marks]\n",
        "C.\tVectorize data using any one vectorizer. [2 Marks]\n",
        "D.\tBuild a base model for Supervised Learning - Classification. [2 Marks]\n",
        "E.\tClearly print Performance Metrics. [1 Marks] Hint: Accuracy, Precision, Recall, ROC-AUC\n",
        "4.\tImprove Performance of model. [14 Marks]\n",
        "A.\tExperiment with other vectorisers. [4 Marks]\n",
        "B.\tBuild classifier Models using other algorithms than base model. [4 Marks]\n",
        "C.\tTune Parameters/Hyperparameters of the model/s. [4 Marks]\n",
        "D.\tClearly print Performance Metrics. [2 Marks] Hint: Accuracy, Precision, Recall, ROC-AUC\n",
        "5.\tShare insights on relative performance comparison [8 Marks]\n",
        "A.\tWhich vectorizer performed better? Probable reason?. [2 Marks]\n",
        "B.\tWhich model outperformed? Probable reason? [2 Marks]\n",
        "C.\tWhich parameter/hyperparameter significantly helped to improve performance?Probable reason?. [2 Marks]\n",
        "D.\tAccording to you, which performance metric should be given most importance, why?. [2 Marks]\n"
      ]
    },
    {
      "cell_type": "markdown",
      "metadata": {
        "id": "0CsLd1_rCj5g"
      },
      "source": [
        "## 1.\tRead and Analyse Dataset. "
      ]
    },
    {
      "cell_type": "code",
      "execution_count": null,
      "metadata": {
        "id": "sOYwHK1bClTr"
      },
      "outputs": [],
      "source": [
        "# Extract the zip file\n",
        "with zipfile.ZipFile('/content/drive/MyDrive/Great_Learning_Repos/00/04_GL_Projects/09_NLP/blogs.zip', 'r') as zip_ref:\n",
        "    zip_ref.extractall('blogs')"
      ]
    },
    {
      "cell_type": "code",
      "execution_count": null,
      "metadata": {
        "colab": {
          "base_uri": "https://localhost:8080/"
        },
        "id": "1syaYRnQEo_z",
        "outputId": "e48ef3df-4a9b-41ea-92d6-8eb890b0cf40"
      },
      "outputs": [
        {
          "output_type": "stream",
          "name": "stdout",
          "text": [
            "[]\n"
          ]
        }
      ],
      "source": [
        "# Check for sub directories in blogs folder\n",
        "# define the directory path\n",
        "dir_path = \"blogs/\"\n",
        "\n",
        "# get all subdirectories in the directory\n",
        "subdirs = [f.path for f in os.scandir(dir_path) if f.is_dir()]\n",
        "\n",
        "# print the list of subdirectories\n",
        "print(subdirs)"
      ]
    },
    {
      "cell_type": "code",
      "execution_count": null,
      "metadata": {
        "colab": {
          "base_uri": "https://localhost:8080/"
        },
        "id": "5X7A5WOOJo3I",
        "outputId": "d9dc1031-bb96-49b2-badb-02bc29a0bfa1"
      },
      "outputs": [
        {
          "output_type": "stream",
          "name": "stdout",
          "text": [
            "True\n"
          ]
        }
      ],
      "source": [
        "# Check if blogtext file exists in the subfolder\n",
        "print(os.path.exists('blogs/blogtext.csv'))"
      ]
    },
    {
      "cell_type": "code",
      "execution_count": null,
      "metadata": {
        "id": "FGclPbXoKKTK"
      },
      "outputs": [],
      "source": [
        "# Read and Analyze Dataset\n",
        "df = pd.read_csv('blogs/blogtext.csv')"
      ]
    },
    {
      "cell_type": "code",
      "execution_count": null,
      "metadata": {
        "colab": {
          "base_uri": "https://localhost:8080/",
          "height": 363
        },
        "id": "XatcGiaNKN7u",
        "outputId": "bf6c29fc-cbcb-45d5-a901-aea72cf718df"
      },
      "outputs": [
        {
          "output_type": "execute_result",
          "data": {
            "text/plain": [
              "             id  gender  age        topic       sign              date  \\\n",
              "255161  3441279  female   44       indUnk  Capricorn       24,May,2004   \n",
              "580939  2021701    male   17  Engineering      Libra       13,May,2004   \n",
              "418298  1239610    male   17       indUnk    Scorpio       03,May,2004   \n",
              "516277  3386364    male   23      Science      Virgo      06,July,2004   \n",
              "17719   3951680  female   14       indUnk     Gemini    01,August,2004   \n",
              "238086   449628    male   34       indUnk      Aries  15,December,2003   \n",
              "586616   944569  female   14      Student        Leo   09,October,2003   \n",
              "435673  2151828    male   17       indUnk     Gemini       08,May,2004   \n",
              "635237  2637211  female   23      Student  Capricorn    01,August,2004   \n",
              "423238  3340219    male   45   Technology      Virgo    03,lipiec,2004   \n",
              "\n",
              "                                                     text  \n",
              "255161              Do You Know?      TUSMO  1. Uunka ...  \n",
              "580939                   This msg goes 2 evry1 esp. WI...  \n",
              "418298         18th party on Friday and Palace on Satu...  \n",
              "516277                    urlLink    Yup, this dude is...  \n",
              "17719          well i decided that it would be easier ...  \n",
              "238086              'My Karma ran over your dogma.'  -...  \n",
              "586616             Psycho dreams about hurting someone...  \n",
              "435673                   Indeed. Anyway, i got the str...  \n",
              "635237                   Blech. I have to go to the li...  \n",
              "423238         Rozmowa z M. Kay czołowym autorem książ...  "
            ],
            "text/html": [
              "\n",
              "  <div id=\"df-5f17839a-0075-40cb-ba72-fc2532d164d7\">\n",
              "    <div class=\"colab-df-container\">\n",
              "      <div>\n",
              "<style scoped>\n",
              "    .dataframe tbody tr th:only-of-type {\n",
              "        vertical-align: middle;\n",
              "    }\n",
              "\n",
              "    .dataframe tbody tr th {\n",
              "        vertical-align: top;\n",
              "    }\n",
              "\n",
              "    .dataframe thead th {\n",
              "        text-align: right;\n",
              "    }\n",
              "</style>\n",
              "<table border=\"1\" class=\"dataframe\">\n",
              "  <thead>\n",
              "    <tr style=\"text-align: right;\">\n",
              "      <th></th>\n",
              "      <th>id</th>\n",
              "      <th>gender</th>\n",
              "      <th>age</th>\n",
              "      <th>topic</th>\n",
              "      <th>sign</th>\n",
              "      <th>date</th>\n",
              "      <th>text</th>\n",
              "    </tr>\n",
              "  </thead>\n",
              "  <tbody>\n",
              "    <tr>\n",
              "      <th>255161</th>\n",
              "      <td>3441279</td>\n",
              "      <td>female</td>\n",
              "      <td>44</td>\n",
              "      <td>indUnk</td>\n",
              "      <td>Capricorn</td>\n",
              "      <td>24,May,2004</td>\n",
              "      <td>Do You Know?      TUSMO  1. Uunka ...</td>\n",
              "    </tr>\n",
              "    <tr>\n",
              "      <th>580939</th>\n",
              "      <td>2021701</td>\n",
              "      <td>male</td>\n",
              "      <td>17</td>\n",
              "      <td>Engineering</td>\n",
              "      <td>Libra</td>\n",
              "      <td>13,May,2004</td>\n",
              "      <td>This msg goes 2 evry1 esp. WI...</td>\n",
              "    </tr>\n",
              "    <tr>\n",
              "      <th>418298</th>\n",
              "      <td>1239610</td>\n",
              "      <td>male</td>\n",
              "      <td>17</td>\n",
              "      <td>indUnk</td>\n",
              "      <td>Scorpio</td>\n",
              "      <td>03,May,2004</td>\n",
              "      <td>18th party on Friday and Palace on Satu...</td>\n",
              "    </tr>\n",
              "    <tr>\n",
              "      <th>516277</th>\n",
              "      <td>3386364</td>\n",
              "      <td>male</td>\n",
              "      <td>23</td>\n",
              "      <td>Science</td>\n",
              "      <td>Virgo</td>\n",
              "      <td>06,July,2004</td>\n",
              "      <td>urlLink    Yup, this dude is...</td>\n",
              "    </tr>\n",
              "    <tr>\n",
              "      <th>17719</th>\n",
              "      <td>3951680</td>\n",
              "      <td>female</td>\n",
              "      <td>14</td>\n",
              "      <td>indUnk</td>\n",
              "      <td>Gemini</td>\n",
              "      <td>01,August,2004</td>\n",
              "      <td>well i decided that it would be easier ...</td>\n",
              "    </tr>\n",
              "    <tr>\n",
              "      <th>238086</th>\n",
              "      <td>449628</td>\n",
              "      <td>male</td>\n",
              "      <td>34</td>\n",
              "      <td>indUnk</td>\n",
              "      <td>Aries</td>\n",
              "      <td>15,December,2003</td>\n",
              "      <td>'My Karma ran over your dogma.'  -...</td>\n",
              "    </tr>\n",
              "    <tr>\n",
              "      <th>586616</th>\n",
              "      <td>944569</td>\n",
              "      <td>female</td>\n",
              "      <td>14</td>\n",
              "      <td>Student</td>\n",
              "      <td>Leo</td>\n",
              "      <td>09,October,2003</td>\n",
              "      <td>Psycho dreams about hurting someone...</td>\n",
              "    </tr>\n",
              "    <tr>\n",
              "      <th>435673</th>\n",
              "      <td>2151828</td>\n",
              "      <td>male</td>\n",
              "      <td>17</td>\n",
              "      <td>indUnk</td>\n",
              "      <td>Gemini</td>\n",
              "      <td>08,May,2004</td>\n",
              "      <td>Indeed. Anyway, i got the str...</td>\n",
              "    </tr>\n",
              "    <tr>\n",
              "      <th>635237</th>\n",
              "      <td>2637211</td>\n",
              "      <td>female</td>\n",
              "      <td>23</td>\n",
              "      <td>Student</td>\n",
              "      <td>Capricorn</td>\n",
              "      <td>01,August,2004</td>\n",
              "      <td>Blech. I have to go to the li...</td>\n",
              "    </tr>\n",
              "    <tr>\n",
              "      <th>423238</th>\n",
              "      <td>3340219</td>\n",
              "      <td>male</td>\n",
              "      <td>45</td>\n",
              "      <td>Technology</td>\n",
              "      <td>Virgo</td>\n",
              "      <td>03,lipiec,2004</td>\n",
              "      <td>Rozmowa z M. Kay czołowym autorem książ...</td>\n",
              "    </tr>\n",
              "  </tbody>\n",
              "</table>\n",
              "</div>\n",
              "      <button class=\"colab-df-convert\" onclick=\"convertToInteractive('df-5f17839a-0075-40cb-ba72-fc2532d164d7')\"\n",
              "              title=\"Convert this dataframe to an interactive table.\"\n",
              "              style=\"display:none;\">\n",
              "        \n",
              "  <svg xmlns=\"http://www.w3.org/2000/svg\" height=\"24px\"viewBox=\"0 0 24 24\"\n",
              "       width=\"24px\">\n",
              "    <path d=\"M0 0h24v24H0V0z\" fill=\"none\"/>\n",
              "    <path d=\"M18.56 5.44l.94 2.06.94-2.06 2.06-.94-2.06-.94-.94-2.06-.94 2.06-2.06.94zm-11 1L8.5 8.5l.94-2.06 2.06-.94-2.06-.94L8.5 2.5l-.94 2.06-2.06.94zm10 10l.94 2.06.94-2.06 2.06-.94-2.06-.94-.94-2.06-.94 2.06-2.06.94z\"/><path d=\"M17.41 7.96l-1.37-1.37c-.4-.4-.92-.59-1.43-.59-.52 0-1.04.2-1.43.59L10.3 9.45l-7.72 7.72c-.78.78-.78 2.05 0 2.83L4 21.41c.39.39.9.59 1.41.59.51 0 1.02-.2 1.41-.59l7.78-7.78 2.81-2.81c.8-.78.8-2.07 0-2.86zM5.41 20L4 18.59l7.72-7.72 1.47 1.35L5.41 20z\"/>\n",
              "  </svg>\n",
              "      </button>\n",
              "      \n",
              "  <style>\n",
              "    .colab-df-container {\n",
              "      display:flex;\n",
              "      flex-wrap:wrap;\n",
              "      gap: 12px;\n",
              "    }\n",
              "\n",
              "    .colab-df-convert {\n",
              "      background-color: #E8F0FE;\n",
              "      border: none;\n",
              "      border-radius: 50%;\n",
              "      cursor: pointer;\n",
              "      display: none;\n",
              "      fill: #1967D2;\n",
              "      height: 32px;\n",
              "      padding: 0 0 0 0;\n",
              "      width: 32px;\n",
              "    }\n",
              "\n",
              "    .colab-df-convert:hover {\n",
              "      background-color: #E2EBFA;\n",
              "      box-shadow: 0px 1px 2px rgba(60, 64, 67, 0.3), 0px 1px 3px 1px rgba(60, 64, 67, 0.15);\n",
              "      fill: #174EA6;\n",
              "    }\n",
              "\n",
              "    [theme=dark] .colab-df-convert {\n",
              "      background-color: #3B4455;\n",
              "      fill: #D2E3FC;\n",
              "    }\n",
              "\n",
              "    [theme=dark] .colab-df-convert:hover {\n",
              "      background-color: #434B5C;\n",
              "      box-shadow: 0px 1px 3px 1px rgba(0, 0, 0, 0.15);\n",
              "      filter: drop-shadow(0px 1px 2px rgba(0, 0, 0, 0.3));\n",
              "      fill: #FFFFFF;\n",
              "    }\n",
              "  </style>\n",
              "\n",
              "      <script>\n",
              "        const buttonEl =\n",
              "          document.querySelector('#df-5f17839a-0075-40cb-ba72-fc2532d164d7 button.colab-df-convert');\n",
              "        buttonEl.style.display =\n",
              "          google.colab.kernel.accessAllowed ? 'block' : 'none';\n",
              "\n",
              "        async function convertToInteractive(key) {\n",
              "          const element = document.querySelector('#df-5f17839a-0075-40cb-ba72-fc2532d164d7');\n",
              "          const dataTable =\n",
              "            await google.colab.kernel.invokeFunction('convertToInteractive',\n",
              "                                                     [key], {});\n",
              "          if (!dataTable) return;\n",
              "\n",
              "          const docLinkHtml = 'Like what you see? Visit the ' +\n",
              "            '<a target=\"_blank\" href=https://colab.research.google.com/notebooks/data_table.ipynb>data table notebook</a>'\n",
              "            + ' to learn more about interactive tables.';\n",
              "          element.innerHTML = '';\n",
              "          dataTable['output_type'] = 'display_data';\n",
              "          await google.colab.output.renderOutput(dataTable, element);\n",
              "          const docLink = document.createElement('div');\n",
              "          docLink.innerHTML = docLinkHtml;\n",
              "          element.appendChild(docLink);\n",
              "        }\n",
              "      </script>\n",
              "    </div>\n",
              "  </div>\n",
              "  "
            ]
          },
          "metadata": {},
          "execution_count": 10
        }
      ],
      "source": [
        "# Dataframe sample\n",
        "df.sample(10)"
      ]
    },
    {
      "cell_type": "code",
      "execution_count": null,
      "metadata": {
        "colab": {
          "base_uri": "https://localhost:8080/"
        },
        "id": "2sKO1itUKYHl",
        "outputId": "656746ab-a151-4e94-bd53-674e97989d6c"
      },
      "outputs": [
        {
          "output_type": "stream",
          "name": "stdout",
          "text": [
            "<class 'pandas.core.frame.DataFrame'>\n",
            "RangeIndex: 681284 entries, 0 to 681283\n",
            "Data columns (total 7 columns):\n",
            " #   Column  Non-Null Count   Dtype \n",
            "---  ------  --------------   ----- \n",
            " 0   id      681284 non-null  int64 \n",
            " 1   gender  681284 non-null  object\n",
            " 2   age     681284 non-null  int64 \n",
            " 3   topic   681284 non-null  object\n",
            " 4   sign    681284 non-null  object\n",
            " 5   date    681284 non-null  object\n",
            " 6   text    681284 non-null  object\n",
            "dtypes: int64(2), object(5)\n",
            "memory usage: 36.4+ MB\n"
          ]
        }
      ],
      "source": [
        "# Dataframe information\n",
        "df.info()"
      ]
    },
    {
      "cell_type": "code",
      "execution_count": null,
      "metadata": {
        "colab": {
          "base_uri": "https://localhost:8080/",
          "height": 269
        },
        "id": "FBcIzRjOLTed",
        "outputId": "ff0980a5-d1e3-43a1-8b4e-4a8df6ca68a3"
      },
      "outputs": [
        {
          "output_type": "execute_result",
          "data": {
            "text/plain": [
              "           count  unique                  top    freq            mean  \\\n",
              "id      681284.0     NaN                  NaN     NaN  2397802.403396   \n",
              "gender    681284       2                 male  345193             NaN   \n",
              "age     681284.0     NaN                  NaN     NaN       23.932326   \n",
              "topic     681284      40               indUnk  251015             NaN   \n",
              "sign      681284      12               Cancer   65048             NaN   \n",
              "date      681284    2616       02,August,2004   16544             NaN   \n",
              "text      681284  611652           urlLink        445             NaN   \n",
              "\n",
              "                   std     min        25%        50%        75%        max  \n",
              "id      1247722.701325  5114.0  1239610.0  2607577.0  3525660.0  4337650.0  \n",
              "gender             NaN     NaN        NaN        NaN        NaN        NaN  \n",
              "age           7.786009    13.0       17.0       24.0       26.0       48.0  \n",
              "topic              NaN     NaN        NaN        NaN        NaN        NaN  \n",
              "sign               NaN     NaN        NaN        NaN        NaN        NaN  \n",
              "date               NaN     NaN        NaN        NaN        NaN        NaN  \n",
              "text               NaN     NaN        NaN        NaN        NaN        NaN  "
            ],
            "text/html": [
              "\n",
              "  <div id=\"df-808639b4-43cf-4d70-8116-41d4fd8d75cf\">\n",
              "    <div class=\"colab-df-container\">\n",
              "      <div>\n",
              "<style scoped>\n",
              "    .dataframe tbody tr th:only-of-type {\n",
              "        vertical-align: middle;\n",
              "    }\n",
              "\n",
              "    .dataframe tbody tr th {\n",
              "        vertical-align: top;\n",
              "    }\n",
              "\n",
              "    .dataframe thead th {\n",
              "        text-align: right;\n",
              "    }\n",
              "</style>\n",
              "<table border=\"1\" class=\"dataframe\">\n",
              "  <thead>\n",
              "    <tr style=\"text-align: right;\">\n",
              "      <th></th>\n",
              "      <th>count</th>\n",
              "      <th>unique</th>\n",
              "      <th>top</th>\n",
              "      <th>freq</th>\n",
              "      <th>mean</th>\n",
              "      <th>std</th>\n",
              "      <th>min</th>\n",
              "      <th>25%</th>\n",
              "      <th>50%</th>\n",
              "      <th>75%</th>\n",
              "      <th>max</th>\n",
              "    </tr>\n",
              "  </thead>\n",
              "  <tbody>\n",
              "    <tr>\n",
              "      <th>id</th>\n",
              "      <td>681284.0</td>\n",
              "      <td>NaN</td>\n",
              "      <td>NaN</td>\n",
              "      <td>NaN</td>\n",
              "      <td>2397802.403396</td>\n",
              "      <td>1247722.701325</td>\n",
              "      <td>5114.0</td>\n",
              "      <td>1239610.0</td>\n",
              "      <td>2607577.0</td>\n",
              "      <td>3525660.0</td>\n",
              "      <td>4337650.0</td>\n",
              "    </tr>\n",
              "    <tr>\n",
              "      <th>gender</th>\n",
              "      <td>681284</td>\n",
              "      <td>2</td>\n",
              "      <td>male</td>\n",
              "      <td>345193</td>\n",
              "      <td>NaN</td>\n",
              "      <td>NaN</td>\n",
              "      <td>NaN</td>\n",
              "      <td>NaN</td>\n",
              "      <td>NaN</td>\n",
              "      <td>NaN</td>\n",
              "      <td>NaN</td>\n",
              "    </tr>\n",
              "    <tr>\n",
              "      <th>age</th>\n",
              "      <td>681284.0</td>\n",
              "      <td>NaN</td>\n",
              "      <td>NaN</td>\n",
              "      <td>NaN</td>\n",
              "      <td>23.932326</td>\n",
              "      <td>7.786009</td>\n",
              "      <td>13.0</td>\n",
              "      <td>17.0</td>\n",
              "      <td>24.0</td>\n",
              "      <td>26.0</td>\n",
              "      <td>48.0</td>\n",
              "    </tr>\n",
              "    <tr>\n",
              "      <th>topic</th>\n",
              "      <td>681284</td>\n",
              "      <td>40</td>\n",
              "      <td>indUnk</td>\n",
              "      <td>251015</td>\n",
              "      <td>NaN</td>\n",
              "      <td>NaN</td>\n",
              "      <td>NaN</td>\n",
              "      <td>NaN</td>\n",
              "      <td>NaN</td>\n",
              "      <td>NaN</td>\n",
              "      <td>NaN</td>\n",
              "    </tr>\n",
              "    <tr>\n",
              "      <th>sign</th>\n",
              "      <td>681284</td>\n",
              "      <td>12</td>\n",
              "      <td>Cancer</td>\n",
              "      <td>65048</td>\n",
              "      <td>NaN</td>\n",
              "      <td>NaN</td>\n",
              "      <td>NaN</td>\n",
              "      <td>NaN</td>\n",
              "      <td>NaN</td>\n",
              "      <td>NaN</td>\n",
              "      <td>NaN</td>\n",
              "    </tr>\n",
              "    <tr>\n",
              "      <th>date</th>\n",
              "      <td>681284</td>\n",
              "      <td>2616</td>\n",
              "      <td>02,August,2004</td>\n",
              "      <td>16544</td>\n",
              "      <td>NaN</td>\n",
              "      <td>NaN</td>\n",
              "      <td>NaN</td>\n",
              "      <td>NaN</td>\n",
              "      <td>NaN</td>\n",
              "      <td>NaN</td>\n",
              "      <td>NaN</td>\n",
              "    </tr>\n",
              "    <tr>\n",
              "      <th>text</th>\n",
              "      <td>681284</td>\n",
              "      <td>611652</td>\n",
              "      <td>urlLink</td>\n",
              "      <td>445</td>\n",
              "      <td>NaN</td>\n",
              "      <td>NaN</td>\n",
              "      <td>NaN</td>\n",
              "      <td>NaN</td>\n",
              "      <td>NaN</td>\n",
              "      <td>NaN</td>\n",
              "      <td>NaN</td>\n",
              "    </tr>\n",
              "  </tbody>\n",
              "</table>\n",
              "</div>\n",
              "      <button class=\"colab-df-convert\" onclick=\"convertToInteractive('df-808639b4-43cf-4d70-8116-41d4fd8d75cf')\"\n",
              "              title=\"Convert this dataframe to an interactive table.\"\n",
              "              style=\"display:none;\">\n",
              "        \n",
              "  <svg xmlns=\"http://www.w3.org/2000/svg\" height=\"24px\"viewBox=\"0 0 24 24\"\n",
              "       width=\"24px\">\n",
              "    <path d=\"M0 0h24v24H0V0z\" fill=\"none\"/>\n",
              "    <path d=\"M18.56 5.44l.94 2.06.94-2.06 2.06-.94-2.06-.94-.94-2.06-.94 2.06-2.06.94zm-11 1L8.5 8.5l.94-2.06 2.06-.94-2.06-.94L8.5 2.5l-.94 2.06-2.06.94zm10 10l.94 2.06.94-2.06 2.06-.94-2.06-.94-.94-2.06-.94 2.06-2.06.94z\"/><path d=\"M17.41 7.96l-1.37-1.37c-.4-.4-.92-.59-1.43-.59-.52 0-1.04.2-1.43.59L10.3 9.45l-7.72 7.72c-.78.78-.78 2.05 0 2.83L4 21.41c.39.39.9.59 1.41.59.51 0 1.02-.2 1.41-.59l7.78-7.78 2.81-2.81c.8-.78.8-2.07 0-2.86zM5.41 20L4 18.59l7.72-7.72 1.47 1.35L5.41 20z\"/>\n",
              "  </svg>\n",
              "      </button>\n",
              "      \n",
              "  <style>\n",
              "    .colab-df-container {\n",
              "      display:flex;\n",
              "      flex-wrap:wrap;\n",
              "      gap: 12px;\n",
              "    }\n",
              "\n",
              "    .colab-df-convert {\n",
              "      background-color: #E8F0FE;\n",
              "      border: none;\n",
              "      border-radius: 50%;\n",
              "      cursor: pointer;\n",
              "      display: none;\n",
              "      fill: #1967D2;\n",
              "      height: 32px;\n",
              "      padding: 0 0 0 0;\n",
              "      width: 32px;\n",
              "    }\n",
              "\n",
              "    .colab-df-convert:hover {\n",
              "      background-color: #E2EBFA;\n",
              "      box-shadow: 0px 1px 2px rgba(60, 64, 67, 0.3), 0px 1px 3px 1px rgba(60, 64, 67, 0.15);\n",
              "      fill: #174EA6;\n",
              "    }\n",
              "\n",
              "    [theme=dark] .colab-df-convert {\n",
              "      background-color: #3B4455;\n",
              "      fill: #D2E3FC;\n",
              "    }\n",
              "\n",
              "    [theme=dark] .colab-df-convert:hover {\n",
              "      background-color: #434B5C;\n",
              "      box-shadow: 0px 1px 3px 1px rgba(0, 0, 0, 0.15);\n",
              "      filter: drop-shadow(0px 1px 2px rgba(0, 0, 0, 0.3));\n",
              "      fill: #FFFFFF;\n",
              "    }\n",
              "  </style>\n",
              "\n",
              "      <script>\n",
              "        const buttonEl =\n",
              "          document.querySelector('#df-808639b4-43cf-4d70-8116-41d4fd8d75cf button.colab-df-convert');\n",
              "        buttonEl.style.display =\n",
              "          google.colab.kernel.accessAllowed ? 'block' : 'none';\n",
              "\n",
              "        async function convertToInteractive(key) {\n",
              "          const element = document.querySelector('#df-808639b4-43cf-4d70-8116-41d4fd8d75cf');\n",
              "          const dataTable =\n",
              "            await google.colab.kernel.invokeFunction('convertToInteractive',\n",
              "                                                     [key], {});\n",
              "          if (!dataTable) return;\n",
              "\n",
              "          const docLinkHtml = 'Like what you see? Visit the ' +\n",
              "            '<a target=\"_blank\" href=https://colab.research.google.com/notebooks/data_table.ipynb>data table notebook</a>'\n",
              "            + ' to learn more about interactive tables.';\n",
              "          element.innerHTML = '';\n",
              "          dataTable['output_type'] = 'display_data';\n",
              "          await google.colab.output.renderOutput(dataTable, element);\n",
              "          const docLink = document.createElement('div');\n",
              "          docLink.innerHTML = docLinkHtml;\n",
              "          element.appendChild(docLink);\n",
              "        }\n",
              "      </script>\n",
              "    </div>\n",
              "  </div>\n",
              "  "
            ]
          },
          "metadata": {},
          "execution_count": 12
        }
      ],
      "source": [
        "# Dataframe description\n",
        "df.describe(include = 'all').T"
      ]
    },
    {
      "cell_type": "code",
      "execution_count": null,
      "metadata": {
        "colab": {
          "base_uri": "https://localhost:8080/"
        },
        "id": "IJ9ZRFllYtEc",
        "outputId": "2f9478f5-aa92-4537-d181-b697664f39e4"
      },
      "outputs": [
        {
          "output_type": "execute_result",
          "data": {
            "text/plain": [
              "40"
            ]
          },
          "metadata": {},
          "execution_count": 13
        }
      ],
      "source": [
        "# Total individual classes in Target variable\n",
        "df['topic'].nunique()"
      ]
    },
    {
      "cell_type": "code",
      "execution_count": null,
      "metadata": {
        "colab": {
          "base_uri": "https://localhost:8080/"
        },
        "id": "9i-m61UBYwAP",
        "outputId": "5dc60fdb-a93d-4a3c-dd74-a36cb11b47dd"
      },
      "outputs": [
        {
          "output_type": "execute_result",
          "data": {
            "text/plain": [
              "topic\n",
              "indUnk                     251015\n",
              "Student                    153903\n",
              "Technology                  42055\n",
              "Arts                        32449\n",
              "Education                   29633\n",
              "Communications-Media        20140\n",
              "Internet                    16006\n",
              "Non-Profit                  14700\n",
              "Engineering                 11653\n",
              "Law                          9040\n",
              "Publishing                   7753\n",
              "Science                      7269\n",
              "Government                   6907\n",
              "Consulting                   5862\n",
              "Religion                     5235\n",
              "Fashion                      4851\n",
              "Marketing                    4769\n",
              "Advertising                  4676\n",
              "BusinessServices             4500\n",
              "Banking                      4049\n",
              "Chemicals                    3928\n",
              "Telecommunications           3891\n",
              "Accounting                   3832\n",
              "Military                     3128\n",
              "Museums-Libraries            3096\n",
              "Sports-Recreation            3038\n",
              "HumanResources               3010\n",
              "RealEstate                   2870\n",
              "Transportation               2326\n",
              "Manufacturing                2272\n",
              "Biotech                      2234\n",
              "Tourism                      1942\n",
              "LawEnforcement-Security      1878\n",
              "Architecture                 1638\n",
              "InvestmentBanking            1292\n",
              "Automotive                   1244\n",
              "Agriculture                  1235\n",
              "Construction                 1093\n",
              "Environment                   592\n",
              "Maritime                      280\n",
              "dtype: int64"
            ]
          },
          "metadata": {},
          "execution_count": 14
        }
      ],
      "source": [
        "# Total records for each individual class in Target variable\n",
        "df.value_counts('topic')"
      ]
    },
    {
      "cell_type": "markdown",
      "metadata": {
        "id": "3h_PT9ulMCrp"
      },
      "source": [
        "#### A.\tClearly write outcome of data analysis(Minimum 2 points) \n",
        "\n",
        "#### Observations:\n",
        "\n",
        "1) We can see that the target label, Topic, needs to be cleaned in multiple pre-processing steps to be able to be used in model training.\n",
        "\n",
        "2) From the dataset description, we can infer that most blog posts have been posted by men. \n",
        "\n",
        "3) From the dataset description, we can infer that most blog posts relate to the Topic, indUnk.\n",
        "\n",
        "4) From the dataset description, we can infer that most blog posts have been posted by people belonging to the Cancer horoscope.\n",
        "\n",
        "5) From the dataset description, we can infer that most blog posts have been posted on 2 August, 2004.\n",
        "\n",
        "6) Further, we can see that the target variable, Topic, is highly imbalanced. The most frequent class, indUnk, has 251015 posts while the least frequent class, Maritime has only 280 posts. We'll need to balance the dataset using data augmentation during model training. "
      ]
    },
    {
      "cell_type": "code",
      "execution_count": null,
      "metadata": {
        "colab": {
          "base_uri": "https://localhost:8080/",
          "height": 206
        },
        "id": "tIWqYWXrObBQ",
        "outputId": "dc85d5e8-4555-4fe6-bc8a-b9ee5dee1183"
      },
      "outputs": [
        {
          "output_type": "execute_result",
          "data": {
            "text/plain": [
              "        id gender  age              topic      sign          date  \\\n",
              "0  2059027   male   15            Student       Leo   14,May,2004   \n",
              "1  2059027   male   15            Student       Leo   13,May,2004   \n",
              "2  2059027   male   15            Student       Leo   12,May,2004   \n",
              "3  2059027   male   15            Student       Leo   12,May,2004   \n",
              "4  3581210   male   33  InvestmentBanking  Aquarius  11,June,2004   \n",
              "\n",
              "                                                text  \n",
              "0             Info has been found (+/- 100 pages,...  \n",
              "1             These are the team members:   Drewe...  \n",
              "2             In het kader van kernfusie op aarde...  \n",
              "3                   testing!!!  testing!!!            \n",
              "4               Thanks to Yahoo!'s Toolbar I can ...  "
            ],
            "text/html": [
              "\n",
              "  <div id=\"df-b872e7f8-142c-425b-9262-8e83cf7580e1\">\n",
              "    <div class=\"colab-df-container\">\n",
              "      <div>\n",
              "<style scoped>\n",
              "    .dataframe tbody tr th:only-of-type {\n",
              "        vertical-align: middle;\n",
              "    }\n",
              "\n",
              "    .dataframe tbody tr th {\n",
              "        vertical-align: top;\n",
              "    }\n",
              "\n",
              "    .dataframe thead th {\n",
              "        text-align: right;\n",
              "    }\n",
              "</style>\n",
              "<table border=\"1\" class=\"dataframe\">\n",
              "  <thead>\n",
              "    <tr style=\"text-align: right;\">\n",
              "      <th></th>\n",
              "      <th>id</th>\n",
              "      <th>gender</th>\n",
              "      <th>age</th>\n",
              "      <th>topic</th>\n",
              "      <th>sign</th>\n",
              "      <th>date</th>\n",
              "      <th>text</th>\n",
              "    </tr>\n",
              "  </thead>\n",
              "  <tbody>\n",
              "    <tr>\n",
              "      <th>0</th>\n",
              "      <td>2059027</td>\n",
              "      <td>male</td>\n",
              "      <td>15</td>\n",
              "      <td>Student</td>\n",
              "      <td>Leo</td>\n",
              "      <td>14,May,2004</td>\n",
              "      <td>Info has been found (+/- 100 pages,...</td>\n",
              "    </tr>\n",
              "    <tr>\n",
              "      <th>1</th>\n",
              "      <td>2059027</td>\n",
              "      <td>male</td>\n",
              "      <td>15</td>\n",
              "      <td>Student</td>\n",
              "      <td>Leo</td>\n",
              "      <td>13,May,2004</td>\n",
              "      <td>These are the team members:   Drewe...</td>\n",
              "    </tr>\n",
              "    <tr>\n",
              "      <th>2</th>\n",
              "      <td>2059027</td>\n",
              "      <td>male</td>\n",
              "      <td>15</td>\n",
              "      <td>Student</td>\n",
              "      <td>Leo</td>\n",
              "      <td>12,May,2004</td>\n",
              "      <td>In het kader van kernfusie op aarde...</td>\n",
              "    </tr>\n",
              "    <tr>\n",
              "      <th>3</th>\n",
              "      <td>2059027</td>\n",
              "      <td>male</td>\n",
              "      <td>15</td>\n",
              "      <td>Student</td>\n",
              "      <td>Leo</td>\n",
              "      <td>12,May,2004</td>\n",
              "      <td>testing!!!  testing!!!</td>\n",
              "    </tr>\n",
              "    <tr>\n",
              "      <th>4</th>\n",
              "      <td>3581210</td>\n",
              "      <td>male</td>\n",
              "      <td>33</td>\n",
              "      <td>InvestmentBanking</td>\n",
              "      <td>Aquarius</td>\n",
              "      <td>11,June,2004</td>\n",
              "      <td>Thanks to Yahoo!'s Toolbar I can ...</td>\n",
              "    </tr>\n",
              "  </tbody>\n",
              "</table>\n",
              "</div>\n",
              "      <button class=\"colab-df-convert\" onclick=\"convertToInteractive('df-b872e7f8-142c-425b-9262-8e83cf7580e1')\"\n",
              "              title=\"Convert this dataframe to an interactive table.\"\n",
              "              style=\"display:none;\">\n",
              "        \n",
              "  <svg xmlns=\"http://www.w3.org/2000/svg\" height=\"24px\"viewBox=\"0 0 24 24\"\n",
              "       width=\"24px\">\n",
              "    <path d=\"M0 0h24v24H0V0z\" fill=\"none\"/>\n",
              "    <path d=\"M18.56 5.44l.94 2.06.94-2.06 2.06-.94-2.06-.94-.94-2.06-.94 2.06-2.06.94zm-11 1L8.5 8.5l.94-2.06 2.06-.94-2.06-.94L8.5 2.5l-.94 2.06-2.06.94zm10 10l.94 2.06.94-2.06 2.06-.94-2.06-.94-.94-2.06-.94 2.06-2.06.94z\"/><path d=\"M17.41 7.96l-1.37-1.37c-.4-.4-.92-.59-1.43-.59-.52 0-1.04.2-1.43.59L10.3 9.45l-7.72 7.72c-.78.78-.78 2.05 0 2.83L4 21.41c.39.39.9.59 1.41.59.51 0 1.02-.2 1.41-.59l7.78-7.78 2.81-2.81c.8-.78.8-2.07 0-2.86zM5.41 20L4 18.59l7.72-7.72 1.47 1.35L5.41 20z\"/>\n",
              "  </svg>\n",
              "      </button>\n",
              "      \n",
              "  <style>\n",
              "    .colab-df-container {\n",
              "      display:flex;\n",
              "      flex-wrap:wrap;\n",
              "      gap: 12px;\n",
              "    }\n",
              "\n",
              "    .colab-df-convert {\n",
              "      background-color: #E8F0FE;\n",
              "      border: none;\n",
              "      border-radius: 50%;\n",
              "      cursor: pointer;\n",
              "      display: none;\n",
              "      fill: #1967D2;\n",
              "      height: 32px;\n",
              "      padding: 0 0 0 0;\n",
              "      width: 32px;\n",
              "    }\n",
              "\n",
              "    .colab-df-convert:hover {\n",
              "      background-color: #E2EBFA;\n",
              "      box-shadow: 0px 1px 2px rgba(60, 64, 67, 0.3), 0px 1px 3px 1px rgba(60, 64, 67, 0.15);\n",
              "      fill: #174EA6;\n",
              "    }\n",
              "\n",
              "    [theme=dark] .colab-df-convert {\n",
              "      background-color: #3B4455;\n",
              "      fill: #D2E3FC;\n",
              "    }\n",
              "\n",
              "    [theme=dark] .colab-df-convert:hover {\n",
              "      background-color: #434B5C;\n",
              "      box-shadow: 0px 1px 3px 1px rgba(0, 0, 0, 0.15);\n",
              "      filter: drop-shadow(0px 1px 2px rgba(0, 0, 0, 0.3));\n",
              "      fill: #FFFFFF;\n",
              "    }\n",
              "  </style>\n",
              "\n",
              "      <script>\n",
              "        const buttonEl =\n",
              "          document.querySelector('#df-b872e7f8-142c-425b-9262-8e83cf7580e1 button.colab-df-convert');\n",
              "        buttonEl.style.display =\n",
              "          google.colab.kernel.accessAllowed ? 'block' : 'none';\n",
              "\n",
              "        async function convertToInteractive(key) {\n",
              "          const element = document.querySelector('#df-b872e7f8-142c-425b-9262-8e83cf7580e1');\n",
              "          const dataTable =\n",
              "            await google.colab.kernel.invokeFunction('convertToInteractive',\n",
              "                                                     [key], {});\n",
              "          if (!dataTable) return;\n",
              "\n",
              "          const docLinkHtml = 'Like what you see? Visit the ' +\n",
              "            '<a target=\"_blank\" href=https://colab.research.google.com/notebooks/data_table.ipynb>data table notebook</a>'\n",
              "            + ' to learn more about interactive tables.';\n",
              "          element.innerHTML = '';\n",
              "          dataTable['output_type'] = 'display_data';\n",
              "          await google.colab.output.renderOutput(dataTable, element);\n",
              "          const docLink = document.createElement('div');\n",
              "          docLink.innerHTML = docLinkHtml;\n",
              "          element.appendChild(docLink);\n",
              "        }\n",
              "      </script>\n",
              "    </div>\n",
              "  </div>\n",
              "  "
            ]
          },
          "metadata": {},
          "execution_count": 15
        }
      ],
      "source": [
        "# Create new dataframe\n",
        "df1 = df.copy(deep = True)\n",
        "df1.head()"
      ]
    },
    {
      "cell_type": "code",
      "execution_count": null,
      "metadata": {
        "colab": {
          "base_uri": "https://localhost:8080/",
          "height": 490
        },
        "id": "huiM9mLwMGMS",
        "outputId": "99b4b1fb-5b78-4664-f976-aeb1cc49462d"
      },
      "outputs": [
        {
          "output_type": "display_data",
          "data": {
            "text/plain": [
              "<Figure size 2500x1000 with 2 Axes>"
            ],
            "image/png": "[encoded data removed]"
          },
          "metadata": {}
        }
      ],
      "source": [
        "# B.\tClean the Structured Data \n",
        "# i.\tMissing value analysis and imputation. \n",
        "msno.matrix(df1);"
      ]
    },
    {
      "cell_type": "code",
      "execution_count": null,
      "metadata": {
        "id": "mfXDKuK9M-z8"
      },
      "outputs": [],
      "source": [
        "# i.\tMissing value analysis and imputation. \n",
        "# For loop which will remove all the features with 20%+ Null values and impute rest with mean of the feature. \n",
        "def remove_nulls(df):\n",
        "    print('Dataframe shape before removing Nulls:', df.shape)\n",
        "    print('*' * 50)\n",
        "    \n",
        "    filter_cols = df.columns[df.isna().mean() > 0.2]\n",
        "    print('Number of features with 20%+ Null values:', filter_cols.shape[0])\n",
        "    print('*' * 50)\n",
        "    \n",
        "    for i in filter_cols:\n",
        "        df.drop(i, axis = 1, inplace = True)\n",
        "        \n",
        "    num_cols = df.select_dtypes(exclude = 'object').columns.to_list()\n",
        "    df[num_cols] = df[num_cols].astype('float')\n",
        "    df[num_cols] = df[num_cols].fillna(df[num_cols].mean())\n",
        "    \n",
        "    print('Dataframe shape after removing Nulls:', df.shape)\n",
        "    print('*' * 50)\n",
        "    print('Dataframe 5-point summary:')\n",
        "    return df.describe().T"
      ]
    },
    {
      "cell_type": "code",
      "execution_count": null,
      "metadata": {
        "colab": {
          "base_uri": "https://localhost:8080/",
          "height": 233
        },
        "id": "vY85UI3nNCJH",
        "outputId": "fd46e802-6d35-4d7a-d6c5-d9c79aac7ed5"
      },
      "outputs": [
        {
          "output_type": "stream",
          "name": "stdout",
          "text": [
            "Dataframe shape before removing Nulls: (681284, 7)\n",
            "**************************************************\n",
            "Number of features with 20%+ Null values: 0\n",
            "**************************************************\n",
            "Dataframe shape after removing Nulls: (681284, 7)\n",
            "**************************************************\n",
            "Dataframe 5-point summary:\n"
          ]
        },
        {
          "output_type": "execute_result",
          "data": {
            "text/plain": [
              "        count          mean           std     min        25%        50%  \\\n",
              "id   681284.0  2.397802e+06  1.247723e+06  5114.0  1239610.0  2607577.0   \n",
              "age  681284.0  2.393233e+01  7.786009e+00    13.0       17.0       24.0   \n",
              "\n",
              "           75%        max  \n",
              "id   3525660.0  4337650.0  \n",
              "age       26.0       48.0  "
            ],
            "text/html": [
              "\n",
              "  <div id=\"df-a6d2f0eb-cb2c-4720-b9e6-e81ae4b99ceb\">\n",
              "    <div class=\"colab-df-container\">\n",
              "      <div>\n",
              "<style scoped>\n",
              "    .dataframe tbody tr th:only-of-type {\n",
              "        vertical-align: middle;\n",
              "    }\n",
              "\n",
              "    .dataframe tbody tr th {\n",
              "        vertical-align: top;\n",
              "    }\n",
              "\n",
              "    .dataframe thead th {\n",
              "        text-align: right;\n",
              "    }\n",
              "</style>\n",
              "<table border=\"1\" class=\"dataframe\">\n",
              "  <thead>\n",
              "    <tr style=\"text-align: right;\">\n",
              "      <th></th>\n",
              "      <th>count</th>\n",
              "      <th>mean</th>\n",
              "      <th>std</th>\n",
              "      <th>min</th>\n",
              "      <th>25%</th>\n",
              "      <th>50%</th>\n",
              "      <th>75%</th>\n",
              "      <th>max</th>\n",
              "    </tr>\n",
              "  </thead>\n",
              "  <tbody>\n",
              "    <tr>\n",
              "      <th>id</th>\n",
              "      <td>681284.0</td>\n",
              "      <td>2.397802e+06</td>\n",
              "      <td>1.247723e+06</td>\n",
              "      <td>5114.0</td>\n",
              "      <td>1239610.0</td>\n",
              "      <td>2607577.0</td>\n",
              "      <td>3525660.0</td>\n",
              "      <td>4337650.0</td>\n",
              "    </tr>\n",
              "    <tr>\n",
              "      <th>age</th>\n",
              "      <td>681284.0</td>\n",
              "      <td>2.393233e+01</td>\n",
              "      <td>7.786009e+00</td>\n",
              "      <td>13.0</td>\n",
              "      <td>17.0</td>\n",
              "      <td>24.0</td>\n",
              "      <td>26.0</td>\n",
              "      <td>48.0</td>\n",
              "    </tr>\n",
              "  </tbody>\n",
              "</table>\n",
              "</div>\n",
              "      <button class=\"colab-df-convert\" onclick=\"convertToInteractive('df-a6d2f0eb-cb2c-4720-b9e6-e81ae4b99ceb')\"\n",
              "              title=\"Convert this dataframe to an interactive table.\"\n",
              "              style=\"display:none;\">\n",
              "        \n",
              "  <svg xmlns=\"http://www.w3.org/2000/svg\" height=\"24px\"viewBox=\"0 0 24 24\"\n",
              "       width=\"24px\">\n",
              "    <path d=\"M0 0h24v24H0V0z\" fill=\"none\"/>\n",
              "    <path d=\"M18.56 5.44l.94 2.06.94-2.06 2.06-.94-2.06-.94-.94-2.06-.94 2.06-2.06.94zm-11 1L8.5 8.5l.94-2.06 2.06-.94-2.06-.94L8.5 2.5l-.94 2.06-2.06.94zm10 10l.94 2.06.94-2.06 2.06-.94-2.06-.94-.94-2.06-.94 2.06-2.06.94z\"/><path d=\"M17.41 7.96l-1.37-1.37c-.4-.4-.92-.59-1.43-.59-.52 0-1.04.2-1.43.59L10.3 9.45l-7.72 7.72c-.78.78-.78 2.05 0 2.83L4 21.41c.39.39.9.59 1.41.59.51 0 1.02-.2 1.41-.59l7.78-7.78 2.81-2.81c.8-.78.8-2.07 0-2.86zM5.41 20L4 18.59l7.72-7.72 1.47 1.35L5.41 20z\"/>\n",
              "  </svg>\n",
              "      </button>\n",
              "      \n",
              "  <style>\n",
              "    .colab-df-container {\n",
              "      display:flex;\n",
              "      flex-wrap:wrap;\n",
              "      gap: 12px;\n",
              "    }\n",
              "\n",
              "    .colab-df-convert {\n",
              "      background-color: #E8F0FE;\n",
              "      border: none;\n",
              "      border-radius: 50%;\n",
              "      cursor: pointer;\n",
              "      display: none;\n",
              "      fill: #1967D2;\n",
              "      height: 32px;\n",
              "      padding: 0 0 0 0;\n",
              "      width: 32px;\n",
              "    }\n",
              "\n",
              "    .colab-df-convert:hover {\n",
              "      background-color: #E2EBFA;\n",
              "      box-shadow: 0px 1px 2px rgba(60, 64, 67, 0.3), 0px 1px 3px 1px rgba(60, 64, 67, 0.15);\n",
              "      fill: #174EA6;\n",
              "    }\n",
              "\n",
              "    [theme=dark] .colab-df-convert {\n",
              "      background-color: #3B4455;\n",
              "      fill: #D2E3FC;\n",
              "    }\n",
              "\n",
              "    [theme=dark] .colab-df-convert:hover {\n",
              "      background-color: #434B5C;\n",
              "      box-shadow: 0px 1px 3px 1px rgba(0, 0, 0, 0.15);\n",
              "      filter: drop-shadow(0px 1px 2px rgba(0, 0, 0, 0.3));\n",
              "      fill: #FFFFFF;\n",
              "    }\n",
              "  </style>\n",
              "\n",
              "      <script>\n",
              "        const buttonEl =\n",
              "          document.querySelector('#df-a6d2f0eb-cb2c-4720-b9e6-e81ae4b99ceb button.colab-df-convert');\n",
              "        buttonEl.style.display =\n",
              "          google.colab.kernel.accessAllowed ? 'block' : 'none';\n",
              "\n",
              "        async function convertToInteractive(key) {\n",
              "          const element = document.querySelector('#df-a6d2f0eb-cb2c-4720-b9e6-e81ae4b99ceb');\n",
              "          const dataTable =\n",
              "            await google.colab.kernel.invokeFunction('convertToInteractive',\n",
              "                                                     [key], {});\n",
              "          if (!dataTable) return;\n",
              "\n",
              "          const docLinkHtml = 'Like what you see? Visit the ' +\n",
              "            '<a target=\"_blank\" href=https://colab.research.google.com/notebooks/data_table.ipynb>data table notebook</a>'\n",
              "            + ' to learn more about interactive tables.';\n",
              "          element.innerHTML = '';\n",
              "          dataTable['output_type'] = 'display_data';\n",
              "          await google.colab.output.renderOutput(dataTable, element);\n",
              "          const docLink = document.createElement('div');\n",
              "          docLink.innerHTML = docLinkHtml;\n",
              "          element.appendChild(docLink);\n",
              "        }\n",
              "      </script>\n",
              "    </div>\n",
              "  </div>\n",
              "  "
            ]
          },
          "metadata": {},
          "execution_count": 18
        }
      ],
      "source": [
        "# i.\tMissing value analysis and imputation. \n",
        "remove_nulls(df1)"
      ]
    },
    {
      "cell_type": "markdown",
      "source": [
        "#### Note - \n",
        "\n",
        "Taking only 100k random records from the dataset to avoid the code execution from crashing due to compute resrictions"
      ],
      "metadata": {
        "id": "ky0gJwQg4KDT"
      }
    },
    {
      "cell_type": "code",
      "execution_count": null,
      "metadata": {
        "colab": {
          "base_uri": "https://localhost:8080/",
          "height": 206
        },
        "id": "EHj3oZfoBqX7",
        "outputId": "43323175-3d90-4e11-bbec-6ff88aabdbb8"
      },
      "outputs": [
        {
          "output_type": "execute_result",
          "data": {
            "text/plain": [
              "               id  gender   age        topic     sign              date  \\\n",
              "473776  1705067.0  female  27.0  Environment   Pisces       08,May,2004   \n",
              "32191   1538911.0  female  35.0       indUnk    Libra      13,July,2004   \n",
              "376283  3181479.0    male  24.0      Student   Cancer      08,July,2004   \n",
              "182237  1804032.0  female  17.0       indUnk    Libra  09,November,2003   \n",
              "220151  3758757.0    male  14.0      Student  Scorpio      26,June,2004   \n",
              "\n",
              "                                                     text  \n",
              "473776                Then I see you standing there Wa...  \n",
              "32191          Looks like our house (the one we're sel...  \n",
              "376283               Pics from the BBQ are coming soon...  \n",
              "182237         Well i havent had the best weeks but fo...  \n",
              "220151             My Thoughts: This is so cool I can ...  "
            ],
            "text/html": [
              "\n",
              "  <div id=\"df-18734988-1db0-472f-b18d-48a1d6440c30\">\n",
              "    <div class=\"colab-df-container\">\n",
              "      <div>\n",
              "<style scoped>\n",
              "    .dataframe tbody tr th:only-of-type {\n",
              "        vertical-align: middle;\n",
              "    }\n",
              "\n",
              "    .dataframe tbody tr th {\n",
              "        vertical-align: top;\n",
              "    }\n",
              "\n",
              "    .dataframe thead th {\n",
              "        text-align: right;\n",
              "    }\n",
              "</style>\n",
              "<table border=\"1\" class=\"dataframe\">\n",
              "  <thead>\n",
              "    <tr style=\"text-align: right;\">\n",
              "      <th></th>\n",
              "      <th>id</th>\n",
              "      <th>gender</th>\n",
              "      <th>age</th>\n",
              "      <th>topic</th>\n",
              "      <th>sign</th>\n",
              "      <th>date</th>\n",
              "      <th>text</th>\n",
              "    </tr>\n",
              "  </thead>\n",
              "  <tbody>\n",
              "    <tr>\n",
              "      <th>473776</th>\n",
              "      <td>1705067.0</td>\n",
              "      <td>female</td>\n",
              "      <td>27.0</td>\n",
              "      <td>Environment</td>\n",
              "      <td>Pisces</td>\n",
              "      <td>08,May,2004</td>\n",
              "      <td>Then I see you standing there Wa...</td>\n",
              "    </tr>\n",
              "    <tr>\n",
              "      <th>32191</th>\n",
              "      <td>1538911.0</td>\n",
              "      <td>female</td>\n",
              "      <td>35.0</td>\n",
              "      <td>indUnk</td>\n",
              "      <td>Libra</td>\n",
              "      <td>13,July,2004</td>\n",
              "      <td>Looks like our house (the one we're sel...</td>\n",
              "    </tr>\n",
              "    <tr>\n",
              "      <th>376283</th>\n",
              "      <td>3181479.0</td>\n",
              "      <td>male</td>\n",
              "      <td>24.0</td>\n",
              "      <td>Student</td>\n",
              "      <td>Cancer</td>\n",
              "      <td>08,July,2004</td>\n",
              "      <td>Pics from the BBQ are coming soon...</td>\n",
              "    </tr>\n",
              "    <tr>\n",
              "      <th>182237</th>\n",
              "      <td>1804032.0</td>\n",
              "      <td>female</td>\n",
              "      <td>17.0</td>\n",
              "      <td>indUnk</td>\n",
              "      <td>Libra</td>\n",
              "      <td>09,November,2003</td>\n",
              "      <td>Well i havent had the best weeks but fo...</td>\n",
              "    </tr>\n",
              "    <tr>\n",
              "      <th>220151</th>\n",
              "      <td>3758757.0</td>\n",
              "      <td>male</td>\n",
              "      <td>14.0</td>\n",
              "      <td>Student</td>\n",
              "      <td>Scorpio</td>\n",
              "      <td>26,June,2004</td>\n",
              "      <td>My Thoughts: This is so cool I can ...</td>\n",
              "    </tr>\n",
              "  </tbody>\n",
              "</table>\n",
              "</div>\n",
              "      <button class=\"colab-df-convert\" onclick=\"convertToInteractive('df-18734988-1db0-472f-b18d-48a1d6440c30')\"\n",
              "              title=\"Convert this dataframe to an interactive table.\"\n",
              "              style=\"display:none;\">\n",
              "        \n",
              "  <svg xmlns=\"http://www.w3.org/2000/svg\" height=\"24px\"viewBox=\"0 0 24 24\"\n",
              "       width=\"24px\">\n",
              "    <path d=\"M0 0h24v24H0V0z\" fill=\"none\"/>\n",
              "    <path d=\"M18.56 5.44l.94 2.06.94-2.06 2.06-.94-2.06-.94-.94-2.06-.94 2.06-2.06.94zm-11 1L8.5 8.5l.94-2.06 2.06-.94-2.06-.94L8.5 2.5l-.94 2.06-2.06.94zm10 10l.94 2.06.94-2.06 2.06-.94-2.06-.94-.94-2.06-.94 2.06-2.06.94z\"/><path d=\"M17.41 7.96l-1.37-1.37c-.4-.4-.92-.59-1.43-.59-.52 0-1.04.2-1.43.59L10.3 9.45l-7.72 7.72c-.78.78-.78 2.05 0 2.83L4 21.41c.39.39.9.59 1.41.59.51 0 1.02-.2 1.41-.59l7.78-7.78 2.81-2.81c.8-.78.8-2.07 0-2.86zM5.41 20L4 18.59l7.72-7.72 1.47 1.35L5.41 20z\"/>\n",
              "  </svg>\n",
              "      </button>\n",
              "      \n",
              "  <style>\n",
              "    .colab-df-container {\n",
              "      display:flex;\n",
              "      flex-wrap:wrap;\n",
              "      gap: 12px;\n",
              "    }\n",
              "\n",
              "    .colab-df-convert {\n",
              "      background-color: #E8F0FE;\n",
              "      border: none;\n",
              "      border-radius: 50%;\n",
              "      cursor: pointer;\n",
              "      display: none;\n",
              "      fill: #1967D2;\n",
              "      height: 32px;\n",
              "      padding: 0 0 0 0;\n",
              "      width: 32px;\n",
              "    }\n",
              "\n",
              "    .colab-df-convert:hover {\n",
              "      background-color: #E2EBFA;\n",
              "      box-shadow: 0px 1px 2px rgba(60, 64, 67, 0.3), 0px 1px 3px 1px rgba(60, 64, 67, 0.15);\n",
              "      fill: #174EA6;\n",
              "    }\n",
              "\n",
              "    [theme=dark] .colab-df-convert {\n",
              "      background-color: #3B4455;\n",
              "      fill: #D2E3FC;\n",
              "    }\n",
              "\n",
              "    [theme=dark] .colab-df-convert:hover {\n",
              "      background-color: #434B5C;\n",
              "      box-shadow: 0px 1px 3px 1px rgba(0, 0, 0, 0.15);\n",
              "      filter: drop-shadow(0px 1px 2px rgba(0, 0, 0, 0.3));\n",
              "      fill: #FFFFFF;\n",
              "    }\n",
              "  </style>\n",
              "\n",
              "      <script>\n",
              "        const buttonEl =\n",
              "          document.querySelector('#df-18734988-1db0-472f-b18d-48a1d6440c30 button.colab-df-convert');\n",
              "        buttonEl.style.display =\n",
              "          google.colab.kernel.accessAllowed ? 'block' : 'none';\n",
              "\n",
              "        async function convertToInteractive(key) {\n",
              "          const element = document.querySelector('#df-18734988-1db0-472f-b18d-48a1d6440c30');\n",
              "          const dataTable =\n",
              "            await google.colab.kernel.invokeFunction('convertToInteractive',\n",
              "                                                     [key], {});\n",
              "          if (!dataTable) return;\n",
              "\n",
              "          const docLinkHtml = 'Like what you see? Visit the ' +\n",
              "            '<a target=\"_blank\" href=https://colab.research.google.com/notebooks/data_table.ipynb>data table notebook</a>'\n",
              "            + ' to learn more about interactive tables.';\n",
              "          element.innerHTML = '';\n",
              "          dataTable['output_type'] = 'display_data';\n",
              "          await google.colab.output.renderOutput(dataTable, element);\n",
              "          const docLink = document.createElement('div');\n",
              "          docLink.innerHTML = docLinkHtml;\n",
              "          element.appendChild(docLink);\n",
              "        }\n",
              "      </script>\n",
              "    </div>\n",
              "  </div>\n",
              "  "
            ]
          },
          "metadata": {},
          "execution_count": 19
        }
      ],
      "source": [
        "# Create new dataframe\n",
        "df2 = df1.sample(100000).copy(deep=True)\n",
        "df2.head()"
      ]
    },
    {
      "cell_type": "code",
      "execution_count": null,
      "metadata": {
        "colab": {
          "base_uri": "https://localhost:8080/"
        },
        "id": "8TNYugzLNCz-",
        "outputId": "550ed080-b84e-43b6-b407-ee18971c534e"
      },
      "outputs": [
        {
          "output_type": "stream",
          "name": "stdout",
          "text": [
            "Dataset shape before cleaning: (100000, 7)\n",
            "Updated shape after cleaning: (95683, 7)\n"
          ]
        }
      ],
      "source": [
        "# ii.\tEliminate Non-English textual data.\n",
        "def is_english(text):\n",
        "    try:\n",
        "        lang = detect(text)\n",
        "        return lang == 'en'\n",
        "    except:\n",
        "        return False\n",
        "\n",
        "# Confirm the changes\n",
        "print(\"Dataset shape before cleaning:\", df2.shape)\n",
        "\n",
        "# Apply language detection to filter out non-English text\n",
        "df2 = df2[df2['text'].apply(is_english)]\n",
        "\n",
        "# Confirm the changes\n",
        "print(\"Updated shape after cleaning:\", df2.shape)"
      ]
    },
    {
      "cell_type": "markdown",
      "metadata": {
        "id": "yuo4GCY9Q7xh"
      },
      "source": [
        "## 2.\tPreprocess unstructured data to make it consumable for model training"
      ]
    },
    {
      "cell_type": "code",
      "execution_count": null,
      "metadata": {
        "colab": {
          "base_uri": "https://localhost:8080/",
          "height": 206
        },
        "id": "9OHvz_nhRHko",
        "outputId": "b4203c2c-6eea-451d-b279-e01a10fefd45"
      },
      "outputs": [
        {
          "output_type": "execute_result",
          "data": {
            "text/plain": [
              "               id  gender   age        topic     sign              date  \\\n",
              "473776  1705067.0  female  27.0  Environment   Pisces       08,May,2004   \n",
              "32191   1538911.0  female  35.0       indUnk    Libra      13,July,2004   \n",
              "376283  3181479.0    male  24.0      Student   Cancer      08,July,2004   \n",
              "182237  1804032.0  female  17.0       indUnk    Libra  09,November,2003   \n",
              "220151  3758757.0    male  14.0      Student  Scorpio      26,June,2004   \n",
              "\n",
              "                                                     text  \n",
              "473776                Then I see you standing there Wa...  \n",
              "32191          Looks like our house (the one we're sel...  \n",
              "376283               Pics from the BBQ are coming soon...  \n",
              "182237         Well i havent had the best weeks but fo...  \n",
              "220151             My Thoughts: This is so cool I can ...  "
            ],
            "text/html": [
              "\n",
              "  <div id=\"df-4d891ad8-2db5-4d45-9535-63b7e79330e7\">\n",
              "    <div class=\"colab-df-container\">\n",
              "      <div>\n",
              "<style scoped>\n",
              "    .dataframe tbody tr th:only-of-type {\n",
              "        vertical-align: middle;\n",
              "    }\n",
              "\n",
              "    .dataframe tbody tr th {\n",
              "        vertical-align: top;\n",
              "    }\n",
              "\n",
              "    .dataframe thead th {\n",
              "        text-align: right;\n",
              "    }\n",
              "</style>\n",
              "<table border=\"1\" class=\"dataframe\">\n",
              "  <thead>\n",
              "    <tr style=\"text-align: right;\">\n",
              "      <th></th>\n",
              "      <th>id</th>\n",
              "      <th>gender</th>\n",
              "      <th>age</th>\n",
              "      <th>topic</th>\n",
              "      <th>sign</th>\n",
              "      <th>date</th>\n",
              "      <th>text</th>\n",
              "    </tr>\n",
              "  </thead>\n",
              "  <tbody>\n",
              "    <tr>\n",
              "      <th>473776</th>\n",
              "      <td>1705067.0</td>\n",
              "      <td>female</td>\n",
              "      <td>27.0</td>\n",
              "      <td>Environment</td>\n",
              "      <td>Pisces</td>\n",
              "      <td>08,May,2004</td>\n",
              "      <td>Then I see you standing there Wa...</td>\n",
              "    </tr>\n",
              "    <tr>\n",
              "      <th>32191</th>\n",
              "      <td>1538911.0</td>\n",
              "      <td>female</td>\n",
              "      <td>35.0</td>\n",
              "      <td>indUnk</td>\n",
              "      <td>Libra</td>\n",
              "      <td>13,July,2004</td>\n",
              "      <td>Looks like our house (the one we're sel...</td>\n",
              "    </tr>\n",
              "    <tr>\n",
              "      <th>376283</th>\n",
              "      <td>3181479.0</td>\n",
              "      <td>male</td>\n",
              "      <td>24.0</td>\n",
              "      <td>Student</td>\n",
              "      <td>Cancer</td>\n",
              "      <td>08,July,2004</td>\n",
              "      <td>Pics from the BBQ are coming soon...</td>\n",
              "    </tr>\n",
              "    <tr>\n",
              "      <th>182237</th>\n",
              "      <td>1804032.0</td>\n",
              "      <td>female</td>\n",
              "      <td>17.0</td>\n",
              "      <td>indUnk</td>\n",
              "      <td>Libra</td>\n",
              "      <td>09,November,2003</td>\n",
              "      <td>Well i havent had the best weeks but fo...</td>\n",
              "    </tr>\n",
              "    <tr>\n",
              "      <th>220151</th>\n",
              "      <td>3758757.0</td>\n",
              "      <td>male</td>\n",
              "      <td>14.0</td>\n",
              "      <td>Student</td>\n",
              "      <td>Scorpio</td>\n",
              "      <td>26,June,2004</td>\n",
              "      <td>My Thoughts: This is so cool I can ...</td>\n",
              "    </tr>\n",
              "  </tbody>\n",
              "</table>\n",
              "</div>\n",
              "      <button class=\"colab-df-convert\" onclick=\"convertToInteractive('df-4d891ad8-2db5-4d45-9535-63b7e79330e7')\"\n",
              "              title=\"Convert this dataframe to an interactive table.\"\n",
              "              style=\"display:none;\">\n",
              "        \n",
              "  <svg xmlns=\"http://www.w3.org/2000/svg\" height=\"24px\"viewBox=\"0 0 24 24\"\n",
              "       width=\"24px\">\n",
              "    <path d=\"M0 0h24v24H0V0z\" fill=\"none\"/>\n",
              "    <path d=\"M18.56 5.44l.94 2.06.94-2.06 2.06-.94-2.06-.94-.94-2.06-.94 2.06-2.06.94zm-11 1L8.5 8.5l.94-2.06 2.06-.94-2.06-.94L8.5 2.5l-.94 2.06-2.06.94zm10 10l.94 2.06.94-2.06 2.06-.94-2.06-.94-.94-2.06-.94 2.06-2.06.94z\"/><path d=\"M17.41 7.96l-1.37-1.37c-.4-.4-.92-.59-1.43-.59-.52 0-1.04.2-1.43.59L10.3 9.45l-7.72 7.72c-.78.78-.78 2.05 0 2.83L4 21.41c.39.39.9.59 1.41.59.51 0 1.02-.2 1.41-.59l7.78-7.78 2.81-2.81c.8-.78.8-2.07 0-2.86zM5.41 20L4 18.59l7.72-7.72 1.47 1.35L5.41 20z\"/>\n",
              "  </svg>\n",
              "      </button>\n",
              "      \n",
              "  <style>\n",
              "    .colab-df-container {\n",
              "      display:flex;\n",
              "      flex-wrap:wrap;\n",
              "      gap: 12px;\n",
              "    }\n",
              "\n",
              "    .colab-df-convert {\n",
              "      background-color: #E8F0FE;\n",
              "      border: none;\n",
              "      border-radius: 50%;\n",
              "      cursor: pointer;\n",
              "      display: none;\n",
              "      fill: #1967D2;\n",
              "      height: 32px;\n",
              "      padding: 0 0 0 0;\n",
              "      width: 32px;\n",
              "    }\n",
              "\n",
              "    .colab-df-convert:hover {\n",
              "      background-color: #E2EBFA;\n",
              "      box-shadow: 0px 1px 2px rgba(60, 64, 67, 0.3), 0px 1px 3px 1px rgba(60, 64, 67, 0.15);\n",
              "      fill: #174EA6;\n",
              "    }\n",
              "\n",
              "    [theme=dark] .colab-df-convert {\n",
              "      background-color: #3B4455;\n",
              "      fill: #D2E3FC;\n",
              "    }\n",
              "\n",
              "    [theme=dark] .colab-df-convert:hover {\n",
              "      background-color: #434B5C;\n",
              "      box-shadow: 0px 1px 3px 1px rgba(0, 0, 0, 0.15);\n",
              "      filter: drop-shadow(0px 1px 2px rgba(0, 0, 0, 0.3));\n",
              "      fill: #FFFFFF;\n",
              "    }\n",
              "  </style>\n",
              "\n",
              "      <script>\n",
              "        const buttonEl =\n",
              "          document.querySelector('#df-4d891ad8-2db5-4d45-9535-63b7e79330e7 button.colab-df-convert');\n",
              "        buttonEl.style.display =\n",
              "          google.colab.kernel.accessAllowed ? 'block' : 'none';\n",
              "\n",
              "        async function convertToInteractive(key) {\n",
              "          const element = document.querySelector('#df-4d891ad8-2db5-4d45-9535-63b7e79330e7');\n",
              "          const dataTable =\n",
              "            await google.colab.kernel.invokeFunction('convertToInteractive',\n",
              "                                                     [key], {});\n",
              "          if (!dataTable) return;\n",
              "\n",
              "          const docLinkHtml = 'Like what you see? Visit the ' +\n",
              "            '<a target=\"_blank\" href=https://colab.research.google.com/notebooks/data_table.ipynb>data table notebook</a>'\n",
              "            + ' to learn more about interactive tables.';\n",
              "          element.innerHTML = '';\n",
              "          dataTable['output_type'] = 'display_data';\n",
              "          await google.colab.output.renderOutput(dataTable, element);\n",
              "          const docLink = document.createElement('div');\n",
              "          docLink.innerHTML = docLinkHtml;\n",
              "          element.appendChild(docLink);\n",
              "        }\n",
              "      </script>\n",
              "    </div>\n",
              "  </div>\n",
              "  "
            ]
          },
          "metadata": {},
          "execution_count": 21
        }
      ],
      "source": [
        "# Create new dataframe\n",
        "df3 = df2.copy(deep=True)\n",
        "df3.head()"
      ]
    },
    {
      "cell_type": "code",
      "execution_count": null,
      "metadata": {
        "colab": {
          "base_uri": "https://localhost:8080/",
          "height": 206
        },
        "id": "xtxhYfNnQ4jh",
        "outputId": "edafc79c-3e75-4cea-9060-3f6432f26dd0"
      },
      "outputs": [
        {
          "output_type": "execute_result",
          "data": {
            "text/plain": [
              "               id  gender   age        topic     sign              date  \\\n",
              "473776  1705067.0  female  27.0  Environment   Pisces       08,May,2004   \n",
              "32191   1538911.0  female  35.0       indUnk    Libra      13,July,2004   \n",
              "376283  3181479.0    male  24.0      Student   Cancer      08,July,2004   \n",
              "182237  1804032.0  female  17.0       indUnk    Libra  09,November,2003   \n",
              "220151  3758757.0    male  14.0      Student  Scorpio      26,June,2004   \n",
              "\n",
              "                                                     text  \n",
              "473776                Then I see you standing there Wa...  \n",
              "32191          Looks like our house  the one we re sel...  \n",
              "376283               Pics from the BBQ are coming soon...  \n",
              "182237         Well i havent had the best weeks but fo...  \n",
              "220151             My Thoughts  This is so cool I can ...  "
            ],
            "text/html": [
              "\n",
              "  <div id=\"df-69e449c5-3cbb-43f3-be6d-c73bcc0b46b1\">\n",
              "    <div class=\"colab-df-container\">\n",
              "      <div>\n",
              "<style scoped>\n",
              "    .dataframe tbody tr th:only-of-type {\n",
              "        vertical-align: middle;\n",
              "    }\n",
              "\n",
              "    .dataframe tbody tr th {\n",
              "        vertical-align: top;\n",
              "    }\n",
              "\n",
              "    .dataframe thead th {\n",
              "        text-align: right;\n",
              "    }\n",
              "</style>\n",
              "<table border=\"1\" class=\"dataframe\">\n",
              "  <thead>\n",
              "    <tr style=\"text-align: right;\">\n",
              "      <th></th>\n",
              "      <th>id</th>\n",
              "      <th>gender</th>\n",
              "      <th>age</th>\n",
              "      <th>topic</th>\n",
              "      <th>sign</th>\n",
              "      <th>date</th>\n",
              "      <th>text</th>\n",
              "    </tr>\n",
              "  </thead>\n",
              "  <tbody>\n",
              "    <tr>\n",
              "      <th>473776</th>\n",
              "      <td>1705067.0</td>\n",
              "      <td>female</td>\n",
              "      <td>27.0</td>\n",
              "      <td>Environment</td>\n",
              "      <td>Pisces</td>\n",
              "      <td>08,May,2004</td>\n",
              "      <td>Then I see you standing there Wa...</td>\n",
              "    </tr>\n",
              "    <tr>\n",
              "      <th>32191</th>\n",
              "      <td>1538911.0</td>\n",
              "      <td>female</td>\n",
              "      <td>35.0</td>\n",
              "      <td>indUnk</td>\n",
              "      <td>Libra</td>\n",
              "      <td>13,July,2004</td>\n",
              "      <td>Looks like our house  the one we re sel...</td>\n",
              "    </tr>\n",
              "    <tr>\n",
              "      <th>376283</th>\n",
              "      <td>3181479.0</td>\n",
              "      <td>male</td>\n",
              "      <td>24.0</td>\n",
              "      <td>Student</td>\n",
              "      <td>Cancer</td>\n",
              "      <td>08,July,2004</td>\n",
              "      <td>Pics from the BBQ are coming soon...</td>\n",
              "    </tr>\n",
              "    <tr>\n",
              "      <th>182237</th>\n",
              "      <td>1804032.0</td>\n",
              "      <td>female</td>\n",
              "      <td>17.0</td>\n",
              "      <td>indUnk</td>\n",
              "      <td>Libra</td>\n",
              "      <td>09,November,2003</td>\n",
              "      <td>Well i havent had the best weeks but fo...</td>\n",
              "    </tr>\n",
              "    <tr>\n",
              "      <th>220151</th>\n",
              "      <td>3758757.0</td>\n",
              "      <td>male</td>\n",
              "      <td>14.0</td>\n",
              "      <td>Student</td>\n",
              "      <td>Scorpio</td>\n",
              "      <td>26,June,2004</td>\n",
              "      <td>My Thoughts  This is so cool I can ...</td>\n",
              "    </tr>\n",
              "  </tbody>\n",
              "</table>\n",
              "</div>\n",
              "      <button class=\"colab-df-convert\" onclick=\"convertToInteractive('df-69e449c5-3cbb-43f3-be6d-c73bcc0b46b1')\"\n",
              "              title=\"Convert this dataframe to an interactive table.\"\n",
              "              style=\"display:none;\">\n",
              "        \n",
              "  <svg xmlns=\"http://www.w3.org/2000/svg\" height=\"24px\"viewBox=\"0 0 24 24\"\n",
              "       width=\"24px\">\n",
              "    <path d=\"M0 0h24v24H0V0z\" fill=\"none\"/>\n",
              "    <path d=\"M18.56 5.44l.94 2.06.94-2.06 2.06-.94-2.06-.94-.94-2.06-.94 2.06-2.06.94zm-11 1L8.5 8.5l.94-2.06 2.06-.94-2.06-.94L8.5 2.5l-.94 2.06-2.06.94zm10 10l.94 2.06.94-2.06 2.06-.94-2.06-.94-.94-2.06-.94 2.06-2.06.94z\"/><path d=\"M17.41 7.96l-1.37-1.37c-.4-.4-.92-.59-1.43-.59-.52 0-1.04.2-1.43.59L10.3 9.45l-7.72 7.72c-.78.78-.78 2.05 0 2.83L4 21.41c.39.39.9.59 1.41.59.51 0 1.02-.2 1.41-.59l7.78-7.78 2.81-2.81c.8-.78.8-2.07 0-2.86zM5.41 20L4 18.59l7.72-7.72 1.47 1.35L5.41 20z\"/>\n",
              "  </svg>\n",
              "      </button>\n",
              "      \n",
              "  <style>\n",
              "    .colab-df-container {\n",
              "      display:flex;\n",
              "      flex-wrap:wrap;\n",
              "      gap: 12px;\n",
              "    }\n",
              "\n",
              "    .colab-df-convert {\n",
              "      background-color: #E8F0FE;\n",
              "      border: none;\n",
              "      border-radius: 50%;\n",
              "      cursor: pointer;\n",
              "      display: none;\n",
              "      fill: #1967D2;\n",
              "      height: 32px;\n",
              "      padding: 0 0 0 0;\n",
              "      width: 32px;\n",
              "    }\n",
              "\n",
              "    .colab-df-convert:hover {\n",
              "      background-color: #E2EBFA;\n",
              "      box-shadow: 0px 1px 2px rgba(60, 64, 67, 0.3), 0px 1px 3px 1px rgba(60, 64, 67, 0.15);\n",
              "      fill: #174EA6;\n",
              "    }\n",
              "\n",
              "    [theme=dark] .colab-df-convert {\n",
              "      background-color: #3B4455;\n",
              "      fill: #D2E3FC;\n",
              "    }\n",
              "\n",
              "    [theme=dark] .colab-df-convert:hover {\n",
              "      background-color: #434B5C;\n",
              "      box-shadow: 0px 1px 3px 1px rgba(0, 0, 0, 0.15);\n",
              "      filter: drop-shadow(0px 1px 2px rgba(0, 0, 0, 0.3));\n",
              "      fill: #FFFFFF;\n",
              "    }\n",
              "  </style>\n",
              "\n",
              "      <script>\n",
              "        const buttonEl =\n",
              "          document.querySelector('#df-69e449c5-3cbb-43f3-be6d-c73bcc0b46b1 button.colab-df-convert');\n",
              "        buttonEl.style.display =\n",
              "          google.colab.kernel.accessAllowed ? 'block' : 'none';\n",
              "\n",
              "        async function convertToInteractive(key) {\n",
              "          const element = document.querySelector('#df-69e449c5-3cbb-43f3-be6d-c73bcc0b46b1');\n",
              "          const dataTable =\n",
              "            await google.colab.kernel.invokeFunction('convertToInteractive',\n",
              "                                                     [key], {});\n",
              "          if (!dataTable) return;\n",
              "\n",
              "          const docLinkHtml = 'Like what you see? Visit the ' +\n",
              "            '<a target=\"_blank\" href=https://colab.research.google.com/notebooks/data_table.ipynb>data table notebook</a>'\n",
              "            + ' to learn more about interactive tables.';\n",
              "          element.innerHTML = '';\n",
              "          dataTable['output_type'] = 'display_data';\n",
              "          await google.colab.output.renderOutput(dataTable, element);\n",
              "          const docLink = document.createElement('div');\n",
              "          docLink.innerHTML = docLinkHtml;\n",
              "          element.appendChild(docLink);\n",
              "        }\n",
              "      </script>\n",
              "    </div>\n",
              "  </div>\n",
              "  "
            ]
          },
          "metadata": {},
          "execution_count": 22
        }
      ],
      "source": [
        "# A.\tEliminate All special Characters and Numbers\n",
        "df3['text'] = df3['text'].apply(lambda x: re.sub('[^a-zA-Z]', ' ', x))\n",
        "df3.head()"
      ]
    },
    {
      "cell_type": "code",
      "execution_count": null,
      "metadata": {
        "colab": {
          "base_uri": "https://localhost:8080/",
          "height": 206
        },
        "id": "INHUEkWQRpWL",
        "outputId": "fb1ddb52-4216-4b48-bb67-be7ae8be466d"
      },
      "outputs": [
        {
          "output_type": "execute_result",
          "data": {
            "text/plain": [
              "               id  gender   age        topic     sign              date  \\\n",
              "473776  1705067.0  female  27.0  Environment   Pisces       08,May,2004   \n",
              "32191   1538911.0  female  35.0       indUnk    Libra      13,July,2004   \n",
              "376283  3181479.0    male  24.0      Student   Cancer      08,July,2004   \n",
              "182237  1804032.0  female  17.0       indUnk    Libra  09,November,2003   \n",
              "220151  3758757.0    male  14.0      Student  Scorpio      26,June,2004   \n",
              "\n",
              "                                                     text  \n",
              "473776                then i see you standing there wa...  \n",
              "32191          looks like our house  the one we re sel...  \n",
              "376283               pics from the bbq are coming soon...  \n",
              "182237         well i havent had the best weeks but fo...  \n",
              "220151             my thoughts  this is so cool i can ...  "
            ],
            "text/html": [
              "\n",
              "  <div id=\"df-2fed11b7-1eae-4d93-9a02-b7700b652c2b\">\n",
              "    <div class=\"colab-df-container\">\n",
              "      <div>\n",
              "<style scoped>\n",
              "    .dataframe tbody tr th:only-of-type {\n",
              "        vertical-align: middle;\n",
              "    }\n",
              "\n",
              "    .dataframe tbody tr th {\n",
              "        vertical-align: top;\n",
              "    }\n",
              "\n",
              "    .dataframe thead th {\n",
              "        text-align: right;\n",
              "    }\n",
              "</style>\n",
              "<table border=\"1\" class=\"dataframe\">\n",
              "  <thead>\n",
              "    <tr style=\"text-align: right;\">\n",
              "      <th></th>\n",
              "      <th>id</th>\n",
              "      <th>gender</th>\n",
              "      <th>age</th>\n",
              "      <th>topic</th>\n",
              "      <th>sign</th>\n",
              "      <th>date</th>\n",
              "      <th>text</th>\n",
              "    </tr>\n",
              "  </thead>\n",
              "  <tbody>\n",
              "    <tr>\n",
              "      <th>473776</th>\n",
              "      <td>1705067.0</td>\n",
              "      <td>female</td>\n",
              "      <td>27.0</td>\n",
              "      <td>Environment</td>\n",
              "      <td>Pisces</td>\n",
              "      <td>08,May,2004</td>\n",
              "      <td>then i see you standing there wa...</td>\n",
              "    </tr>\n",
              "    <tr>\n",
              "      <th>32191</th>\n",
              "      <td>1538911.0</td>\n",
              "      <td>female</td>\n",
              "      <td>35.0</td>\n",
              "      <td>indUnk</td>\n",
              "      <td>Libra</td>\n",
              "      <td>13,July,2004</td>\n",
              "      <td>looks like our house  the one we re sel...</td>\n",
              "    </tr>\n",
              "    <tr>\n",
              "      <th>376283</th>\n",
              "      <td>3181479.0</td>\n",
              "      <td>male</td>\n",
              "      <td>24.0</td>\n",
              "      <td>Student</td>\n",
              "      <td>Cancer</td>\n",
              "      <td>08,July,2004</td>\n",
              "      <td>pics from the bbq are coming soon...</td>\n",
              "    </tr>\n",
              "    <tr>\n",
              "      <th>182237</th>\n",
              "      <td>1804032.0</td>\n",
              "      <td>female</td>\n",
              "      <td>17.0</td>\n",
              "      <td>indUnk</td>\n",
              "      <td>Libra</td>\n",
              "      <td>09,November,2003</td>\n",
              "      <td>well i havent had the best weeks but fo...</td>\n",
              "    </tr>\n",
              "    <tr>\n",
              "      <th>220151</th>\n",
              "      <td>3758757.0</td>\n",
              "      <td>male</td>\n",
              "      <td>14.0</td>\n",
              "      <td>Student</td>\n",
              "      <td>Scorpio</td>\n",
              "      <td>26,June,2004</td>\n",
              "      <td>my thoughts  this is so cool i can ...</td>\n",
              "    </tr>\n",
              "  </tbody>\n",
              "</table>\n",
              "</div>\n",
              "      <button class=\"colab-df-convert\" onclick=\"convertToInteractive('df-2fed11b7-1eae-4d93-9a02-b7700b652c2b')\"\n",
              "              title=\"Convert this dataframe to an interactive table.\"\n",
              "              style=\"display:none;\">\n",
              "        \n",
              "  <svg xmlns=\"http://www.w3.org/2000/svg\" height=\"24px\"viewBox=\"0 0 24 24\"\n",
              "       width=\"24px\">\n",
              "    <path d=\"M0 0h24v24H0V0z\" fill=\"none\"/>\n",
              "    <path d=\"M18.56 5.44l.94 2.06.94-2.06 2.06-.94-2.06-.94-.94-2.06-.94 2.06-2.06.94zm-11 1L8.5 8.5l.94-2.06 2.06-.94-2.06-.94L8.5 2.5l-.94 2.06-2.06.94zm10 10l.94 2.06.94-2.06 2.06-.94-2.06-.94-.94-2.06-.94 2.06-2.06.94z\"/><path d=\"M17.41 7.96l-1.37-1.37c-.4-.4-.92-.59-1.43-.59-.52 0-1.04.2-1.43.59L10.3 9.45l-7.72 7.72c-.78.78-.78 2.05 0 2.83L4 21.41c.39.39.9.59 1.41.59.51 0 1.02-.2 1.41-.59l7.78-7.78 2.81-2.81c.8-.78.8-2.07 0-2.86zM5.41 20L4 18.59l7.72-7.72 1.47 1.35L5.41 20z\"/>\n",
              "  </svg>\n",
              "      </button>\n",
              "      \n",
              "  <style>\n",
              "    .colab-df-container {\n",
              "      display:flex;\n",
              "      flex-wrap:wrap;\n",
              "      gap: 12px;\n",
              "    }\n",
              "\n",
              "    .colab-df-convert {\n",
              "      background-color: #E8F0FE;\n",
              "      border: none;\n",
              "      border-radius: 50%;\n",
              "      cursor: pointer;\n",
              "      display: none;\n",
              "      fill: #1967D2;\n",
              "      height: 32px;\n",
              "      padding: 0 0 0 0;\n",
              "      width: 32px;\n",
              "    }\n",
              "\n",
              "    .colab-df-convert:hover {\n",
              "      background-color: #E2EBFA;\n",
              "      box-shadow: 0px 1px 2px rgba(60, 64, 67, 0.3), 0px 1px 3px 1px rgba(60, 64, 67, 0.15);\n",
              "      fill: #174EA6;\n",
              "    }\n",
              "\n",
              "    [theme=dark] .colab-df-convert {\n",
              "      background-color: #3B4455;\n",
              "      fill: #D2E3FC;\n",
              "    }\n",
              "\n",
              "    [theme=dark] .colab-df-convert:hover {\n",
              "      background-color: #434B5C;\n",
              "      box-shadow: 0px 1px 3px 1px rgba(0, 0, 0, 0.15);\n",
              "      filter: drop-shadow(0px 1px 2px rgba(0, 0, 0, 0.3));\n",
              "      fill: #FFFFFF;\n",
              "    }\n",
              "  </style>\n",
              "\n",
              "      <script>\n",
              "        const buttonEl =\n",
              "          document.querySelector('#df-2fed11b7-1eae-4d93-9a02-b7700b652c2b button.colab-df-convert');\n",
              "        buttonEl.style.display =\n",
              "          google.colab.kernel.accessAllowed ? 'block' : 'none';\n",
              "\n",
              "        async function convertToInteractive(key) {\n",
              "          const element = document.querySelector('#df-2fed11b7-1eae-4d93-9a02-b7700b652c2b');\n",
              "          const dataTable =\n",
              "            await google.colab.kernel.invokeFunction('convertToInteractive',\n",
              "                                                     [key], {});\n",
              "          if (!dataTable) return;\n",
              "\n",
              "          const docLinkHtml = 'Like what you see? Visit the ' +\n",
              "            '<a target=\"_blank\" href=https://colab.research.google.com/notebooks/data_table.ipynb>data table notebook</a>'\n",
              "            + ' to learn more about interactive tables.';\n",
              "          element.innerHTML = '';\n",
              "          dataTable['output_type'] = 'display_data';\n",
              "          await google.colab.output.renderOutput(dataTable, element);\n",
              "          const docLink = document.createElement('div');\n",
              "          docLink.innerHTML = docLinkHtml;\n",
              "          element.appendChild(docLink);\n",
              "        }\n",
              "      </script>\n",
              "    </div>\n",
              "  </div>\n",
              "  "
            ]
          },
          "metadata": {},
          "execution_count": 23
        }
      ],
      "source": [
        "# B. Lowercase all textual data\n",
        "df3['text'] = df3['text'].str.lower()\n",
        "df3.head()"
      ]
    },
    {
      "cell_type": "code",
      "execution_count": null,
      "metadata": {
        "colab": {
          "base_uri": "https://localhost:8080/",
          "height": 206
        },
        "id": "5eafrpfbSUpm",
        "outputId": "50d44d29-d512-4863-b650-5800814a5d66"
      },
      "outputs": [
        {
          "output_type": "execute_result",
          "data": {
            "text/plain": [
              "               id  gender   age        topic     sign              date  \\\n",
              "473776  1705067.0  female  27.0  Environment   Pisces       08,May,2004   \n",
              "32191   1538911.0  female  35.0       indUnk    Libra      13,July,2004   \n",
              "376283  3181479.0    male  24.0      Student   Cancer      08,July,2004   \n",
              "182237  1804032.0  female  17.0       indUnk    Libra  09,November,2003   \n",
              "220151  3758757.0    male  14.0      Student  Scorpio      26,June,2004   \n",
              "\n",
              "                                                     text  \n",
              "473776  see standing wanting try see standing ever try...  \n",
              "32191   looks like house one selling going close augus...  \n",
              "376283  pics bbq coming soon urllink picture urllink j...  \n",
              "182237  well havent best weeks reason week lot better ...  \n",
              "220151  thoughts cool say ever want cant jack shit exc...  "
            ],
            "text/html": [
              "\n",
              "  <div id=\"df-d7f17c3e-3d64-461c-9a57-a38165bc11db\">\n",
              "    <div class=\"colab-df-container\">\n",
              "      <div>\n",
              "<style scoped>\n",
              "    .dataframe tbody tr th:only-of-type {\n",
              "        vertical-align: middle;\n",
              "    }\n",
              "\n",
              "    .dataframe tbody tr th {\n",
              "        vertical-align: top;\n",
              "    }\n",
              "\n",
              "    .dataframe thead th {\n",
              "        text-align: right;\n",
              "    }\n",
              "</style>\n",
              "<table border=\"1\" class=\"dataframe\">\n",
              "  <thead>\n",
              "    <tr style=\"text-align: right;\">\n",
              "      <th></th>\n",
              "      <th>id</th>\n",
              "      <th>gender</th>\n",
              "      <th>age</th>\n",
              "      <th>topic</th>\n",
              "      <th>sign</th>\n",
              "      <th>date</th>\n",
              "      <th>text</th>\n",
              "    </tr>\n",
              "  </thead>\n",
              "  <tbody>\n",
              "    <tr>\n",
              "      <th>473776</th>\n",
              "      <td>1705067.0</td>\n",
              "      <td>female</td>\n",
              "      <td>27.0</td>\n",
              "      <td>Environment</td>\n",
              "      <td>Pisces</td>\n",
              "      <td>08,May,2004</td>\n",
              "      <td>see standing wanting try see standing ever try...</td>\n",
              "    </tr>\n",
              "    <tr>\n",
              "      <th>32191</th>\n",
              "      <td>1538911.0</td>\n",
              "      <td>female</td>\n",
              "      <td>35.0</td>\n",
              "      <td>indUnk</td>\n",
              "      <td>Libra</td>\n",
              "      <td>13,July,2004</td>\n",
              "      <td>looks like house one selling going close augus...</td>\n",
              "    </tr>\n",
              "    <tr>\n",
              "      <th>376283</th>\n",
              "      <td>3181479.0</td>\n",
              "      <td>male</td>\n",
              "      <td>24.0</td>\n",
              "      <td>Student</td>\n",
              "      <td>Cancer</td>\n",
              "      <td>08,July,2004</td>\n",
              "      <td>pics bbq coming soon urllink picture urllink j...</td>\n",
              "    </tr>\n",
              "    <tr>\n",
              "      <th>182237</th>\n",
              "      <td>1804032.0</td>\n",
              "      <td>female</td>\n",
              "      <td>17.0</td>\n",
              "      <td>indUnk</td>\n",
              "      <td>Libra</td>\n",
              "      <td>09,November,2003</td>\n",
              "      <td>well havent best weeks reason week lot better ...</td>\n",
              "    </tr>\n",
              "    <tr>\n",
              "      <th>220151</th>\n",
              "      <td>3758757.0</td>\n",
              "      <td>male</td>\n",
              "      <td>14.0</td>\n",
              "      <td>Student</td>\n",
              "      <td>Scorpio</td>\n",
              "      <td>26,June,2004</td>\n",
              "      <td>thoughts cool say ever want cant jack shit exc...</td>\n",
              "    </tr>\n",
              "  </tbody>\n",
              "</table>\n",
              "</div>\n",
              "      <button class=\"colab-df-convert\" onclick=\"convertToInteractive('df-d7f17c3e-3d64-461c-9a57-a38165bc11db')\"\n",
              "              title=\"Convert this dataframe to an interactive table.\"\n",
              "              style=\"display:none;\">\n",
              "        \n",
              "  <svg xmlns=\"http://www.w3.org/2000/svg\" height=\"24px\"viewBox=\"0 0 24 24\"\n",
              "       width=\"24px\">\n",
              "    <path d=\"M0 0h24v24H0V0z\" fill=\"none\"/>\n",
              "    <path d=\"M18.56 5.44l.94 2.06.94-2.06 2.06-.94-2.06-.94-.94-2.06-.94 2.06-2.06.94zm-11 1L8.5 8.5l.94-2.06 2.06-.94-2.06-.94L8.5 2.5l-.94 2.06-2.06.94zm10 10l.94 2.06.94-2.06 2.06-.94-2.06-.94-.94-2.06-.94 2.06-2.06.94z\"/><path d=\"M17.41 7.96l-1.37-1.37c-.4-.4-.92-.59-1.43-.59-.52 0-1.04.2-1.43.59L10.3 9.45l-7.72 7.72c-.78.78-.78 2.05 0 2.83L4 21.41c.39.39.9.59 1.41.59.51 0 1.02-.2 1.41-.59l7.78-7.78 2.81-2.81c.8-.78.8-2.07 0-2.86zM5.41 20L4 18.59l7.72-7.72 1.47 1.35L5.41 20z\"/>\n",
              "  </svg>\n",
              "      </button>\n",
              "      \n",
              "  <style>\n",
              "    .colab-df-container {\n",
              "      display:flex;\n",
              "      flex-wrap:wrap;\n",
              "      gap: 12px;\n",
              "    }\n",
              "\n",
              "    .colab-df-convert {\n",
              "      background-color: #E8F0FE;\n",
              "      border: none;\n",
              "      border-radius: 50%;\n",
              "      cursor: pointer;\n",
              "      display: none;\n",
              "      fill: #1967D2;\n",
              "      height: 32px;\n",
              "      padding: 0 0 0 0;\n",
              "      width: 32px;\n",
              "    }\n",
              "\n",
              "    .colab-df-convert:hover {\n",
              "      background-color: #E2EBFA;\n",
              "      box-shadow: 0px 1px 2px rgba(60, 64, 67, 0.3), 0px 1px 3px 1px rgba(60, 64, 67, 0.15);\n",
              "      fill: #174EA6;\n",
              "    }\n",
              "\n",
              "    [theme=dark] .colab-df-convert {\n",
              "      background-color: #3B4455;\n",
              "      fill: #D2E3FC;\n",
              "    }\n",
              "\n",
              "    [theme=dark] .colab-df-convert:hover {\n",
              "      background-color: #434B5C;\n",
              "      box-shadow: 0px 1px 3px 1px rgba(0, 0, 0, 0.15);\n",
              "      filter: drop-shadow(0px 1px 2px rgba(0, 0, 0, 0.3));\n",
              "      fill: #FFFFFF;\n",
              "    }\n",
              "  </style>\n",
              "\n",
              "      <script>\n",
              "        const buttonEl =\n",
              "          document.querySelector('#df-d7f17c3e-3d64-461c-9a57-a38165bc11db button.colab-df-convert');\n",
              "        buttonEl.style.display =\n",
              "          google.colab.kernel.accessAllowed ? 'block' : 'none';\n",
              "\n",
              "        async function convertToInteractive(key) {\n",
              "          const element = document.querySelector('#df-d7f17c3e-3d64-461c-9a57-a38165bc11db');\n",
              "          const dataTable =\n",
              "            await google.colab.kernel.invokeFunction('convertToInteractive',\n",
              "                                                     [key], {});\n",
              "          if (!dataTable) return;\n",
              "\n",
              "          const docLinkHtml = 'Like what you see? Visit the ' +\n",
              "            '<a target=\"_blank\" href=https://colab.research.google.com/notebooks/data_table.ipynb>data table notebook</a>'\n",
              "            + ' to learn more about interactive tables.';\n",
              "          element.innerHTML = '';\n",
              "          dataTable['output_type'] = 'display_data';\n",
              "          await google.colab.output.renderOutput(dataTable, element);\n",
              "          const docLink = document.createElement('div');\n",
              "          docLink.innerHTML = docLinkHtml;\n",
              "          element.appendChild(docLink);\n",
              "        }\n",
              "      </script>\n",
              "    </div>\n",
              "  </div>\n",
              "  "
            ]
          },
          "metadata": {},
          "execution_count": 24
        }
      ],
      "source": [
        "# C. Remove all Stopwords\n",
        "stop_words = set(stopwords.words('english'))\n",
        "df3['text'] = df3['text'].apply(lambda x: ' '.join([word for word in word_tokenize(x) if word not in stop_words]))\n",
        "df3.head()"
      ]
    },
    {
      "cell_type": "code",
      "execution_count": null,
      "metadata": {
        "colab": {
          "base_uri": "https://localhost:8080/",
          "height": 206
        },
        "id": "UuU4s4XDTf4f",
        "outputId": "c8576532-93cf-4ce5-eec4-4ed483b4a0c3"
      },
      "outputs": [
        {
          "output_type": "execute_result",
          "data": {
            "text/plain": [
              "               id  gender   age        topic     sign              date  \\\n",
              "473776  1705067.0  female  27.0  Environment   Pisces       08,May,2004   \n",
              "32191   1538911.0  female  35.0       indUnk    Libra      13,July,2004   \n",
              "376283  3181479.0    male  24.0      Student   Cancer      08,July,2004   \n",
              "182237  1804032.0  female  17.0       indUnk    Libra  09,November,2003   \n",
              "220151  3758757.0    male  14.0      Student  Scorpio      26,June,2004   \n",
              "\n",
              "                                                     text  \n",
              "473776  see standing wanting try see standing ever try...  \n",
              "32191   looks like house one selling going close augus...  \n",
              "376283  pics bbq coming soon urllink picture urllink j...  \n",
              "182237  well havent best weeks reason week lot better ...  \n",
              "220151  thoughts cool say ever want cant jack shit exc...  "
            ],
            "text/html": [
              "\n",
              "  <div id=\"df-260c7260-15d2-4203-aa63-8f20071e25a8\">\n",
              "    <div class=\"colab-df-container\">\n",
              "      <div>\n",
              "<style scoped>\n",
              "    .dataframe tbody tr th:only-of-type {\n",
              "        vertical-align: middle;\n",
              "    }\n",
              "\n",
              "    .dataframe tbody tr th {\n",
              "        vertical-align: top;\n",
              "    }\n",
              "\n",
              "    .dataframe thead th {\n",
              "        text-align: right;\n",
              "    }\n",
              "</style>\n",
              "<table border=\"1\" class=\"dataframe\">\n",
              "  <thead>\n",
              "    <tr style=\"text-align: right;\">\n",
              "      <th></th>\n",
              "      <th>id</th>\n",
              "      <th>gender</th>\n",
              "      <th>age</th>\n",
              "      <th>topic</th>\n",
              "      <th>sign</th>\n",
              "      <th>date</th>\n",
              "      <th>text</th>\n",
              "    </tr>\n",
              "  </thead>\n",
              "  <tbody>\n",
              "    <tr>\n",
              "      <th>473776</th>\n",
              "      <td>1705067.0</td>\n",
              "      <td>female</td>\n",
              "      <td>27.0</td>\n",
              "      <td>Environment</td>\n",
              "      <td>Pisces</td>\n",
              "      <td>08,May,2004</td>\n",
              "      <td>see standing wanting try see standing ever try...</td>\n",
              "    </tr>\n",
              "    <tr>\n",
              "      <th>32191</th>\n",
              "      <td>1538911.0</td>\n",
              "      <td>female</td>\n",
              "      <td>35.0</td>\n",
              "      <td>indUnk</td>\n",
              "      <td>Libra</td>\n",
              "      <td>13,July,2004</td>\n",
              "      <td>looks like house one selling going close augus...</td>\n",
              "    </tr>\n",
              "    <tr>\n",
              "      <th>376283</th>\n",
              "      <td>3181479.0</td>\n",
              "      <td>male</td>\n",
              "      <td>24.0</td>\n",
              "      <td>Student</td>\n",
              "      <td>Cancer</td>\n",
              "      <td>08,July,2004</td>\n",
              "      <td>pics bbq coming soon urllink picture urllink j...</td>\n",
              "    </tr>\n",
              "    <tr>\n",
              "      <th>182237</th>\n",
              "      <td>1804032.0</td>\n",
              "      <td>female</td>\n",
              "      <td>17.0</td>\n",
              "      <td>indUnk</td>\n",
              "      <td>Libra</td>\n",
              "      <td>09,November,2003</td>\n",
              "      <td>well havent best weeks reason week lot better ...</td>\n",
              "    </tr>\n",
              "    <tr>\n",
              "      <th>220151</th>\n",
              "      <td>3758757.0</td>\n",
              "      <td>male</td>\n",
              "      <td>14.0</td>\n",
              "      <td>Student</td>\n",
              "      <td>Scorpio</td>\n",
              "      <td>26,June,2004</td>\n",
              "      <td>thoughts cool say ever want cant jack shit exc...</td>\n",
              "    </tr>\n",
              "  </tbody>\n",
              "</table>\n",
              "</div>\n",
              "      <button class=\"colab-df-convert\" onclick=\"convertToInteractive('df-260c7260-15d2-4203-aa63-8f20071e25a8')\"\n",
              "              title=\"Convert this dataframe to an interactive table.\"\n",
              "              style=\"display:none;\">\n",
              "        \n",
              "  <svg xmlns=\"http://www.w3.org/2000/svg\" height=\"24px\"viewBox=\"0 0 24 24\"\n",
              "       width=\"24px\">\n",
              "    <path d=\"M0 0h24v24H0V0z\" fill=\"none\"/>\n",
              "    <path d=\"M18.56 5.44l.94 2.06.94-2.06 2.06-.94-2.06-.94-.94-2.06-.94 2.06-2.06.94zm-11 1L8.5 8.5l.94-2.06 2.06-.94-2.06-.94L8.5 2.5l-.94 2.06-2.06.94zm10 10l.94 2.06.94-2.06 2.06-.94-2.06-.94-.94-2.06-.94 2.06-2.06.94z\"/><path d=\"M17.41 7.96l-1.37-1.37c-.4-.4-.92-.59-1.43-.59-.52 0-1.04.2-1.43.59L10.3 9.45l-7.72 7.72c-.78.78-.78 2.05 0 2.83L4 21.41c.39.39.9.59 1.41.59.51 0 1.02-.2 1.41-.59l7.78-7.78 2.81-2.81c.8-.78.8-2.07 0-2.86zM5.41 20L4 18.59l7.72-7.72 1.47 1.35L5.41 20z\"/>\n",
              "  </svg>\n",
              "      </button>\n",
              "      \n",
              "  <style>\n",
              "    .colab-df-container {\n",
              "      display:flex;\n",
              "      flex-wrap:wrap;\n",
              "      gap: 12px;\n",
              "    }\n",
              "\n",
              "    .colab-df-convert {\n",
              "      background-color: #E8F0FE;\n",
              "      border: none;\n",
              "      border-radius: 50%;\n",
              "      cursor: pointer;\n",
              "      display: none;\n",
              "      fill: #1967D2;\n",
              "      height: 32px;\n",
              "      padding: 0 0 0 0;\n",
              "      width: 32px;\n",
              "    }\n",
              "\n",
              "    .colab-df-convert:hover {\n",
              "      background-color: #E2EBFA;\n",
              "      box-shadow: 0px 1px 2px rgba(60, 64, 67, 0.3), 0px 1px 3px 1px rgba(60, 64, 67, 0.15);\n",
              "      fill: #174EA6;\n",
              "    }\n",
              "\n",
              "    [theme=dark] .colab-df-convert {\n",
              "      background-color: #3B4455;\n",
              "      fill: #D2E3FC;\n",
              "    }\n",
              "\n",
              "    [theme=dark] .colab-df-convert:hover {\n",
              "      background-color: #434B5C;\n",
              "      box-shadow: 0px 1px 3px 1px rgba(0, 0, 0, 0.15);\n",
              "      filter: drop-shadow(0px 1px 2px rgba(0, 0, 0, 0.3));\n",
              "      fill: #FFFFFF;\n",
              "    }\n",
              "  </style>\n",
              "\n",
              "      <script>\n",
              "        const buttonEl =\n",
              "          document.querySelector('#df-260c7260-15d2-4203-aa63-8f20071e25a8 button.colab-df-convert');\n",
              "        buttonEl.style.display =\n",
              "          google.colab.kernel.accessAllowed ? 'block' : 'none';\n",
              "\n",
              "        async function convertToInteractive(key) {\n",
              "          const element = document.querySelector('#df-260c7260-15d2-4203-aa63-8f20071e25a8');\n",
              "          const dataTable =\n",
              "            await google.colab.kernel.invokeFunction('convertToInteractive',\n",
              "                                                     [key], {});\n",
              "          if (!dataTable) return;\n",
              "\n",
              "          const docLinkHtml = 'Like what you see? Visit the ' +\n",
              "            '<a target=\"_blank\" href=https://colab.research.google.com/notebooks/data_table.ipynb>data table notebook</a>'\n",
              "            + ' to learn more about interactive tables.';\n",
              "          element.innerHTML = '';\n",
              "          dataTable['output_type'] = 'display_data';\n",
              "          await google.colab.output.renderOutput(dataTable, element);\n",
              "          const docLink = document.createElement('div');\n",
              "          docLink.innerHTML = docLinkHtml;\n",
              "          element.appendChild(docLink);\n",
              "        }\n",
              "      </script>\n",
              "    </div>\n",
              "  </div>\n",
              "  "
            ]
          },
          "metadata": {},
          "execution_count": 25
        }
      ],
      "source": [
        "# D. Remove all extra white spaces\n",
        "df3['text'] = df3['text'].str.strip()\n",
        "df3['text'] = df3['text'].apply(lambda x: re.sub('\\s+', ' ', x))\n",
        "df3.head()"
      ]
    },
    {
      "cell_type": "markdown",
      "source": [
        "## 3.\tBuild a base Classification model "
      ],
      "metadata": {
        "id": "HagEuHPV2VrS"
      }
    },
    {
      "cell_type": "markdown",
      "source": [
        "### Base Model on imbalanced dataset"
      ],
      "metadata": {
        "id": "6zCcPUzC2nU2"
      }
    },
    {
      "cell_type": "code",
      "execution_count": null,
      "metadata": {
        "id": "c02vTBt2ScmN"
      },
      "outputs": [],
      "source": [
        "# A.\tCreate dependent and independent variables \n",
        "X = df3['text']  # Independent variable (input text data)\n",
        "y = df3['topic']  # Dependent variable (target variable)"
      ]
    },
    {
      "cell_type": "code",
      "execution_count": null,
      "metadata": {
        "colab": {
          "base_uri": "https://localhost:8080/"
        },
        "id": "HApUqxKXZ4_e",
        "outputId": "93be5357-09e2-4d94-8357-09bc4b5cff96"
      },
      "outputs": [
        {
          "output_type": "execute_result",
          "data": {
            "text/plain": [
              "((95683,), (95683,))"
            ]
          },
          "metadata": {},
          "execution_count": 27
        }
      ],
      "source": [
        "# Check dataframe shape\n",
        "X.shape, y.shape"
      ]
    },
    {
      "cell_type": "code",
      "execution_count": null,
      "metadata": {
        "colab": {
          "base_uri": "https://localhost:8080/"
        },
        "id": "RI9tCoTRZ8WS",
        "outputId": "bc76a85f-a237-4dfa-a362-ddc2772e8d22"
      },
      "outputs": [
        {
          "output_type": "execute_result",
          "data": {
            "text/plain": [
              "40"
            ]
          },
          "metadata": {},
          "execution_count": 28
        }
      ],
      "source": [
        "# Total individual classes in Target variable\n",
        "y.nunique()"
      ]
    },
    {
      "cell_type": "code",
      "execution_count": null,
      "metadata": {
        "colab": {
          "base_uri": "https://localhost:8080/"
        },
        "id": "e1pRw69paEqJ",
        "outputId": "8caee875-0f80-453a-8955-dd3d012d78dd"
      },
      "outputs": [
        {
          "output_type": "execute_result",
          "data": {
            "text/plain": [
              "indUnk                     35089\n",
              "Student                    21406\n",
              "Technology                  5992\n",
              "Arts                        4594\n",
              "Education                   4174\n",
              "Communications-Media        2939\n",
              "Internet                    2208\n",
              "Non-Profit                  2087\n",
              "Engineering                 1649\n",
              "Law                         1356\n",
              "Publishing                  1093\n",
              "Science                     1065\n",
              "Government                   918\n",
              "Consulting                   815\n",
              "Religion                     725\n",
              "Marketing                    683\n",
              "Fashion                      677\n",
              "Advertising                  666\n",
              "BusinessServices             648\n",
              "Accounting                   559\n",
              "Banking                      550\n",
              "Telecommunications           543\n",
              "Chemicals                    515\n",
              "Military                     466\n",
              "Museums-Libraries            455\n",
              "HumanResources               434\n",
              "RealEstate                   413\n",
              "Sports-Recreation            381\n",
              "Transportation               333\n",
              "Manufacturing                321\n",
              "Biotech                      318\n",
              "Tourism                      287\n",
              "LawEnforcement-Security      264\n",
              "Architecture                 224\n",
              "Automotive                   185\n",
              "Agriculture                  181\n",
              "InvestmentBanking            178\n",
              "Construction                 148\n",
              "Environment                  100\n",
              "Maritime                      44\n",
              "Name: topic, dtype: int64"
            ]
          },
          "metadata": {},
          "execution_count": 29
        }
      ],
      "source": [
        "# Total records for each individual class in Target variable\n",
        "y.value_counts()"
      ]
    },
    {
      "cell_type": "code",
      "execution_count": null,
      "metadata": {
        "id": "SCYOlzUcXiVR"
      },
      "outputs": [],
      "source": [
        "# B. Split data into train and test \n",
        "X_train, X_test, y_train, y_test = train_test_split(X, y, test_size = 0.2, random_state = 42)"
      ]
    },
    {
      "cell_type": "code",
      "execution_count": null,
      "metadata": {
        "colab": {
          "base_uri": "https://localhost:8080/"
        },
        "id": "JAcwU2RrXvUU",
        "outputId": "beda01ed-624c-4f30-c3d9-14c79a219733"
      },
      "outputs": [
        {
          "output_type": "stream",
          "name": "stdout",
          "text": [
            "(76546,)\n",
            "(76546,)\n",
            "(19137,)\n",
            "(19137,)\n"
          ]
        }
      ],
      "source": [
        "# Print shape of all the 4 data split into x, y, train, test to verify if x & y is in sync. \n",
        "print(X_train.shape)\n",
        "print(y_train.shape)\n",
        "print(X_test.shape)\n",
        "print(y_test.shape)"
      ]
    },
    {
      "cell_type": "code",
      "execution_count": null,
      "metadata": {
        "id": "5mNod-hiYFhB"
      },
      "outputs": [],
      "source": [
        "# C. Vectorize data using any one vectorizer\n",
        "from sklearn.feature_extraction.text import CountVectorizer\n",
        "\n",
        "vectorizer = CountVectorizer()\n",
        "X_train_vectorized = vectorizer.fit_transform(X_train)\n",
        "X_test_vectorized = vectorizer.transform(X_test)"
      ]
    },
    {
      "cell_type": "code",
      "execution_count": null,
      "metadata": {
        "colab": {
          "base_uri": "https://localhost:8080/",
          "height": 74
        },
        "id": "CUlEqLDa5ql1",
        "outputId": "c9f91fb5-7b83-41c3-d0ec-31ef101f0fa4"
      },
      "outputs": [
        {
          "output_type": "execute_result",
          "data": {
            "text/plain": [
              "LogisticRegression()"
            ],
            "text/html": [
              "<style>#sk-container-id-1 {color: black;background-color: white;}#sk-container-id-1 pre{padding: 0;}#sk-container-id-1 div.sk-toggleable {background-color: white;}#sk-container-id-1 label.sk-toggleable__label {cursor: pointer;display: block;width: 100%;margin-bottom: 0;padding: 0.3em;box-sizing: border-box;text-align: center;}#sk-container-id-1 label.sk-toggleable__label-arrow:before {content: \"▸\";float: left;margin-right: 0.25em;color: #696969;}#sk-container-id-1 label.sk-toggleable__label-arrow:hover:before {color: black;}#sk-container-id-1 div.sk-estimator:hover label.sk-toggleable__label-arrow:before {color: black;}#sk-container-id-1 div.sk-toggleable__content {max-height: 0;max-width: 0;overflow: hidden;text-align: left;background-color: #f0f8ff;}#sk-container-id-1 div.sk-toggleable__content pre {margin: 0.2em;color: black;border-radius: 0.25em;background-color: #f0f8ff;}#sk-container-id-1 input.sk-toggleable__control:checked~div.sk-toggleable__content {max-height: 200px;max-width: 100%;overflow: auto;}#sk-container-id-1 input.sk-toggleable__control:checked~label.sk-toggleable__label-arrow:before {content: \"▾\";}#sk-container-id-1 div.sk-estimator input.sk-toggleable__control:checked~label.sk-toggleable__label {background-color: #d4ebff;}#sk-container-id-1 div.sk-label input.sk-toggleable__control:checked~label.sk-toggleable__label {background-color: #d4ebff;}#sk-container-id-1 input.sk-hidden--visually {border: 0;clip: rect(1px 1px 1px 1px);clip: rect(1px, 1px, 1px, 1px);height: 1px;margin: -1px;overflow: hidden;padding: 0;position: absolute;width: 1px;}#sk-container-id-1 div.sk-estimator {font-family: monospace;background-color: #f0f8ff;border: 1px dotted black;border-radius: 0.25em;box-sizing: border-box;margin-bottom: 0.5em;}#sk-container-id-1 div.sk-estimator:hover {background-color: #d4ebff;}#sk-container-id-1 div.sk-parallel-item::after {content: \"\";width: 100%;border-bottom: 1px solid gray;flex-grow: 1;}#sk-container-id-1 div.sk-label:hover label.sk-toggleable__label {background-color: #d4ebff;}#sk-container-id-1 div.sk-serial::before {content: \"\";position: absolute;border-left: 1px solid gray;box-sizing: border-box;top: 0;bottom: 0;left: 50%;z-index: 0;}#sk-container-id-1 div.sk-serial {display: flex;flex-direction: column;align-items: center;background-color: white;padding-right: 0.2em;padding-left: 0.2em;position: relative;}#sk-container-id-1 div.sk-item {position: relative;z-index: 1;}#sk-container-id-1 div.sk-parallel {display: flex;align-items: stretch;justify-content: center;background-color: white;position: relative;}#sk-container-id-1 div.sk-item::before, #sk-container-id-1 div.sk-parallel-item::before {content: \"\";position: absolute;border-left: 1px solid gray;box-sizing: border-box;top: 0;bottom: 0;left: 50%;z-index: -1;}#sk-container-id-1 div.sk-parallel-item {display: flex;flex-direction: column;z-index: 1;position: relative;background-color: white;}#sk-container-id-1 div.sk-parallel-item:first-child::after {align-self: flex-end;width: 50%;}#sk-container-id-1 div.sk-parallel-item:last-child::after {align-self: flex-start;width: 50%;}#sk-container-id-1 div.sk-parallel-item:only-child::after {width: 0;}#sk-container-id-1 div.sk-dashed-wrapped {border: 1px dashed gray;margin: 0 0.4em 0.5em 0.4em;box-sizing: border-box;padding-bottom: 0.4em;background-color: white;}#sk-container-id-1 div.sk-label label {font-family: monospace;font-weight: bold;display: inline-block;line-height: 1.2em;}#sk-container-id-1 div.sk-label-container {text-align: center;}#sk-container-id-1 div.sk-container {/* jupyter's `normalize.less` sets `[hidden] { display: none; }` but bootstrap.min.css set `[hidden] { display: none !important; }` so we also need the `!important` here to be able to override the default hidden behavior on the sphinx rendered scikit-learn.org. See: https://github.com/scikit-learn/scikit-learn/issues/21755 */display: inline-block !important;position: relative;}#sk-container-id-1 div.sk-text-repr-fallback {display: none;}</style><div id=\"sk-container-id-1\" class=\"sk-top-container\"><div class=\"sk-text-repr-fallback\"><pre>LogisticRegression()</pre><b>In a Jupyter environment, please rerun this cell to show the HTML representation or trust the notebook. <br />On GitHub, the HTML representation is unable to render, please try loading this page with nbviewer.org.</b></div><div class=\"sk-container\" hidden><div class=\"sk-item\"><div class=\"sk-estimator sk-toggleable\"><input class=\"sk-toggleable__control sk-hidden--visually\" id=\"sk-estimator-id-1\" type=\"checkbox\" checked><label for=\"sk-estimator-id-1\" class=\"sk-toggleable__label sk-toggleable__label-arrow\">LogisticRegression</label><div class=\"sk-toggleable__content\"><pre>LogisticRegression()</pre></div></div></div></div></div>"
            ]
          },
          "metadata": {},
          "execution_count": 33
        }
      ],
      "source": [
        "# D.\tBuild a base model for Supervised Learning - Classification\n",
        "from sklearn.linear_model import LogisticRegression\n",
        "\n",
        "model = LogisticRegression()\n",
        "model.fit(X_train_vectorized, y_train)"
      ]
    },
    {
      "cell_type": "code",
      "execution_count": null,
      "metadata": {
        "colab": {
          "base_uri": "https://localhost:8080/"
        },
        "id": "RRM-RUo7KoJu",
        "outputId": "53f2280d-973e-4778-8af0-836b8f2d1a52"
      },
      "outputs": [
        {
          "output_type": "stream",
          "name": "stdout",
          "text": [
            "Logistic Regression Base Model before Dataset Balancing, Accuracy: 0.36808277159429376\n",
            "Logistic Regression Base Model before Dataset Balancing, Precision: 0.15068729062921973\n",
            "Logistic Regression Base Model before Dataset Balancing, Recall: 0.06599929211717118\n"
          ]
        }
      ],
      "source": [
        "# E. Clearly print Performance Metrics\n",
        "from sklearn.metrics import accuracy_score, precision_score, recall_score, roc_auc_score\n",
        "\n",
        "y_pred = model.predict(X_test_vectorized)\n",
        "accuracy = accuracy_score(y_test, y_pred)\n",
        "precision = precision_score(y_test, y_pred, average='macro')\n",
        "recall = recall_score(y_test, y_pred, average='macro')\n",
        "#roc_auc = roc_auc_score(y_test, y_pred)\n",
        "\n",
        "print(f\"Logistic Regression Base Model before Dataset Balancing, Accuracy: {accuracy}\")\n",
        "print(f\"Logistic Regression Base Model before Dataset Balancing, Precision: {precision}\")\n",
        "print(f\"Logistic Regression Base Model before Dataset Balancing, Recall: {recall}\")\n",
        "#print(f\"Logistic Regression Base Model before Dataset Balancing, ROC-AUC: {roc_auc}\")"
      ]
    },
    {
      "cell_type": "markdown",
      "source": [
        "#### Note:\n",
        "\n",
        "We can not print ROC-AUC metric for the target variable, Topic, since it has more than 2 classes, 40 classes here. And printing the ROC-AUC metric for multi-class classification using one-vs-rest approach is time intensive."
      ],
      "metadata": {
        "id": "KekeSS3C9afs"
      }
    },
    {
      "cell_type": "markdown",
      "source": [
        "#### Observations:\n",
        "\n",
        "1) The accuracy of the Base LR model in predicting the correct Topic is only 36.80%\n",
        "\n",
        "2) This could be due to the Topic label being highly imbalanced.\n",
        "\n",
        "3) To improve the Base model performance, we can use oversampling on the target class to create duplicate and synthetic data, and then take a fixed sample of records for each class in the Target label due to compute resrictions."
      ],
      "metadata": {
        "id": "MH14H1F02lo_"
      }
    },
    {
      "cell_type": "markdown",
      "source": [
        "### Base Model on balanced dataset"
      ],
      "metadata": {
        "id": "teTVCKjm9kMy"
      }
    },
    {
      "cell_type": "code",
      "execution_count": null,
      "metadata": {
        "id": "7owZB-XjixCp"
      },
      "outputs": [],
      "source": [
        "# Create Dependent and Independent variables\n",
        "X1 = df3.drop(labels = 'topic' , axis = 1)\n",
        "y1 = df3['topic']"
      ]
    },
    {
      "cell_type": "code",
      "execution_count": null,
      "metadata": {
        "colab": {
          "base_uri": "https://localhost:8080/"
        },
        "id": "wQUi5ZUeppce",
        "outputId": "2e4dc099-c0c7-40eb-a2f6-0bc2800d32b6"
      },
      "outputs": [
        {
          "data": {
            "text/plain": [
              "((95628, 6), (95628,))"
            ]
          },
          "execution_count": 37,
          "metadata": {},
          "output_type": "execute_result"
        }
      ],
      "source": [
        "# Check Dependent and Independent variables shape\n",
        "X1.shape, y1.shape"
      ]
    },
    {
      "cell_type": "code",
      "execution_count": null,
      "metadata": {
        "id": "8GdntI5EZvPC"
      },
      "outputs": [],
      "source": [
        "# Random Over Smapling for data generation\n",
        "from imblearn.over_sampling import RandomOverSampler\n",
        "\n",
        "#ros = RandomOverSampler(random_state = 42, sampling_strategy = 'minority')\n",
        "ros = RandomOverSampler(random_state = 42)\n",
        "\n",
        "#X_resampled, y_resampled = ros.fit_resample(X.values.reshape(-1,1), y)\n",
        "X_resampled, y_resampled = ros.fit_resample(X1, y1)"
      ]
    },
    {
      "cell_type": "code",
      "execution_count": null,
      "metadata": {
        "colab": {
          "base_uri": "https://localhost:8080/"
        },
        "id": "yXTQZ3U3eZZS",
        "outputId": "5b45109a-9326-4087-87f4-8df4e13e582c"
      },
      "outputs": [
        {
          "data": {
            "text/plain": [
              "((1410200, 6), (1410200,))"
            ]
          },
          "execution_count": 39,
          "metadata": {},
          "output_type": "execute_result"
        }
      ],
      "source": [
        "# Check Dependent and Independent variables shape\n",
        "X_resampled.shape, y_resampled.shape"
      ]
    },
    {
      "cell_type": "code",
      "execution_count": null,
      "metadata": {
        "colab": {
          "base_uri": "https://localhost:8080/"
        },
        "id": "NmKidvu_eZZU",
        "outputId": "9f3fe4de-b438-4878-a2a7-0a940f1a7ac0"
      },
      "outputs": [
        {
          "data": {
            "text/plain": [
              "40"
            ]
          },
          "execution_count": 40,
          "metadata": {},
          "output_type": "execute_result"
        }
      ],
      "source": [
        "# Total individual classes in Target variable\n",
        "y_resampled.nunique()"
      ]
    },
    {
      "cell_type": "code",
      "execution_count": null,
      "metadata": {
        "colab": {
          "base_uri": "https://localhost:8080/"
        },
        "id": "WQaB4VcReZZU",
        "outputId": "f65c34b0-23b9-429b-917f-ddea63a52249"
      },
      "outputs": [
        {
          "data": {
            "text/plain": [
              "indUnk                     35255\n",
              "Student                    35255\n",
              "InvestmentBanking          35255\n",
              "Transportation             35255\n",
              "Religion                   35255\n",
              "Non-Profit                 35255\n",
              "Banking                    35255\n",
              "Science                    35255\n",
              "Marketing                  35255\n",
              "Chemicals                  35255\n",
              "Agriculture                35255\n",
              "Accounting                 35255\n",
              "LawEnforcement-Security    35255\n",
              "Sports-Recreation          35255\n",
              "Military                   35255\n",
              "HumanResources             35255\n",
              "Automotive                 35255\n",
              "Tourism                    35255\n",
              "Environment                35255\n",
              "Museums-Libraries          35255\n",
              "Consulting                 35255\n",
              "Manufacturing              35255\n",
              "Education                  35255\n",
              "Engineering                35255\n",
              "Biotech                    35255\n",
              "Communications-Media       35255\n",
              "Advertising                35255\n",
              "Technology                 35255\n",
              "Publishing                 35255\n",
              "Law                        35255\n",
              "Internet                   35255\n",
              "Telecommunications         35255\n",
              "BusinessServices           35255\n",
              "Arts                       35255\n",
              "Fashion                    35255\n",
              "Government                 35255\n",
              "Construction               35255\n",
              "RealEstate                 35255\n",
              "Architecture               35255\n",
              "Maritime                   35255\n",
              "Name: topic, dtype: int64"
            ]
          },
          "execution_count": 41,
          "metadata": {},
          "output_type": "execute_result"
        }
      ],
      "source": [
        "# Total records for each individual class in Target variable\n",
        "y_resampled.value_counts()"
      ]
    },
    {
      "cell_type": "code",
      "execution_count": null,
      "metadata": {
        "colab": {
          "base_uri": "https://localhost:8080/"
        },
        "id": "CRnCuKoxqb44",
        "outputId": "9780b09a-4039-483b-8b72-fdebfd882425"
      },
      "outputs": [
        {
          "data": {
            "text/plain": [
              "(pandas.core.frame.DataFrame, pandas.core.series.Series)"
            ]
          },
          "execution_count": 42,
          "metadata": {},
          "output_type": "execute_result"
        }
      ],
      "source": [
        "# Check Dependent and Independent variables object type\n",
        "type(X_resampled), type(y_resampled)"
      ]
    },
    {
      "cell_type": "code",
      "execution_count": null,
      "metadata": {
        "id": "Uy7MSe3oqfBx"
      },
      "outputs": [],
      "source": [
        "# Create new dataframe\n",
        "df_resampled = pd.concat([X_resampled, y_resampled], axis=1)"
      ]
    },
    {
      "cell_type": "code",
      "execution_count": null,
      "metadata": {
        "colab": {
          "base_uri": "https://localhost:8080/",
          "height": 206
        },
        "id": "2RzEP7hJubft",
        "outputId": "81c097d7-3f7e-4858-9106-c1d029b73771"
      },
      "outputs": [
        {
          "data": {
            "text/html": [
              "\n",
              "  <div id=\"df-3c15f287-25ec-449a-bb19-3fa4f52f9829\">\n",
              "    <div class=\"colab-df-container\">\n",
              "      <div>\n",
              "<style scoped>\n",
              "    .dataframe tbody tr th:only-of-type {\n",
              "        vertical-align: middle;\n",
              "    }\n",
              "\n",
              "    .dataframe tbody tr th {\n",
              "        vertical-align: top;\n",
              "    }\n",
              "\n",
              "    .dataframe thead th {\n",
              "        text-align: right;\n",
              "    }\n",
              "</style>\n",
              "<table border=\"1\" class=\"dataframe\">\n",
              "  <thead>\n",
              "    <tr style=\"text-align: right;\">\n",
              "      <th></th>\n",
              "      <th>id</th>\n",
              "      <th>gender</th>\n",
              "      <th>age</th>\n",
              "      <th>sign</th>\n",
              "      <th>date</th>\n",
              "      <th>text</th>\n",
              "      <th>topic</th>\n",
              "    </tr>\n",
              "  </thead>\n",
              "  <tbody>\n",
              "    <tr>\n",
              "      <th>764021</th>\n",
              "      <td>3577690.0</td>\n",
              "      <td>male</td>\n",
              "      <td>23.0</td>\n",
              "      <td>Aries</td>\n",
              "      <td>18,June,2004</td>\n",
              "      <td>urllink microsoft research drm talk sony get p...</td>\n",
              "      <td>Internet</td>\n",
              "    </tr>\n",
              "    <tr>\n",
              "      <th>1308163</th>\n",
              "      <td>2311002.0</td>\n",
              "      <td>female</td>\n",
              "      <td>26.0</td>\n",
              "      <td>Sagittarius</td>\n",
              "      <td>04,Julho,2004</td>\n",
              "      <td>weekend found corner crescent de maisonneuve m...</td>\n",
              "      <td>Telecommunications</td>\n",
              "    </tr>\n",
              "    <tr>\n",
              "      <th>208300</th>\n",
              "      <td>3322647.0</td>\n",
              "      <td>female</td>\n",
              "      <td>24.0</td>\n",
              "      <td>Sagittarius</td>\n",
              "      <td>14,May,2004</td>\n",
              "      <td>guy gets home early work hears strange noises ...</td>\n",
              "      <td>Architecture</td>\n",
              "    </tr>\n",
              "    <tr>\n",
              "      <th>241233</th>\n",
              "      <td>1237310.0</td>\n",
              "      <td>male</td>\n",
              "      <td>38.0</td>\n",
              "      <td>Taurus</td>\n",
              "      <td>15,June,2004</td>\n",
              "      <td>barry lyndon directed stanley kubrick sweeping...</td>\n",
              "      <td>Arts</td>\n",
              "    </tr>\n",
              "    <tr>\n",
              "      <th>1192256</th>\n",
              "      <td>3379089.0</td>\n",
              "      <td>male</td>\n",
              "      <td>24.0</td>\n",
              "      <td>Libra</td>\n",
              "      <td>19,July,2004</td>\n",
              "      <td>widespread notion pasisng death transforms hum...</td>\n",
              "      <td>Religion</td>\n",
              "    </tr>\n",
              "  </tbody>\n",
              "</table>\n",
              "</div>\n",
              "      <button class=\"colab-df-convert\" onclick=\"convertToInteractive('df-3c15f287-25ec-449a-bb19-3fa4f52f9829')\"\n",
              "              title=\"Convert this dataframe to an interactive table.\"\n",
              "              style=\"display:none;\">\n",
              "        \n",
              "  <svg xmlns=\"http://www.w3.org/2000/svg\" height=\"24px\"viewBox=\"0 0 24 24\"\n",
              "       width=\"24px\">\n",
              "    <path d=\"M0 0h24v24H0V0z\" fill=\"none\"/>\n",
              "    <path d=\"M18.56 5.44l.94 2.06.94-2.06 2.06-.94-2.06-.94-.94-2.06-.94 2.06-2.06.94zm-11 1L8.5 8.5l.94-2.06 2.06-.94-2.06-.94L8.5 2.5l-.94 2.06-2.06.94zm10 10l.94 2.06.94-2.06 2.06-.94-2.06-.94-.94-2.06-.94 2.06-2.06.94z\"/><path d=\"M17.41 7.96l-1.37-1.37c-.4-.4-.92-.59-1.43-.59-.52 0-1.04.2-1.43.59L10.3 9.45l-7.72 7.72c-.78.78-.78 2.05 0 2.83L4 21.41c.39.39.9.59 1.41.59.51 0 1.02-.2 1.41-.59l7.78-7.78 2.81-2.81c.8-.78.8-2.07 0-2.86zM5.41 20L4 18.59l7.72-7.72 1.47 1.35L5.41 20z\"/>\n",
              "  </svg>\n",
              "      </button>\n",
              "      \n",
              "  <style>\n",
              "    .colab-df-container {\n",
              "      display:flex;\n",
              "      flex-wrap:wrap;\n",
              "      gap: 12px;\n",
              "    }\n",
              "\n",
              "    .colab-df-convert {\n",
              "      background-color: #E8F0FE;\n",
              "      border: none;\n",
              "      border-radius: 50%;\n",
              "      cursor: pointer;\n",
              "      display: none;\n",
              "      fill: #1967D2;\n",
              "      height: 32px;\n",
              "      padding: 0 0 0 0;\n",
              "      width: 32px;\n",
              "    }\n",
              "\n",
              "    .colab-df-convert:hover {\n",
              "      background-color: #E2EBFA;\n",
              "      box-shadow: 0px 1px 2px rgba(60, 64, 67, 0.3), 0px 1px 3px 1px rgba(60, 64, 67, 0.15);\n",
              "      fill: #174EA6;\n",
              "    }\n",
              "\n",
              "    [theme=dark] .colab-df-convert {\n",
              "      background-color: #3B4455;\n",
              "      fill: #D2E3FC;\n",
              "    }\n",
              "\n",
              "    [theme=dark] .colab-df-convert:hover {\n",
              "      background-color: #434B5C;\n",
              "      box-shadow: 0px 1px 3px 1px rgba(0, 0, 0, 0.15);\n",
              "      filter: drop-shadow(0px 1px 2px rgba(0, 0, 0, 0.3));\n",
              "      fill: #FFFFFF;\n",
              "    }\n",
              "  </style>\n",
              "\n",
              "      <script>\n",
              "        const buttonEl =\n",
              "          document.querySelector('#df-3c15f287-25ec-449a-bb19-3fa4f52f9829 button.colab-df-convert');\n",
              "        buttonEl.style.display =\n",
              "          google.colab.kernel.accessAllowed ? 'block' : 'none';\n",
              "\n",
              "        async function convertToInteractive(key) {\n",
              "          const element = document.querySelector('#df-3c15f287-25ec-449a-bb19-3fa4f52f9829');\n",
              "          const dataTable =\n",
              "            await google.colab.kernel.invokeFunction('convertToInteractive',\n",
              "                                                     [key], {});\n",
              "          if (!dataTable) return;\n",
              "\n",
              "          const docLinkHtml = 'Like what you see? Visit the ' +\n",
              "            '<a target=\"_blank\" href=https://colab.research.google.com/notebooks/data_table.ipynb>data table notebook</a>'\n",
              "            + ' to learn more about interactive tables.';\n",
              "          element.innerHTML = '';\n",
              "          dataTable['output_type'] = 'display_data';\n",
              "          await google.colab.output.renderOutput(dataTable, element);\n",
              "          const docLink = document.createElement('div');\n",
              "          docLink.innerHTML = docLinkHtml;\n",
              "          element.appendChild(docLink);\n",
              "        }\n",
              "      </script>\n",
              "    </div>\n",
              "  </div>\n",
              "  "
            ],
            "text/plain": [
              "                id  gender   age         sign           date  \\\n",
              "764021   3577690.0    male  23.0        Aries   18,June,2004   \n",
              "1308163  2311002.0  female  26.0  Sagittarius  04,Julho,2004   \n",
              "208300   3322647.0  female  24.0  Sagittarius    14,May,2004   \n",
              "241233   1237310.0    male  38.0       Taurus   15,June,2004   \n",
              "1192256  3379089.0    male  24.0        Libra   19,July,2004   \n",
              "\n",
              "                                                      text               topic  \n",
              "764021   urllink microsoft research drm talk sony get p...            Internet  \n",
              "1308163  weekend found corner crescent de maisonneuve m...  Telecommunications  \n",
              "208300   guy gets home early work hears strange noises ...        Architecture  \n",
              "241233   barry lyndon directed stanley kubrick sweeping...                Arts  \n",
              "1192256  widespread notion pasisng death transforms hum...            Religion  "
            ]
          },
          "execution_count": 44,
          "metadata": {},
          "output_type": "execute_result"
        }
      ],
      "source": [
        "# Dataframe sample\n",
        "df_resampled.sample(5)"
      ]
    },
    {
      "cell_type": "code",
      "execution_count": null,
      "metadata": {
        "colab": {
          "base_uri": "https://localhost:8080/"
        },
        "id": "XDP6uluFunLH",
        "outputId": "02914bba-3fb0-4532-cd93-62c3a689b420"
      },
      "outputs": [
        {
          "data": {
            "text/plain": [
              "40"
            ]
          },
          "execution_count": 45,
          "metadata": {},
          "output_type": "execute_result"
        }
      ],
      "source": [
        "# Total individual classes in Target variable\n",
        "df_resampled.topic.nunique()"
      ]
    },
    {
      "cell_type": "code",
      "execution_count": null,
      "metadata": {
        "colab": {
          "base_uri": "https://localhost:8080/"
        },
        "id": "PDZDBm95uglO",
        "outputId": "780bce0d-13a9-4c2e-fe2b-95b8714ea227"
      },
      "outputs": [
        {
          "data": {
            "text/plain": [
              "indUnk                     35255\n",
              "Student                    35255\n",
              "InvestmentBanking          35255\n",
              "Transportation             35255\n",
              "Religion                   35255\n",
              "Non-Profit                 35255\n",
              "Banking                    35255\n",
              "Science                    35255\n",
              "Marketing                  35255\n",
              "Chemicals                  35255\n",
              "Agriculture                35255\n",
              "Accounting                 35255\n",
              "LawEnforcement-Security    35255\n",
              "Sports-Recreation          35255\n",
              "Military                   35255\n",
              "HumanResources             35255\n",
              "Automotive                 35255\n",
              "Tourism                    35255\n",
              "Environment                35255\n",
              "Museums-Libraries          35255\n",
              "Consulting                 35255\n",
              "Manufacturing              35255\n",
              "Education                  35255\n",
              "Engineering                35255\n",
              "Biotech                    35255\n",
              "Communications-Media       35255\n",
              "Advertising                35255\n",
              "Technology                 35255\n",
              "Publishing                 35255\n",
              "Law                        35255\n",
              "Internet                   35255\n",
              "Telecommunications         35255\n",
              "BusinessServices           35255\n",
              "Arts                       35255\n",
              "Fashion                    35255\n",
              "Government                 35255\n",
              "Construction               35255\n",
              "RealEstate                 35255\n",
              "Architecture               35255\n",
              "Maritime                   35255\n",
              "Name: topic, dtype: int64"
            ]
          },
          "execution_count": 46,
          "metadata": {},
          "output_type": "execute_result"
        }
      ],
      "source": [
        "# Total records for each individual class in Target variable\n",
        "df_resampled.topic.value_counts()"
      ]
    },
    {
      "cell_type": "code",
      "execution_count": null,
      "metadata": {
        "id": "K6F_8B8u4b1A"
      },
      "outputs": [],
      "source": [
        "# Group the dataframe by 'topic' and sample 10,000 records from each group due to compute restrictions\n",
        "df_resampled_balanced = df_resampled.groupby('topic').apply(lambda x: x.sample(n=2500, random_state=42)).reset_index(drop=True)"
      ]
    },
    {
      "cell_type": "code",
      "execution_count": null,
      "metadata": {
        "colab": {
          "base_uri": "https://localhost:8080/"
        },
        "id": "0Pv0G8hn4301",
        "outputId": "bcdfc9c2-0033-4616-8ddf-bebafd8c6c0f"
      },
      "outputs": [
        {
          "data": {
            "text/plain": [
              "(100000, 7)"
            ]
          },
          "execution_count": 48,
          "metadata": {},
          "output_type": "execute_result"
        }
      ],
      "source": [
        "# Dataframe shape\n",
        "df_resampled_balanced.shape"
      ]
    },
    {
      "cell_type": "code",
      "execution_count": null,
      "metadata": {
        "colab": {
          "base_uri": "https://localhost:8080/"
        },
        "id": "y2Qv4b3m4wFW",
        "outputId": "9f56f3f0-ba6d-4718-915a-f3fd554f6cc3"
      },
      "outputs": [
        {
          "data": {
            "text/plain": [
              "40"
            ]
          },
          "execution_count": 49,
          "metadata": {},
          "output_type": "execute_result"
        }
      ],
      "source": [
        "# Total individual classes in Target variable\n",
        "df_resampled_balanced.topic.nunique()"
      ]
    },
    {
      "cell_type": "code",
      "execution_count": null,
      "metadata": {
        "colab": {
          "base_uri": "https://localhost:8080/"
        },
        "id": "mL7oV0H14xhr",
        "outputId": "1274ada0-5bec-4275-c157-3267ef51fc8c"
      },
      "outputs": [
        {
          "data": {
            "text/plain": [
              "Accounting                 2500\n",
              "Advertising                2500\n",
              "LawEnforcement-Security    2500\n",
              "Manufacturing              2500\n",
              "Maritime                   2500\n",
              "Marketing                  2500\n",
              "Military                   2500\n",
              "Museums-Libraries          2500\n",
              "Non-Profit                 2500\n",
              "Publishing                 2500\n",
              "RealEstate                 2500\n",
              "Religion                   2500\n",
              "Science                    2500\n",
              "Sports-Recreation          2500\n",
              "Student                    2500\n",
              "Technology                 2500\n",
              "Telecommunications         2500\n",
              "Tourism                    2500\n",
              "Transportation             2500\n",
              "Law                        2500\n",
              "InvestmentBanking          2500\n",
              "Internet                   2500\n",
              "Chemicals                  2500\n",
              "Agriculture                2500\n",
              "Architecture               2500\n",
              "Arts                       2500\n",
              "Automotive                 2500\n",
              "Banking                    2500\n",
              "Biotech                    2500\n",
              "BusinessServices           2500\n",
              "Communications-Media       2500\n",
              "HumanResources             2500\n",
              "Construction               2500\n",
              "Consulting                 2500\n",
              "Education                  2500\n",
              "Engineering                2500\n",
              "Environment                2500\n",
              "Fashion                    2500\n",
              "Government                 2500\n",
              "indUnk                     2500\n",
              "Name: topic, dtype: int64"
            ]
          },
          "execution_count": 50,
          "metadata": {},
          "output_type": "execute_result"
        }
      ],
      "source": [
        "# Total records for each individual class in Target variable\n",
        "df_resampled_balanced.topic.value_counts()"
      ]
    },
    {
      "cell_type": "code",
      "execution_count": null,
      "metadata": {
        "id": "19bdfnJhEEaa"
      },
      "outputs": [],
      "source": [
        "# Split data into train and test\n",
        "X_train_bal, X_test_bal, y_train_bal, y_test_bal = train_test_split(df_resampled_balanced['text'], df_resampled_balanced['topic'], test_size = 0.2, random_state = 42)"
      ]
    },
    {
      "cell_type": "code",
      "execution_count": null,
      "metadata": {
        "colab": {
          "base_uri": "https://localhost:8080/"
        },
        "id": "S_TBlGFTEGxC",
        "outputId": "2df7038f-a2cf-4313-f773-857a1b4c32c4"
      },
      "outputs": [
        {
          "name": "stdout",
          "output_type": "stream",
          "text": [
            "(80000,)\n",
            "(80000,)\n",
            "(20000,)\n",
            "(20000,)\n"
          ]
        }
      ],
      "source": [
        "# Print shape of all the 4 data split into x, y, train, test to verify if x & y is in sync. \n",
        "print(X_train_bal.shape)\n",
        "print(y_train_bal.shape)\n",
        "print(X_test_bal.shape)\n",
        "print(y_test_bal.shape)"
      ]
    },
    {
      "cell_type": "code",
      "execution_count": null,
      "metadata": {
        "id": "3KAXIiz_5DQ-"
      },
      "outputs": [],
      "source": [
        "# Vectorize data using any one vectorizer\n",
        "from sklearn.feature_extraction.text import CountVectorizer\n",
        "\n",
        "vectorizer_bal = CountVectorizer()\n",
        "X_train_vectorized_bal = vectorizer_bal.fit_transform(X_train_bal)\n",
        "X_test_vectorized_bal = vectorizer_bal.transform(X_test_bal)"
      ]
    },
    {
      "cell_type": "code",
      "execution_count": null,
      "metadata": {
        "colab": {
          "base_uri": "https://localhost:8080/",
          "height": 74
        },
        "id": "Eo2bO_gS-147",
        "outputId": "ce6ee99d-44e0-4270-92c8-381d9a633357"
      },
      "outputs": [
        {
          "data": {
            "text/html": [
              "<style>#sk-container-id-2 {color: black;background-color: white;}#sk-container-id-2 pre{padding: 0;}#sk-container-id-2 div.sk-toggleable {background-color: white;}#sk-container-id-2 label.sk-toggleable__label {cursor: pointer;display: block;width: 100%;margin-bottom: 0;padding: 0.3em;box-sizing: border-box;text-align: center;}#sk-container-id-2 label.sk-toggleable__label-arrow:before {content: \"▸\";float: left;margin-right: 0.25em;color: #696969;}#sk-container-id-2 label.sk-toggleable__label-arrow:hover:before {color: black;}#sk-container-id-2 div.sk-estimator:hover label.sk-toggleable__label-arrow:before {color: black;}#sk-container-id-2 div.sk-toggleable__content {max-height: 0;max-width: 0;overflow: hidden;text-align: left;background-color: #f0f8ff;}#sk-container-id-2 div.sk-toggleable__content pre {margin: 0.2em;color: black;border-radius: 0.25em;background-color: #f0f8ff;}#sk-container-id-2 input.sk-toggleable__control:checked~div.sk-toggleable__content {max-height: 200px;max-width: 100%;overflow: auto;}#sk-container-id-2 input.sk-toggleable__control:checked~label.sk-toggleable__label-arrow:before {content: \"▾\";}#sk-container-id-2 div.sk-estimator input.sk-toggleable__control:checked~label.sk-toggleable__label {background-color: #d4ebff;}#sk-container-id-2 div.sk-label input.sk-toggleable__control:checked~label.sk-toggleable__label {background-color: #d4ebff;}#sk-container-id-2 input.sk-hidden--visually {border: 0;clip: rect(1px 1px 1px 1px);clip: rect(1px, 1px, 1px, 1px);height: 1px;margin: -1px;overflow: hidden;padding: 0;position: absolute;width: 1px;}#sk-container-id-2 div.sk-estimator {font-family: monospace;background-color: #f0f8ff;border: 1px dotted black;border-radius: 0.25em;box-sizing: border-box;margin-bottom: 0.5em;}#sk-container-id-2 div.sk-estimator:hover {background-color: #d4ebff;}#sk-container-id-2 div.sk-parallel-item::after {content: \"\";width: 100%;border-bottom: 1px solid gray;flex-grow: 1;}#sk-container-id-2 div.sk-label:hover label.sk-toggleable__label {background-color: #d4ebff;}#sk-container-id-2 div.sk-serial::before {content: \"\";position: absolute;border-left: 1px solid gray;box-sizing: border-box;top: 0;bottom: 0;left: 50%;z-index: 0;}#sk-container-id-2 div.sk-serial {display: flex;flex-direction: column;align-items: center;background-color: white;padding-right: 0.2em;padding-left: 0.2em;position: relative;}#sk-container-id-2 div.sk-item {position: relative;z-index: 1;}#sk-container-id-2 div.sk-parallel {display: flex;align-items: stretch;justify-content: center;background-color: white;position: relative;}#sk-container-id-2 div.sk-item::before, #sk-container-id-2 div.sk-parallel-item::before {content: \"\";position: absolute;border-left: 1px solid gray;box-sizing: border-box;top: 0;bottom: 0;left: 50%;z-index: -1;}#sk-container-id-2 div.sk-parallel-item {display: flex;flex-direction: column;z-index: 1;position: relative;background-color: white;}#sk-container-id-2 div.sk-parallel-item:first-child::after {align-self: flex-end;width: 50%;}#sk-container-id-2 div.sk-parallel-item:last-child::after {align-self: flex-start;width: 50%;}#sk-container-id-2 div.sk-parallel-item:only-child::after {width: 0;}#sk-container-id-2 div.sk-dashed-wrapped {border: 1px dashed gray;margin: 0 0.4em 0.5em 0.4em;box-sizing: border-box;padding-bottom: 0.4em;background-color: white;}#sk-container-id-2 div.sk-label label {font-family: monospace;font-weight: bold;display: inline-block;line-height: 1.2em;}#sk-container-id-2 div.sk-label-container {text-align: center;}#sk-container-id-2 div.sk-container {/* jupyter's `normalize.less` sets `[hidden] { display: none; }` but bootstrap.min.css set `[hidden] { display: none !important; }` so we also need the `!important` here to be able to override the default hidden behavior on the sphinx rendered scikit-learn.org. See: https://github.com/scikit-learn/scikit-learn/issues/21755 */display: inline-block !important;position: relative;}#sk-container-id-2 div.sk-text-repr-fallback {display: none;}</style><div id=\"sk-container-id-2\" class=\"sk-top-container\"><div class=\"sk-text-repr-fallback\"><pre>LogisticRegression()</pre><b>In a Jupyter environment, please rerun this cell to show the HTML representation or trust the notebook. <br />On GitHub, the HTML representation is unable to render, please try loading this page with nbviewer.org.</b></div><div class=\"sk-container\" hidden><div class=\"sk-item\"><div class=\"sk-estimator sk-toggleable\"><input class=\"sk-toggleable__control sk-hidden--visually\" id=\"sk-estimator-id-2\" type=\"checkbox\" checked><label for=\"sk-estimator-id-2\" class=\"sk-toggleable__label sk-toggleable__label-arrow\">LogisticRegression</label><div class=\"sk-toggleable__content\"><pre>LogisticRegression()</pre></div></div></div></div></div>"
            ],
            "text/plain": [
              "LogisticRegression()"
            ]
          },
          "execution_count": 54,
          "metadata": {},
          "output_type": "execute_result"
        }
      ],
      "source": [
        "# Build a base model for Supervised Learning - Classification on balanced dataset\n",
        "from sklearn.linear_model import LogisticRegression\n",
        "\n",
        "model_bal = LogisticRegression()\n",
        "model_bal.fit(X_train_vectorized_bal, y_train_bal)"
      ]
    },
    {
      "cell_type": "code",
      "execution_count": null,
      "metadata": {
        "colab": {
          "base_uri": "https://localhost:8080/"
        },
        "id": "nyOX0fm9mKSR",
        "outputId": "3ab51e62-93b8-40b2-836e-b04e71c7e987"
      },
      "outputs": [
        {
          "name": "stdout",
          "output_type": "stream",
          "text": [
            "Logistic Regression Base Model after Dataset Balancing, Accuracy: 0.80285\n",
            "Logistic Regression Base Model after Dataset Balancing, Precision: 0.7815535301887515\n",
            "Logistic Regression Base Model after Dataset Balancing, Recall: 0.8026373654463395\n"
          ]
        }
      ],
      "source": [
        "# E. Clearly print Performance Metrics\n",
        "from sklearn.metrics import accuracy_score, precision_score, recall_score, roc_auc_score\n",
        "\n",
        "y_pred_lr = model_bal.predict(X_test_vectorized_bal)\n",
        "accuracy_lr = accuracy_score(y_test_bal, y_pred_lr)\n",
        "precision_lr = precision_score(y_test_bal, y_pred_lr, average='macro')\n",
        "recall_lr = recall_score(y_test_bal, y_pred_lr, average='macro')\n",
        "#roc_auc_lr = roc_auc_score(y_test_bal, y_pred_lr)\n",
        "\n",
        "print(f\"Logistic Regression Base Model after Dataset Balancing, Accuracy: {accuracy_lr}\")\n",
        "print(f\"Logistic Regression Base Model after Dataset Balancing, Precision: {precision_lr}\")\n",
        "print(f\"Logistic Regression Base Model after Dataset Balancing, Recall: {recall_lr}\")\n",
        "#print(f\"Logistic Regression Base Model after Dataset Balancing, ROC-AUC: {roc_auc_lr}\")"
      ]
    },
    {
      "cell_type": "markdown",
      "source": [
        "#### Note:\n",
        "\n",
        "We can not print ROC-AUC metric for the target variable, Topic, since it has more than 2 classes, 40 classes here. And printing the ROC-AUC metric for multi-class classification using one-vs-rest approach is time intensive."
      ],
      "metadata": {
        "id": "nIUWa7mj8ZBU"
      }
    },
    {
      "cell_type": "markdown",
      "source": [
        "#### Observations:\n",
        "\n",
        "1) The model performance increased from 36.80% in the base model(imbalanced dataset) to 80.26%, after training the Base LR model on a balanced dataset."
      ],
      "metadata": {
        "id": "TCmRT7FE794o"
      }
    },
    {
      "cell_type": "markdown",
      "metadata": {
        "id": "GEHSjnJ50Rpn"
      },
      "source": [
        "## 4.\tImprove Performance of model. "
      ]
    },
    {
      "cell_type": "code",
      "execution_count": null,
      "metadata": {
        "id": "ClFfKoiJ0PkA"
      },
      "outputs": [],
      "source": [
        "# A. Experiment with other vectorizers:\n",
        "from sklearn.feature_extraction.text import TfidfVectorizer\n",
        "\n",
        "vectorizer_td = TfidfVectorizer()\n",
        "X_train_vectorized_td = vectorizer_td.fit_transform(X_train_bal)\n",
        "X_test_vectorized_td = vectorizer_td.transform(X_test_bal)"
      ]
    },
    {
      "cell_type": "code",
      "execution_count": null,
      "metadata": {
        "colab": {
          "base_uri": "https://localhost:8080/",
          "height": 74
        },
        "id": "ew5_MKlU0mNF",
        "outputId": "efe14d31-d369-4bb1-d94f-50ff0d33d35f"
      },
      "outputs": [
        {
          "data": {
            "text/html": [
              "<style>#sk-container-id-3 {color: black;background-color: white;}#sk-container-id-3 pre{padding: 0;}#sk-container-id-3 div.sk-toggleable {background-color: white;}#sk-container-id-3 label.sk-toggleable__label {cursor: pointer;display: block;width: 100%;margin-bottom: 0;padding: 0.3em;box-sizing: border-box;text-align: center;}#sk-container-id-3 label.sk-toggleable__label-arrow:before {content: \"▸\";float: left;margin-right: 0.25em;color: #696969;}#sk-container-id-3 label.sk-toggleable__label-arrow:hover:before {color: black;}#sk-container-id-3 div.sk-estimator:hover label.sk-toggleable__label-arrow:before {color: black;}#sk-container-id-3 div.sk-toggleable__content {max-height: 0;max-width: 0;overflow: hidden;text-align: left;background-color: #f0f8ff;}#sk-container-id-3 div.sk-toggleable__content pre {margin: 0.2em;color: black;border-radius: 0.25em;background-color: #f0f8ff;}#sk-container-id-3 input.sk-toggleable__control:checked~div.sk-toggleable__content {max-height: 200px;max-width: 100%;overflow: auto;}#sk-container-id-3 input.sk-toggleable__control:checked~label.sk-toggleable__label-arrow:before {content: \"▾\";}#sk-container-id-3 div.sk-estimator input.sk-toggleable__control:checked~label.sk-toggleable__label {background-color: #d4ebff;}#sk-container-id-3 div.sk-label input.sk-toggleable__control:checked~label.sk-toggleable__label {background-color: #d4ebff;}#sk-container-id-3 input.sk-hidden--visually {border: 0;clip: rect(1px 1px 1px 1px);clip: rect(1px, 1px, 1px, 1px);height: 1px;margin: -1px;overflow: hidden;padding: 0;position: absolute;width: 1px;}#sk-container-id-3 div.sk-estimator {font-family: monospace;background-color: #f0f8ff;border: 1px dotted black;border-radius: 0.25em;box-sizing: border-box;margin-bottom: 0.5em;}#sk-container-id-3 div.sk-estimator:hover {background-color: #d4ebff;}#sk-container-id-3 div.sk-parallel-item::after {content: \"\";width: 100%;border-bottom: 1px solid gray;flex-grow: 1;}#sk-container-id-3 div.sk-label:hover label.sk-toggleable__label {background-color: #d4ebff;}#sk-container-id-3 div.sk-serial::before {content: \"\";position: absolute;border-left: 1px solid gray;box-sizing: border-box;top: 0;bottom: 0;left: 50%;z-index: 0;}#sk-container-id-3 div.sk-serial {display: flex;flex-direction: column;align-items: center;background-color: white;padding-right: 0.2em;padding-left: 0.2em;position: relative;}#sk-container-id-3 div.sk-item {position: relative;z-index: 1;}#sk-container-id-3 div.sk-parallel {display: flex;align-items: stretch;justify-content: center;background-color: white;position: relative;}#sk-container-id-3 div.sk-item::before, #sk-container-id-3 div.sk-parallel-item::before {content: \"\";position: absolute;border-left: 1px solid gray;box-sizing: border-box;top: 0;bottom: 0;left: 50%;z-index: -1;}#sk-container-id-3 div.sk-parallel-item {display: flex;flex-direction: column;z-index: 1;position: relative;background-color: white;}#sk-container-id-3 div.sk-parallel-item:first-child::after {align-self: flex-end;width: 50%;}#sk-container-id-3 div.sk-parallel-item:last-child::after {align-self: flex-start;width: 50%;}#sk-container-id-3 div.sk-parallel-item:only-child::after {width: 0;}#sk-container-id-3 div.sk-dashed-wrapped {border: 1px dashed gray;margin: 0 0.4em 0.5em 0.4em;box-sizing: border-box;padding-bottom: 0.4em;background-color: white;}#sk-container-id-3 div.sk-label label {font-family: monospace;font-weight: bold;display: inline-block;line-height: 1.2em;}#sk-container-id-3 div.sk-label-container {text-align: center;}#sk-container-id-3 div.sk-container {/* jupyter's `normalize.less` sets `[hidden] { display: none; }` but bootstrap.min.css set `[hidden] { display: none !important; }` so we also need the `!important` here to be able to override the default hidden behavior on the sphinx rendered scikit-learn.org. See: https://github.com/scikit-learn/scikit-learn/issues/21755 */display: inline-block !important;position: relative;}#sk-container-id-3 div.sk-text-repr-fallback {display: none;}</style><div id=\"sk-container-id-3\" class=\"sk-top-container\"><div class=\"sk-text-repr-fallback\"><pre>MultinomialNB()</pre><b>In a Jupyter environment, please rerun this cell to show the HTML representation or trust the notebook. <br />On GitHub, the HTML representation is unable to render, please try loading this page with nbviewer.org.</b></div><div class=\"sk-container\" hidden><div class=\"sk-item\"><div class=\"sk-estimator sk-toggleable\"><input class=\"sk-toggleable__control sk-hidden--visually\" id=\"sk-estimator-id-3\" type=\"checkbox\" checked><label for=\"sk-estimator-id-3\" class=\"sk-toggleable__label sk-toggleable__label-arrow\">MultinomialNB</label><div class=\"sk-toggleable__content\"><pre>MultinomialNB()</pre></div></div></div></div></div>"
            ],
            "text/plain": [
              "MultinomialNB()"
            ]
          },
          "execution_count": 57,
          "metadata": {},
          "output_type": "execute_result"
        }
      ],
      "source": [
        "# B. Build classifier models using other algorithms:\n",
        "from sklearn.naive_bayes import MultinomialNB\n",
        "\n",
        "model_NB = MultinomialNB()\n",
        "model_NB.fit(X_train_vectorized_td, y_train_bal)"
      ]
    },
    {
      "cell_type": "code",
      "execution_count": null,
      "metadata": {
        "colab": {
          "base_uri": "https://localhost:8080/"
        },
        "id": "P8rqsnQI7JEY",
        "outputId": "5392ec55-074c-48d1-8553-1e01afcaecdf"
      },
      "outputs": [
        {
          "name": "stdout",
          "output_type": "stream",
          "text": [
            "Multinomial Naive Bayes Classifier Base Model after Dataset Balancing, Accuracy: 0.69855\n",
            "Multinomial Naive Bayes Classifier Base Model after Dataset Balancing, Precision: 0.743268692240834\n",
            "Multinomial Naive Bayes Classifier Base Model after Dataset Balancing, Recall: 0.6988864349434728\n"
          ]
        }
      ],
      "source": [
        "# D. Print performance metrics:\n",
        "from sklearn.metrics import accuracy_score, precision_score, recall_score, roc_auc_score\n",
        "\n",
        "y_pred_nb = model_NB.predict(X_test_vectorized_td)\n",
        "accuracy_nb = accuracy_score(y_test_bal, y_pred_nb)\n",
        "precision_nb = precision_score(y_test_bal, y_pred_nb, average='macro')\n",
        "recall_nb = recall_score(y_test_bal, y_pred_nb, average='macro')\n",
        "#roc_auc_nb = roc_auc_score(y_test_bal, y_pred_nb)\n",
        "\n",
        "print(f\"Multinomial Naive Bayes Classifier Base Model after Dataset Balancing, Accuracy: {accuracy_nb}\")\n",
        "print(f\"Multinomial Naive Bayes Classifier Base Model after Dataset Balancing, Precision: {precision_nb}\")\n",
        "print(f\"Multinomial Naive Bayes Classifier Base Model after Dataset Balancing, Recall: {recall_nb}\")\n",
        "#print(f\"Multinomial Naive Bayes Classifier Base Model after Dataset Balancing, ROC-AUC: {roc_auc_nb}\")"
      ]
    },
    {
      "cell_type": "markdown",
      "source": [
        "Note -\n",
        "\n",
        "We can not print ROC-AUC metric for the target variable, Topic, since it has more than 2 classes, 40 classes here. And printing the ROC-AUC metric for multi-class classification using one-vs-rest approach is time intensive.\n"
      ],
      "metadata": {
        "id": "UiI1DQay9szf"
      }
    },
    {
      "cell_type": "markdown",
      "source": [
        "#### Observations:\n",
        "\n",
        "1) The accuracy of NB Base model on the balanced dataset is 69.8% compared to 80.26% accuracy of the LR Base model."
      ],
      "metadata": {
        "id": "9sEseWff-B0i"
      }
    },
    {
      "cell_type": "code",
      "execution_count": null,
      "metadata": {
        "colab": {
          "base_uri": "https://localhost:8080/",
          "height": 51
        },
        "id": "GaXdlIwm7jTJ",
        "outputId": "ff421d97-730a-4104-96d2-a64b9974f79e"
      },
      "outputs": [
        {
          "data": {
            "text/html": [
              "<style>#sk-container-id-4 {color: black;background-color: white;}#sk-container-id-4 pre{padding: 0;}#sk-container-id-4 div.sk-toggleable {background-color: white;}#sk-container-id-4 label.sk-toggleable__label {cursor: pointer;display: block;width: 100%;margin-bottom: 0;padding: 0.3em;box-sizing: border-box;text-align: center;}#sk-container-id-4 label.sk-toggleable__label-arrow:before {content: \"▸\";float: left;margin-right: 0.25em;color: #696969;}#sk-container-id-4 label.sk-toggleable__label-arrow:hover:before {color: black;}#sk-container-id-4 div.sk-estimator:hover label.sk-toggleable__label-arrow:before {color: black;}#sk-container-id-4 div.sk-toggleable__content {max-height: 0;max-width: 0;overflow: hidden;text-align: left;background-color: #f0f8ff;}#sk-container-id-4 div.sk-toggleable__content pre {margin: 0.2em;color: black;border-radius: 0.25em;background-color: #f0f8ff;}#sk-container-id-4 input.sk-toggleable__control:checked~div.sk-toggleable__content {max-height: 200px;max-width: 100%;overflow: auto;}#sk-container-id-4 input.sk-toggleable__control:checked~label.sk-toggleable__label-arrow:before {content: \"▾\";}#sk-container-id-4 div.sk-estimator input.sk-toggleable__control:checked~label.sk-toggleable__label {background-color: #d4ebff;}#sk-container-id-4 div.sk-label input.sk-toggleable__control:checked~label.sk-toggleable__label {background-color: #d4ebff;}#sk-container-id-4 input.sk-hidden--visually {border: 0;clip: rect(1px 1px 1px 1px);clip: rect(1px, 1px, 1px, 1px);height: 1px;margin: -1px;overflow: hidden;padding: 0;position: absolute;width: 1px;}#sk-container-id-4 div.sk-estimator {font-family: monospace;background-color: #f0f8ff;border: 1px dotted black;border-radius: 0.25em;box-sizing: border-box;margin-bottom: 0.5em;}#sk-container-id-4 div.sk-estimator:hover {background-color: #d4ebff;}#sk-container-id-4 div.sk-parallel-item::after {content: \"\";width: 100%;border-bottom: 1px solid gray;flex-grow: 1;}#sk-container-id-4 div.sk-label:hover label.sk-toggleable__label {background-color: #d4ebff;}#sk-container-id-4 div.sk-serial::before {content: \"\";position: absolute;border-left: 1px solid gray;box-sizing: border-box;top: 0;bottom: 0;left: 50%;z-index: 0;}#sk-container-id-4 div.sk-serial {display: flex;flex-direction: column;align-items: center;background-color: white;padding-right: 0.2em;padding-left: 0.2em;position: relative;}#sk-container-id-4 div.sk-item {position: relative;z-index: 1;}#sk-container-id-4 div.sk-parallel {display: flex;align-items: stretch;justify-content: center;background-color: white;position: relative;}#sk-container-id-4 div.sk-item::before, #sk-container-id-4 div.sk-parallel-item::before {content: \"\";position: absolute;border-left: 1px solid gray;box-sizing: border-box;top: 0;bottom: 0;left: 50%;z-index: -1;}#sk-container-id-4 div.sk-parallel-item {display: flex;flex-direction: column;z-index: 1;position: relative;background-color: white;}#sk-container-id-4 div.sk-parallel-item:first-child::after {align-self: flex-end;width: 50%;}#sk-container-id-4 div.sk-parallel-item:last-child::after {align-self: flex-start;width: 50%;}#sk-container-id-4 div.sk-parallel-item:only-child::after {width: 0;}#sk-container-id-4 div.sk-dashed-wrapped {border: 1px dashed gray;margin: 0 0.4em 0.5em 0.4em;box-sizing: border-box;padding-bottom: 0.4em;background-color: white;}#sk-container-id-4 div.sk-label label {font-family: monospace;font-weight: bold;display: inline-block;line-height: 1.2em;}#sk-container-id-4 div.sk-label-container {text-align: center;}#sk-container-id-4 div.sk-container {/* jupyter's `normalize.less` sets `[hidden] { display: none; }` but bootstrap.min.css set `[hidden] { display: none !important; }` so we also need the `!important` here to be able to override the default hidden behavior on the sphinx rendered scikit-learn.org. See: https://github.com/scikit-learn/scikit-learn/issues/21755 */display: inline-block !important;position: relative;}#sk-container-id-4 div.sk-text-repr-fallback {display: none;}</style><div id=\"sk-container-id-4\" class=\"sk-top-container\"><div class=\"sk-text-repr-fallback\"><pre>RandomForestClassifier(n_estimators=2, n_jobs=-1, random_state=42)</pre><b>In a Jupyter environment, please rerun this cell to show the HTML representation or trust the notebook. <br />On GitHub, the HTML representation is unable to render, please try loading this page with nbviewer.org.</b></div><div class=\"sk-container\" hidden><div class=\"sk-item\"><div class=\"sk-estimator sk-toggleable\"><input class=\"sk-toggleable__control sk-hidden--visually\" id=\"sk-estimator-id-4\" type=\"checkbox\" checked><label for=\"sk-estimator-id-4\" class=\"sk-toggleable__label sk-toggleable__label-arrow\">RandomForestClassifier</label><div class=\"sk-toggleable__content\"><pre>RandomForestClassifier(n_estimators=2, n_jobs=-1, random_state=42)</pre></div></div></div></div></div>"
            ],
            "text/plain": [
              "RandomForestClassifier(n_estimators=2, n_jobs=-1, random_state=42)"
            ]
          },
          "execution_count": 59,
          "metadata": {},
          "output_type": "execute_result"
        }
      ],
      "source": [
        "# B. Build classifier models using other algorithms:\n",
        "# Create a Random Forest Classifier object\n",
        "model_rfc = RandomForestClassifier(n_estimators=2, random_state=42, n_jobs=-1)\n",
        "model_rfc.fit(X_train_vectorized_td, y_train_bal)"
      ]
    },
    {
      "cell_type": "code",
      "execution_count": null,
      "metadata": {
        "colab": {
          "base_uri": "https://localhost:8080/"
        },
        "id": "E2KFAbc0jhFR",
        "outputId": "4629952e-8a7d-44db-a553-1b97f550e317"
      },
      "outputs": [
        {
          "name": "stdout",
          "output_type": "stream",
          "text": [
            "Random Forest Classifier Base Model after Dataset Balancing, Accuracy: 0.78355\n",
            "Random Forest Classifier Base Model after Dataset Balancing, Precision: 0.7520589528831244\n",
            "Random Forest Classifier Base Model after Dataset Balancing, Recall: 0.7835183129218133\n"
          ]
        }
      ],
      "source": [
        "# D. Print performance metrics:\n",
        "from sklearn.metrics import accuracy_score, precision_score, recall_score, roc_auc_score\n",
        "\n",
        "y_pred_rfc = model_rfc.predict(X_test_vectorized_td)\n",
        "accuracy_rfc = accuracy_score(y_test_bal, y_pred_rfc)\n",
        "precision_rfc = precision_score(y_test_bal, y_pred_rfc, average='macro')\n",
        "recall_rfc = recall_score(y_test_bal, y_pred_rfc, average='macro')\n",
        "#roc_auc_rfc = roc_auc_score(y_test_bal, y_pred_rfc)\n",
        "\n",
        "print(f\"Random Forest Classifier Base Model after Dataset Balancing, Accuracy: {accuracy_rfc}\")\n",
        "print(f\"Random Forest Classifier Base Model after Dataset Balancing, Precision: {precision_rfc}\")\n",
        "print(f\"Random Forest Classifier Base Model after Dataset Balancing, Recall: {recall_rfc}\")\n",
        "#print(f\"Random Forest Classifier Base Model after Dataset Balancing, ROC-AUC: {roc_auc_rfc}\")"
      ]
    },
    {
      "cell_type": "markdown",
      "source": [
        "Note - \n",
        "\n",
        "We can not print ROC-AUC metric for the target variable, Topic, since it has more than 2 classes, 40 classes here. And printing the ROC-AUC metric for multi-class classification using one-vs-rest approach is time intensive.\n"
      ],
      "metadata": {
        "id": "052eb4ps9v3H"
      }
    },
    {
      "cell_type": "markdown",
      "source": [
        "#### Observations:\n",
        "\n",
        "1) The accuracy of RFC Base model on the balanced dataset is 78.35% compared to 80.26% accuracy of the LR Base model."
      ],
      "metadata": {
        "id": "m4LmZ7UA-kzS"
      }
    },
    {
      "cell_type": "code",
      "execution_count": null,
      "metadata": {
        "colab": {
          "background_save": true
        },
        "id": "MolUPjs5rLBI"
      },
      "outputs": [],
      "source": [
        "'''# C. Tune parameters/hyperparameters:\n",
        "from sklearn.model_selection import GridSearchCV\n",
        "\n",
        "# Define the parameter grid\n",
        "params = {\n",
        "    'n_estimators': [2, 5, 10],\n",
        "    'max_depth': [None, 5, 10],\n",
        "    'min_samples_split': [2, 5, 10, 100],\n",
        "    'min_samples_leaf': [1, 2, 4, 100]\n",
        "}\n",
        "\n",
        "grid_search1 = GridSearchCV(model_rfc, params)\n",
        "grid_search1.fit(X_train_vectorized_td, y_train_bal)\n",
        "best_model1 = grid_search1.best_estimator_"
      ]
    },
    {
      "cell_type": "code",
      "execution_count": null,
      "metadata": {
        "id": "S76fHLED6ias"
      },
      "outputs": [],
      "source": [
        "# C. Tune parameters/hyperparameters:\n",
        "from sklearn.model_selection import GridSearchCV\n",
        "\n",
        "# Define the parameter grid\n",
        "parameters = {\n",
        "    'n_estimators': [2, 5],\n",
        "    'max_depth': [None, 5],\n",
        "    'min_samples_split': [2, 5],\n",
        "    'min_samples_leaf': [1, 2],\n",
        "}\n",
        "\n",
        "grid_search = GridSearchCV(model_rfc, parameters)\n",
        "grid_search.fit(X_train_vectorized_td, y_train_bal)\n",
        "best_model = grid_search.best_estimator_"
      ]
    },
    {
      "cell_type": "code",
      "execution_count": null,
      "metadata": {
        "colab": {
          "base_uri": "https://localhost:8080/",
          "height": 74
        },
        "id": "qqQkLFxQqL-O",
        "outputId": "4350df5f-b75a-4b7b-faeb-5c53abc61285"
      },
      "outputs": [
        {
          "data": {
            "text/html": [
              "<style>#sk-container-id-5 {color: black;background-color: white;}#sk-container-id-5 pre{padding: 0;}#sk-container-id-5 div.sk-toggleable {background-color: white;}#sk-container-id-5 label.sk-toggleable__label {cursor: pointer;display: block;width: 100%;margin-bottom: 0;padding: 0.3em;box-sizing: border-box;text-align: center;}#sk-container-id-5 label.sk-toggleable__label-arrow:before {content: \"▸\";float: left;margin-right: 0.25em;color: #696969;}#sk-container-id-5 label.sk-toggleable__label-arrow:hover:before {color: black;}#sk-container-id-5 div.sk-estimator:hover label.sk-toggleable__label-arrow:before {color: black;}#sk-container-id-5 div.sk-toggleable__content {max-height: 0;max-width: 0;overflow: hidden;text-align: left;background-color: #f0f8ff;}#sk-container-id-5 div.sk-toggleable__content pre {margin: 0.2em;color: black;border-radius: 0.25em;background-color: #f0f8ff;}#sk-container-id-5 input.sk-toggleable__control:checked~div.sk-toggleable__content {max-height: 200px;max-width: 100%;overflow: auto;}#sk-container-id-5 input.sk-toggleable__control:checked~label.sk-toggleable__label-arrow:before {content: \"▾\";}#sk-container-id-5 div.sk-estimator input.sk-toggleable__control:checked~label.sk-toggleable__label {background-color: #d4ebff;}#sk-container-id-5 div.sk-label input.sk-toggleable__control:checked~label.sk-toggleable__label {background-color: #d4ebff;}#sk-container-id-5 input.sk-hidden--visually {border: 0;clip: rect(1px 1px 1px 1px);clip: rect(1px, 1px, 1px, 1px);height: 1px;margin: -1px;overflow: hidden;padding: 0;position: absolute;width: 1px;}#sk-container-id-5 div.sk-estimator {font-family: monospace;background-color: #f0f8ff;border: 1px dotted black;border-radius: 0.25em;box-sizing: border-box;margin-bottom: 0.5em;}#sk-container-id-5 div.sk-estimator:hover {background-color: #d4ebff;}#sk-container-id-5 div.sk-parallel-item::after {content: \"\";width: 100%;border-bottom: 1px solid gray;flex-grow: 1;}#sk-container-id-5 div.sk-label:hover label.sk-toggleable__label {background-color: #d4ebff;}#sk-container-id-5 div.sk-serial::before {content: \"\";position: absolute;border-left: 1px solid gray;box-sizing: border-box;top: 0;bottom: 0;left: 50%;z-index: 0;}#sk-container-id-5 div.sk-serial {display: flex;flex-direction: column;align-items: center;background-color: white;padding-right: 0.2em;padding-left: 0.2em;position: relative;}#sk-container-id-5 div.sk-item {position: relative;z-index: 1;}#sk-container-id-5 div.sk-parallel {display: flex;align-items: stretch;justify-content: center;background-color: white;position: relative;}#sk-container-id-5 div.sk-item::before, #sk-container-id-5 div.sk-parallel-item::before {content: \"\";position: absolute;border-left: 1px solid gray;box-sizing: border-box;top: 0;bottom: 0;left: 50%;z-index: -1;}#sk-container-id-5 div.sk-parallel-item {display: flex;flex-direction: column;z-index: 1;position: relative;background-color: white;}#sk-container-id-5 div.sk-parallel-item:first-child::after {align-self: flex-end;width: 50%;}#sk-container-id-5 div.sk-parallel-item:last-child::after {align-self: flex-start;width: 50%;}#sk-container-id-5 div.sk-parallel-item:only-child::after {width: 0;}#sk-container-id-5 div.sk-dashed-wrapped {border: 1px dashed gray;margin: 0 0.4em 0.5em 0.4em;box-sizing: border-box;padding-bottom: 0.4em;background-color: white;}#sk-container-id-5 div.sk-label label {font-family: monospace;font-weight: bold;display: inline-block;line-height: 1.2em;}#sk-container-id-5 div.sk-label-container {text-align: center;}#sk-container-id-5 div.sk-container {/* jupyter's `normalize.less` sets `[hidden] { display: none; }` but bootstrap.min.css set `[hidden] { display: none !important; }` so we also need the `!important` here to be able to override the default hidden behavior on the sphinx rendered scikit-learn.org. See: https://github.com/scikit-learn/scikit-learn/issues/21755 */display: inline-block !important;position: relative;}#sk-container-id-5 div.sk-text-repr-fallback {display: none;}</style><div id=\"sk-container-id-5\" class=\"sk-top-container\"><div class=\"sk-text-repr-fallback\"><pre>RandomForestClassifier(n_estimators=5, n_jobs=-1, random_state=42)</pre><b>In a Jupyter environment, please rerun this cell to show the HTML representation or trust the notebook. <br />On GitHub, the HTML representation is unable to render, please try loading this page with nbviewer.org.</b></div><div class=\"sk-container\" hidden><div class=\"sk-item\"><div class=\"sk-estimator sk-toggleable\"><input class=\"sk-toggleable__control sk-hidden--visually\" id=\"sk-estimator-id-5\" type=\"checkbox\" checked><label for=\"sk-estimator-id-5\" class=\"sk-toggleable__label sk-toggleable__label-arrow\">RandomForestClassifier</label><div class=\"sk-toggleable__content\"><pre>RandomForestClassifier(n_estimators=5, n_jobs=-1, random_state=42)</pre></div></div></div></div></div>"
            ],
            "text/plain": [
              "RandomForestClassifier(n_estimators=5, n_jobs=-1, random_state=42)"
            ]
          },
          "execution_count": 66,
          "metadata": {},
          "output_type": "execute_result"
        }
      ],
      "source": [
        "# Best parameters learned from GridSearch\n",
        "grid_search.best_estimator_"
      ]
    },
    {
      "cell_type": "code",
      "execution_count": null,
      "metadata": {
        "colab": {
          "base_uri": "https://localhost:8080/"
        },
        "id": "mzPwmyLY6jse",
        "outputId": "cdd000d8-4fcb-4471-8f89-dfb818646ec8"
      },
      "outputs": [
        {
          "name": "stdout",
          "output_type": "stream",
          "text": [
            "Random Forest Classifier Tuned Model after Dataset Balancing,Accuracy: 0.83525\n",
            "Random Forest Classifier Tuned Model after Dataset Balancing,Precision: 0.8146679066511275\n",
            "Random Forest Classifier Tuned Model after Dataset Balancing,Recall: 0.8348878313573934\n"
          ]
        }
      ],
      "source": [
        "# D. Print performance metrics:\n",
        "from sklearn.metrics import accuracy_score, precision_score, recall_score, roc_auc_score\n",
        "\n",
        "y_pred_rfc_ht = best_model.predict(X_test_vectorized_td)\n",
        "accuracy_rfc_ht = accuracy_score(y_test_bal, y_pred_rfc_ht)\n",
        "precision_rfc_ht = precision_score(y_test_bal, y_pred_rfc_ht, average='macro')\n",
        "recall_rfc_ht = recall_score(y_test_bal, y_pred_rfc_ht, average='macro')\n",
        "#roc_auc_rfc_ht = roc_auc_score(y_test_bal, y_pred_rfc_ht)\n",
        "\n",
        "print(f\"Random Forest Classifier Tuned Model after Dataset Balancing,Accuracy: {accuracy_rfc_ht}\")\n",
        "print(f\"Random Forest Classifier Tuned Model after Dataset Balancing,Precision: {precision_rfc_ht}\")\n",
        "print(f\"Random Forest Classifier Tuned Model after Dataset Balancing,Recall: {recall_rfc_ht}\")\n",
        "#print(f\"Random Forest Classifier Tuned Model after Dataset Balancing,ROC-AUC: {roc_auc_rfc_ht}\")"
      ]
    },
    {
      "cell_type": "markdown",
      "source": [
        "Note - \n",
        "\n",
        "We can not print ROC-AUC metric for the target variable, Topic, since it has more than 2 classes, 40 classes here. And printing the ROC-AUC metric for multi-class classification using one-vs-rest approach is time intensive."
      ],
      "metadata": {
        "id": "pHO2i8Hj_ZGr"
      }
    },
    {
      "cell_type": "markdown",
      "source": [
        "#### Observations:\n",
        "\n",
        "1) The accuracy of RFC Tuned model on the balanced dataset is 83.48% compared to 80.26% accuracy of the LR Base model.\n",
        "\n",
        "2) The overall model performances are: LR Base model(balanced dataset) > RFC tuned model(balanced dataset) > RFC Base model(balanced dataset) > NB Base model(balanced dataset) > LR Base model(imbalanced dataset)\n",
        "\n"
      ],
      "metadata": {
        "id": "g4ctgnuP-yIO"
      }
    },
    {
      "cell_type": "markdown",
      "source": [
        "## 5.\tShare insights on relative performance comparison \n"
      ],
      "metadata": {
        "id": "pSWT7Xzw_-Hv"
      }
    },
    {
      "cell_type": "markdown",
      "source": [
        "#### A.\tWhich vectorizer performed better? Probable reason?. \n",
        "\n",
        "1) Count Vectorizer performed that TD-IDF vectorizer here, probably since  Count vectorizer provides a straightforward and interpretable representation of text data. \n",
        "\n",
        "2) TF-IDF on the other hand, takes into account not only the frequency of terms in a document but also their importance in the entire corpus. It assigns higher weights to terms that are more discriminative and informative for a particular document. With more distinctive training data, TF-IDF would probably perform better."
      ],
      "metadata": {
        "id": "IWrIws6yAJ5H"
      }
    },
    {
      "cell_type": "markdown",
      "source": [
        "#### B.\tWhich model outperformed? Probable reason? \n",
        "\n",
        "1) Even the Base Logistic Regression model trained on the balanced dataset delivered the best performance probably due to the model plotting an interpretable and linear decision boundary between the input feature(Text) and the output(Topic).\n",
        "\n",
        "2) Also, Logistic Regression can effectively handle noise/ irrelavant features by assigning low or zero coefficients to them during the model training process. Naive Bayes and Random Forest, on the other hand, may struggle to handle irrelevant features as they consider all features independently or in combination, respectively, without explicitly weighing their importance."
      ],
      "metadata": {
        "id": "Pnn8B1L-CTlZ"
      }
    },
    {
      "cell_type": "markdown",
      "source": [
        "#### C.\tWhich parameter/hyperparameter significantly helped to improve performance?Probable reason?\n",
        "\n",
        "1) By tuning the hyperparameters, specifically the number of estimators(trees) used in the Random Forest, the model's complexity and accuracy improved. \n",
        "\n",
        "2) A higher number of estimators allows the Random Forest to capture more diverse patterns and relationships in the dataset. This also allows to reduce the bias/ errors in making the correct predictions."
      ],
      "metadata": {
        "id": "GL0TW7uJDhU3"
      }
    },
    {
      "cell_type": "markdown",
      "source": [
        "#### D.\tAccording to you, which performance metric should be given most importance, why?. \n",
        "\n",
        "1) When the dataset is imbalanced, Precision and Recall are give better insights since they focus on the correct predictions of the minority class.\n",
        "\n",
        "2) When the dataset is imbalanced, Accuracy would give the better picture of overall model performance.\n",
        "\n",
        "3) AUC-ROC score can be useful for binary classification tasks to distinguish between positive and negative classes across different classification thresholds."
      ],
      "metadata": {
        "id": "l-VhoEuiEraw"
      }
    },
    {
      "cell_type": "markdown",
      "source": [
        "## End of Part A"
      ],
      "metadata": {
        "id": "4mmP1RtKbjhG"
      }
    },
    {
      "cell_type": "markdown",
      "source": [
        "## Part B"
      ],
      "metadata": {
        "id": "8xh2Sib6bAfB"
      }
    },
    {
      "cell_type": "markdown",
      "source": [
        "• DOMAIN: Customer support\n",
        "• CONTEXT: Great Learning has a an academic support department which receives numerous support requests every day throughout the year.\n",
        "Teams are spread across geographies and try to provide support round the year. Sometimes there are circumstances where due to heavy\n",
        "workload certain request resolutions are delayed, impacting company’s business. Some of the requests are very generic where a proper\n",
        "resolution procedure delivered to the user can solve the problem. Company is looking forward to design an automation which can interact with\n",
        "the user, understand the problem and display the resolution procedure [ if found as a generic request ] or redirect the request to an actual human\n",
        "support executive if the request is complex or not in it’s database.\n",
        "• DATA DESCRIPTION: A sample corpus is attached for your reference. Please enhance/add more data to the corpus using your linguistics skills.\n",
        "• PROJECT OBJECTIVE: Design a python based interactive semi - rule based chatbot which can do the following:\n",
        "1. Start chat session with greetings and ask what the user is looking for. [5 Marks]\n",
        "2. Accept dynamic text based questions from the user. Reply back with relevant answer from the designed corpus. [10 Marks]\n",
        "3. End the chat session only if the user requests to end else ask what the user is looking for. Loop continues till the user asks to end it. [5 Marks]\n",
        "Hint: There are a lot of techniques using which one can clean and prepare the data which can be used to train a ML/DL classifier. Hence, it might\n",
        "require you to experiment, research, self learn and implement the above classifier. There might be many iterations between hand building the\n",
        "corpus and designing the best fit text classifier. As the quality and quantity of corpus increases the model’s performance i.e. ability to answer\n",
        "right questions also increases.\n",
        " Reference: https://www.mygreatlearning.com/blog/basics-of-building-an-artificial-intelligence-chatbot/\n",
        "• Evaluation: Evaluator will use linguistics to twist and turn sentences to ask questions on the topics described in DATA DESCRIPTION and check if\n",
        "the bot is giving relevant replies."
      ],
      "metadata": {
        "id": "DmeDMx1wbF9P"
      }
    },
    {
      "cell_type": "markdown",
      "source": [
        "### Step 1: Data Preprocessing"
      ],
      "metadata": {
        "id": "rBbi6zUUitGG"
      }
    },
    {
      "cell_type": "code",
      "source": [
        "import json\n",
        "import nltk\n",
        "from nltk.tokenize import word_tokenize\n",
        "from nltk.stem import WordNetLemmatizer\n",
        "\n",
        "# Load the corpus\n",
        "with open('/content/drive/MyDrive/Great_Learning_Repos/00/04_GL_Projects/09_NLP/GL Bot.json') as file:\n",
        "    corpus = json.load(file)\n",
        "\n",
        "# Preprocess the data\n",
        "lemmatizer = WordNetLemmatizer()\n",
        "intents = corpus['intents']\n",
        "\n",
        "# Tokenize and lemmatize the patterns and responses\n",
        "for intent in intents:\n",
        "    patterns = intent['patterns']\n",
        "    intent['tokenized_patterns'] = [word_tokenize(pattern.lower()) for pattern in patterns]\n",
        "    intent['lemmatized_patterns'] = [[lemmatizer.lemmatize(token) for token in pattern] for pattern in intent['tokenized_patterns']]\n",
        "\n",
        "    responses = intent['responses']\n",
        "    intent['tokenized_responses'] = [word_tokenize(response) for response in responses]\n",
        "    intent['lemmatized_responses'] = [[lemmatizer.lemmatize(token) for token in response] for response in intent['tokenized_responses']]"
      ],
      "metadata": {
        "id": "-mNNUKHtbBQ5"
      },
      "execution_count": null,
      "outputs": []
    },
    {
      "cell_type": "markdown",
      "source": [
        "### Step 2: Feature Extraction"
      ],
      "metadata": {
        "id": "xF2HGnPqiwvC"
      }
    },
    {
      "cell_type": "code",
      "source": [
        "from sklearn.feature_extraction.text import TfidfVectorizer\n",
        "\n",
        "# Collect patterns and intents\n",
        "patterns = []\n",
        "intents_list = []\n",
        "\n",
        "for intent in intents:\n",
        "    patterns.extend(intent['lemmatized_patterns'])\n",
        "    intents_list.extend([intent['tag']] * len(intent['lemmatized_patterns']))\n",
        "\n",
        "# Vectorize the patterns using TF-IDF\n",
        "vectorizer = TfidfVectorizer()\n",
        "features = vectorizer.fit_transform([' '.join(pattern) for pattern in patterns])"
      ],
      "metadata": {
        "id": "QDE3lfIDbJ0c"
      },
      "execution_count": null,
      "outputs": []
    },
    {
      "cell_type": "markdown",
      "source": [
        "### Step 3: Model Training"
      ],
      "metadata": {
        "id": "0-ZtueWpi2wh"
      }
    },
    {
      "cell_type": "code",
      "source": [
        "classifier = RandomForestClassifier(n_estimators=100, random_state=42, n_jobs=-1)\n",
        "classifier.fit(features, intents_list)"
      ],
      "metadata": {
        "colab": {
          "base_uri": "https://localhost:8080/",
          "height": 74
        },
        "id": "4NBzcdtTbL-z",
        "outputId": "af7a8ac9-6e26-4777-c473-035f281a7e06"
      },
      "execution_count": null,
      "outputs": [
        {
          "output_type": "execute_result",
          "data": {
            "text/plain": [
              "RandomForestClassifier(n_jobs=-1, random_state=42)"
            ],
            "text/html": [
              "<style>#sk-container-id-3 {color: black;background-color: white;}#sk-container-id-3 pre{padding: 0;}#sk-container-id-3 div.sk-toggleable {background-color: white;}#sk-container-id-3 label.sk-toggleable__label {cursor: pointer;display: block;width: 100%;margin-bottom: 0;padding: 0.3em;box-sizing: border-box;text-align: center;}#sk-container-id-3 label.sk-toggleable__label-arrow:before {content: \"▸\";float: left;margin-right: 0.25em;color: #696969;}#sk-container-id-3 label.sk-toggleable__label-arrow:hover:before {color: black;}#sk-container-id-3 div.sk-estimator:hover label.sk-toggleable__label-arrow:before {color: black;}#sk-container-id-3 div.sk-toggleable__content {max-height: 0;max-width: 0;overflow: hidden;text-align: left;background-color: #f0f8ff;}#sk-container-id-3 div.sk-toggleable__content pre {margin: 0.2em;color: black;border-radius: 0.25em;background-color: #f0f8ff;}#sk-container-id-3 input.sk-toggleable__control:checked~div.sk-toggleable__content {max-height: 200px;max-width: 100%;overflow: auto;}#sk-container-id-3 input.sk-toggleable__control:checked~label.sk-toggleable__label-arrow:before {content: \"▾\";}#sk-container-id-3 div.sk-estimator input.sk-toggleable__control:checked~label.sk-toggleable__label {background-color: #d4ebff;}#sk-container-id-3 div.sk-label input.sk-toggleable__control:checked~label.sk-toggleable__label {background-color: #d4ebff;}#sk-container-id-3 input.sk-hidden--visually {border: 0;clip: rect(1px 1px 1px 1px);clip: rect(1px, 1px, 1px, 1px);height: 1px;margin: -1px;overflow: hidden;padding: 0;position: absolute;width: 1px;}#sk-container-id-3 div.sk-estimator {font-family: monospace;background-color: #f0f8ff;border: 1px dotted black;border-radius: 0.25em;box-sizing: border-box;margin-bottom: 0.5em;}#sk-container-id-3 div.sk-estimator:hover {background-color: #d4ebff;}#sk-container-id-3 div.sk-parallel-item::after {content: \"\";width: 100%;border-bottom: 1px solid gray;flex-grow: 1;}#sk-container-id-3 div.sk-label:hover label.sk-toggleable__label {background-color: #d4ebff;}#sk-container-id-3 div.sk-serial::before {content: \"\";position: absolute;border-left: 1px solid gray;box-sizing: border-box;top: 0;bottom: 0;left: 50%;z-index: 0;}#sk-container-id-3 div.sk-serial {display: flex;flex-direction: column;align-items: center;background-color: white;padding-right: 0.2em;padding-left: 0.2em;position: relative;}#sk-container-id-3 div.sk-item {position: relative;z-index: 1;}#sk-container-id-3 div.sk-parallel {display: flex;align-items: stretch;justify-content: center;background-color: white;position: relative;}#sk-container-id-3 div.sk-item::before, #sk-container-id-3 div.sk-parallel-item::before {content: \"\";position: absolute;border-left: 1px solid gray;box-sizing: border-box;top: 0;bottom: 0;left: 50%;z-index: -1;}#sk-container-id-3 div.sk-parallel-item {display: flex;flex-direction: column;z-index: 1;position: relative;background-color: white;}#sk-container-id-3 div.sk-parallel-item:first-child::after {align-self: flex-end;width: 50%;}#sk-container-id-3 div.sk-parallel-item:last-child::after {align-self: flex-start;width: 50%;}#sk-container-id-3 div.sk-parallel-item:only-child::after {width: 0;}#sk-container-id-3 div.sk-dashed-wrapped {border: 1px dashed gray;margin: 0 0.4em 0.5em 0.4em;box-sizing: border-box;padding-bottom: 0.4em;background-color: white;}#sk-container-id-3 div.sk-label label {font-family: monospace;font-weight: bold;display: inline-block;line-height: 1.2em;}#sk-container-id-3 div.sk-label-container {text-align: center;}#sk-container-id-3 div.sk-container {/* jupyter's `normalize.less` sets `[hidden] { display: none; }` but bootstrap.min.css set `[hidden] { display: none !important; }` so we also need the `!important` here to be able to override the default hidden behavior on the sphinx rendered scikit-learn.org. See: https://github.com/scikit-learn/scikit-learn/issues/21755 */display: inline-block !important;position: relative;}#sk-container-id-3 div.sk-text-repr-fallback {display: none;}</style><div id=\"sk-container-id-3\" class=\"sk-top-container\"><div class=\"sk-text-repr-fallback\"><pre>RandomForestClassifier(n_jobs=-1, random_state=42)</pre><b>In a Jupyter environment, please rerun this cell to show the HTML representation or trust the notebook. <br />On GitHub, the HTML representation is unable to render, please try loading this page with nbviewer.org.</b></div><div class=\"sk-container\" hidden><div class=\"sk-item\"><div class=\"sk-estimator sk-toggleable\"><input class=\"sk-toggleable__control sk-hidden--visually\" id=\"sk-estimator-id-3\" type=\"checkbox\" checked><label for=\"sk-estimator-id-3\" class=\"sk-toggleable__label sk-toggleable__label-arrow\">RandomForestClassifier</label><div class=\"sk-toggleable__content\"><pre>RandomForestClassifier(n_jobs=-1, random_state=42)</pre></div></div></div></div></div>"
            ]
          },
          "metadata": {},
          "execution_count": 164
        }
      ]
    },
    {
      "cell_type": "markdown",
      "source": [
        "### Step 4: User Interaction"
      ],
      "metadata": {
        "id": "COO7y7sGi8WC"
      }
    },
    {
      "cell_type": "code",
      "source": [
        "def preprocess_input(user_input):\n",
        "    tokenized_input = word_tokenize(user_input.lower())\n",
        "    lemmatized_input = [lemmatizer.lemmatize(token) for token in tokenized_input]\n",
        "    return lemmatized_input\n",
        "\n",
        "import random  \n",
        "def generate_response(intent_tag):\n",
        "    for intent in intents:\n",
        "        if intent['tag'] == intent_tag:\n",
        "            responses = intent['responses']\n",
        "            return random.choice(responses)\n",
        "\n",
        "def start_chat():\n",
        "    print(\"Chatbot: Hello! How can I assist you?\")\n",
        "    while True:\n",
        "        user_input = input(\"User: \")\n",
        "\n",
        "        # Preprocess user input\n",
        "        preprocessed_input = preprocess_input(user_input)\n",
        "\n",
        "        # Extract features from preprocessed input\n",
        "        input_features = vectorizer.transform([' '.join(preprocessed_input)])\n",
        "\n",
        "        # Predict intent using the trained classifier\n",
        "        predicted_intent = classifier.predict(input_features)[0]\n",
        "\n",
        "        # Generate and display response\n",
        "        response = generate_response(predicted_intent)\n",
        "        print(\"Chatbot: \" + response)\n",
        "\n",
        "        # End the loop if user requests to exit\n",
        "        if predicted_intent == 'Exit':\n",
        "            break"
      ],
      "metadata": {
        "id": "0bVBodmRbO8n"
      },
      "execution_count": null,
      "outputs": []
    },
    {
      "cell_type": "code",
      "source": [
        "# Start the chatbot conversation by calling the start_chat() function\n",
        "start_chat()"
      ],
      "metadata": {
        "colab": {
          "base_uri": "https://localhost:8080/"
        },
        "id": "pWOJdGkSbSJ7",
        "outputId": "f134049e-441f-4166-cfe5-9f7223fabee2"
      },
      "execution_count": null,
      "outputs": [
        {
          "output_type": "stream",
          "name": "stdout",
          "text": [
            "Chatbot: Hello! How can I assist you?\n",
            "User: Hi !!!!!\n",
            "Chatbot: Hello! how can i help you ?\n",
            "User: Who ARe yoU ?!\n",
            "Chatbot: I am your virtual learning assistant\n",
            "User: What is artificial intelligence ?\n",
            "Chatbot: https://en.wikipedia.org/wiki/Deep_learning\n",
            "User: And ML ?\n",
            "Chatbot: https://en.wikipedia.org/wiki/Machine_learning\n",
            "User: what the hell\n",
            "Chatbot: Please use respectful words\n",
            "User: Sorry, thank you\n",
            "Chatbot: I hope I was able to assist you, Good Bye\n"
          ]
        }
      ]
    },
    {
      "cell_type": "markdown",
      "source": [
        "## End of Part B"
      ],
      "metadata": {
        "id": "-Np2ptcWbclu"
      }
    },
    {
      "cell_type": "markdown",
      "source": [
        "## End Of Project"
      ],
      "metadata": {
        "id": "yIXnUrXAbfZc"
      }
    },
    {
      "cell_type": "code",
      "source": [
        "# convert colab .ipynb to .html\n",
        "!jupyter nbconvert --to HTML NLP_Project_1_Statistical_NLP.ipynb\n",
        "#!jupyter nbconvert NLP_Project_1_Statistical_NLP.ipynb --to slides --post serve"
      ],
      "metadata": {
        "id": "uqoaLhZYC9Gr",
        "colab": {
          "base_uri": "https://localhost:8080/"
        },
        "outputId": "3cc91b1a-68bd-4432-c042-c15369ddc7ed"
      },
      "execution_count": 12,
      "outputs": [
        {
          "output_type": "stream",
          "name": "stdout",
          "text": [
            "[NbConvertApp] Converting notebook NLP_Project_1_Statistical_NLP.ipynb to HTML\n",
            "[NbConvertApp] Writing 856924 bytes to NLP_Project_1_Statistical_NLP.html\n"
          ]
        }
      ]
    }
  ],
  "metadata": {
    "colab": {
      "provenance": []
    },
    "kernelspec": {
      "display_name": "Python 3",
      "name": "python3"
    },
    "language_info": {
      "name": "python"
    }
  },
  "nbformat": 4,
  "nbformat_minor": 0
}